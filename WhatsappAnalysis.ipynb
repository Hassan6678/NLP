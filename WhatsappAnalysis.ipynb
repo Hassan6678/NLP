{
 "cells": [
  {
   "cell_type": "code",
   "execution_count": 28,
   "source": [
    "import re\r\n",
    "import pandas as pd\r\n",
    "import numpy as np\r\n",
    "import matplotlib.pyplot as plt\r\n",
    "#!pip install seaborn\r\n",
    "import seaborn as sns\r\n",
    "from datetime import *\r\n",
    "import datetime as dt\r\n",
    "from matplotlib.ticker import MaxNLocator\r\n",
    "#!pip install regex\r\n",
    "import regex\r\n",
    "#!pip install emoji\r\n",
    "import emoji\r\n",
    "from seaborn import *\r\n",
    "#!pip install heatmap\r\n",
    "#from heatmap import heatmap\r\n",
    "#!pip install wordcloud\r\n",
    "#from wordcloud import WordCloud , STOPWORDS , ImageColorGenerator\r\n",
    "from nltk import *\r\n",
    "#from plotly import express as px"
   ],
   "outputs": [],
   "metadata": {}
  },
  {
   "cell_type": "markdown",
   "source": [
    "### Python code to extract Date from chat file "
   ],
   "metadata": {}
  },
  {
   "cell_type": "code",
   "execution_count": 84,
   "source": [
    "def startsWithDateAndTime(s):\r\n",
    "    # pattern = '^([0-9]+)(/)([0-9]+)(/)([0-9][0-9]), ([0-9]+):([0-9][0-9]) (AM|PM) -'\r\n",
    "    pattern = '[0-9]{2}/[0-9]{2}/[0-9]{4}'\r\n",
    "    result = re.match(pattern, s)\r\n",
    "    #print(result)\r\n",
    "    if result:\r\n",
    "        return True\r\n",
    "    return False"
   ],
   "outputs": [],
   "metadata": {}
  },
  {
   "cell_type": "markdown",
   "source": [
    "### Regex pattern to extract username of Author."
   ],
   "metadata": {}
  },
  {
   "cell_type": "code",
   "execution_count": 56,
   "source": [
    "\r\n",
    "def FindAuthor(s):\r\n",
    "    # ~~~~ Produce error ~~~~~ #\r\n",
    "    patterns = [\r\n",
    "        '([w]+):',                        # First Name\r\n",
    "        '([w]+[s]+[w]+):',              # First Name + Last Name\r\n",
    "        '([w]+[s]+[w]+[s]+[w]+):',    # First Name + Middle Name + Last Name\r\n",
    "        '([+]d{2} d{5} d{5}):',         # Mobile Number (India no.)\r\n",
    "        '([+]d{2} d{3} d{3} d{4}):',   # Mobile Number (US no.)\r\n",
    "        '([w]+)[u263a-U0001f999]+:',    # Name and Emoji              \r\n",
    "    ]\r\n",
    "    pattern = '^' + '|'.join(patterns)\r\n",
    "    \r\n",
    "    result = re.match(pattern, s)\r\n",
    "    if result:\r\n",
    "        return True\r\n",
    "    return False"
   ],
   "outputs": [],
   "metadata": {}
  },
  {
   "cell_type": "markdown",
   "source": [
    "### Extracting Date, Time, Author and message from the chat file."
   ],
   "metadata": {}
  },
  {
   "cell_type": "code",
   "execution_count": 99,
   "source": [
    "\r\n",
    "def getDataPoint(line):   \r\n",
    "    splitLine = line.split(' - ') \r\n",
    "    dateTime = splitLine[0]\r\n",
    "    date, time = dateTime.split(', ') \r\n",
    "    message = ' '.join(splitLine[1:])\r\n",
    "    #if FindAuthor(message): \r\n",
    "    splitMessage = message.split(': ') \r\n",
    "    author = splitMessage[0] \r\n",
    "    message = ' '.join(splitMessage[1:])\r\n",
    "    #else:\r\n",
    "    #    author = None\r\n",
    "    return date, time, author, message\r\n"
   ],
   "outputs": [],
   "metadata": {}
  },
  {
   "cell_type": "code",
   "execution_count": 100,
   "source": [
    "### Finally creating a dataframe and storing all data inside that dataframe.\r\n",
    "parsedData = [] # List to keep track of data so it can be used by a Pandas dataframe\r\n",
    "### Uploading exported chat file\r\n",
    "conversationPath = 'GroupChat.txt' # chat file\r\n",
    "with open(conversationPath, encoding=\"utf-8\") as fp:\r\n",
    "    ### Skipping first line of the file because contains information related to something about end-to-end encryption\r\n",
    "    fp.readline()\r\n",
    "    #fp.readline()\r\n",
    "    #fp.readline()\r\n",
    "    messageBuffer = [] \r\n",
    "    date, time, author = None, None, None\r\n",
    "    while True:\r\n",
    "        line = fp.readline()\r\n",
    "        #print(line)\r\n",
    "        if not line: \r\n",
    "            break\r\n",
    "        line = line.strip() \r\n",
    "        if startsWithDateAndTime(line): \r\n",
    "            #print(100)\r\n",
    "            if len(messageBuffer) > 0:\r\n",
    "                #print('!!!!!!!!!!!!!!!!!')\r\n",
    "                parsedData.append([date, time, author, ' '.join(messageBuffer)]) \r\n",
    "            messageBuffer.clear() \r\n",
    "            date, time, author, message = getDataPoint(line) \r\n",
    "            messageBuffer.append(message) \r\n",
    "        else:\r\n",
    "            #print(200)\r\n",
    "            messageBuffer.append(line)\r\n",
    "    \r\n",
    "print(len(parsedData))\r\n",
    "\r\n",
    "df = pd.DataFrame(parsedData, columns=['Date', 'Time', 'Author', 'Message']) # Initialising a pandas Dataframe.\r\n",
    "### changing datatype of \"Date\" column.\r\n",
    "df[\"Date\"] = pd.to_datetime(df[\"Date\"])"
   ],
   "outputs": [
    {
     "output_type": "stream",
     "name": "stdout",
     "text": [
      "1146\n"
     ]
    }
   ],
   "metadata": {}
  },
  {
   "cell_type": "code",
   "execution_count": 101,
   "source": [
    "df"
   ],
   "outputs": [
    {
     "output_type": "execute_result",
     "data": {
      "text/plain": [
       "           Date     Time                                             Author  \\\n",
       "0    2021-11-08  7:20 pm  Saad MS_34 created group \"2 dost or classmate 🤩😎\"   \n",
       "1    2021-11-08  7:20 pm                               Saad MS_34 added you   \n",
       "2    2021-11-08  7:21 pm                                                 HR   \n",
       "3    2021-11-08  7:21 pm                                         Saad MS_34   \n",
       "4    2021-11-08  7:22 pm                                                 HR   \n",
       "...         ...      ...                                                ...   \n",
       "1141 2021-08-14  2:04 pm                                                 HR   \n",
       "1142 2021-08-14  2:12 pm                                                 HR   \n",
       "1143 2021-08-14  2:12 pm                                                 HR   \n",
       "1144 2021-08-14  2:17 pm                                         Iqra MS_33   \n",
       "1145 2021-08-14  2:18 pm                                         Iqra MS_33   \n",
       "\n",
       "                                                Message  \n",
       "0                                                        \n",
       "1                                                        \n",
       "2                           Why you created this Group😄  \n",
       "3                                                     😂  \n",
       "4                               Rockstar ko b add kr ly  \n",
       "...                                                 ...  \n",
       "1141                                 Now Iqra on form 😄  \n",
       "1142                                      Relx rahy Mam  \n",
       "1143                                                 🙌🏼  \n",
       "1144  Her insan apny decision leny ka haq rkhta h so...  \n",
       "1145        Lekin zleel hny k bad dobara sy na aye phir  \n",
       "\n",
       "[1146 rows x 4 columns]"
      ],
      "text/html": [
       "<div>\n",
       "<style scoped>\n",
       "    .dataframe tbody tr th:only-of-type {\n",
       "        vertical-align: middle;\n",
       "    }\n",
       "\n",
       "    .dataframe tbody tr th {\n",
       "        vertical-align: top;\n",
       "    }\n",
       "\n",
       "    .dataframe thead th {\n",
       "        text-align: right;\n",
       "    }\n",
       "</style>\n",
       "<table border=\"1\" class=\"dataframe\">\n",
       "  <thead>\n",
       "    <tr style=\"text-align: right;\">\n",
       "      <th></th>\n",
       "      <th>Date</th>\n",
       "      <th>Time</th>\n",
       "      <th>Author</th>\n",
       "      <th>Message</th>\n",
       "    </tr>\n",
       "  </thead>\n",
       "  <tbody>\n",
       "    <tr>\n",
       "      <th>0</th>\n",
       "      <td>2021-11-08</td>\n",
       "      <td>7:20 pm</td>\n",
       "      <td>Saad MS_34 created group \"2 dost or classmate 🤩😎\"</td>\n",
       "      <td></td>\n",
       "    </tr>\n",
       "    <tr>\n",
       "      <th>1</th>\n",
       "      <td>2021-11-08</td>\n",
       "      <td>7:20 pm</td>\n",
       "      <td>Saad MS_34 added you</td>\n",
       "      <td></td>\n",
       "    </tr>\n",
       "    <tr>\n",
       "      <th>2</th>\n",
       "      <td>2021-11-08</td>\n",
       "      <td>7:21 pm</td>\n",
       "      <td>HR</td>\n",
       "      <td>Why you created this Group😄</td>\n",
       "    </tr>\n",
       "    <tr>\n",
       "      <th>3</th>\n",
       "      <td>2021-11-08</td>\n",
       "      <td>7:21 pm</td>\n",
       "      <td>Saad MS_34</td>\n",
       "      <td>😂</td>\n",
       "    </tr>\n",
       "    <tr>\n",
       "      <th>4</th>\n",
       "      <td>2021-11-08</td>\n",
       "      <td>7:22 pm</td>\n",
       "      <td>HR</td>\n",
       "      <td>Rockstar ko b add kr ly</td>\n",
       "    </tr>\n",
       "    <tr>\n",
       "      <th>...</th>\n",
       "      <td>...</td>\n",
       "      <td>...</td>\n",
       "      <td>...</td>\n",
       "      <td>...</td>\n",
       "    </tr>\n",
       "    <tr>\n",
       "      <th>1141</th>\n",
       "      <td>2021-08-14</td>\n",
       "      <td>2:04 pm</td>\n",
       "      <td>HR</td>\n",
       "      <td>Now Iqra on form 😄</td>\n",
       "    </tr>\n",
       "    <tr>\n",
       "      <th>1142</th>\n",
       "      <td>2021-08-14</td>\n",
       "      <td>2:12 pm</td>\n",
       "      <td>HR</td>\n",
       "      <td>Relx rahy Mam</td>\n",
       "    </tr>\n",
       "    <tr>\n",
       "      <th>1143</th>\n",
       "      <td>2021-08-14</td>\n",
       "      <td>2:12 pm</td>\n",
       "      <td>HR</td>\n",
       "      <td>🙌🏼</td>\n",
       "    </tr>\n",
       "    <tr>\n",
       "      <th>1144</th>\n",
       "      <td>2021-08-14</td>\n",
       "      <td>2:17 pm</td>\n",
       "      <td>Iqra MS_33</td>\n",
       "      <td>Her insan apny decision leny ka haq rkhta h so...</td>\n",
       "    </tr>\n",
       "    <tr>\n",
       "      <th>1145</th>\n",
       "      <td>2021-08-14</td>\n",
       "      <td>2:18 pm</td>\n",
       "      <td>Iqra MS_33</td>\n",
       "      <td>Lekin zleel hny k bad dobara sy na aye phir</td>\n",
       "    </tr>\n",
       "  </tbody>\n",
       "</table>\n",
       "<p>1146 rows × 4 columns</p>\n",
       "</div>"
      ]
     },
     "metadata": {},
     "execution_count": 101
    }
   ],
   "metadata": {}
  },
  {
   "cell_type": "code",
   "execution_count": 102,
   "source": [
    "### Checking shape of dataset.\r\n",
    "df.shape"
   ],
   "outputs": [
    {
     "output_type": "execute_result",
     "data": {
      "text/plain": [
       "(1146, 4)"
      ]
     },
     "metadata": {},
     "execution_count": 102
    }
   ],
   "metadata": {}
  },
  {
   "cell_type": "code",
   "execution_count": 103,
   "source": [
    "### Checking basic information of dataset\r\n",
    "df.info()"
   ],
   "outputs": [
    {
     "output_type": "stream",
     "name": "stdout",
     "text": [
      "<class 'pandas.core.frame.DataFrame'>\n",
      "RangeIndex: 1146 entries, 0 to 1145\n",
      "Data columns (total 4 columns):\n",
      " #   Column   Non-Null Count  Dtype         \n",
      "---  ------   --------------  -----         \n",
      " 0   Date     1146 non-null   datetime64[ns]\n",
      " 1   Time     1146 non-null   object        \n",
      " 2   Author   1146 non-null   object        \n",
      " 3   Message  1146 non-null   object        \n",
      "dtypes: datetime64[ns](1), object(3)\n",
      "memory usage: 35.9+ KB\n"
     ]
    }
   ],
   "metadata": {}
  },
  {
   "cell_type": "code",
   "execution_count": 104,
   "source": [
    "### Checking no. of null values in dataset\r\n",
    "df.isnull().sum()\r\n",
    "\r\n",
    "### Checking head part of dataset\r\n",
    "#df.head(50)\r\n",
    "\r\n",
    "### Checking tail part of dataset\r\n",
    "#df.tail(50)"
   ],
   "outputs": [
    {
     "output_type": "execute_result",
     "data": {
      "text/plain": [
       "Date       0\n",
       "Time       0\n",
       "Author     0\n",
       "Message    0\n",
       "dtype: int64"
      ]
     },
     "metadata": {},
     "execution_count": 104
    }
   ],
   "metadata": {}
  },
  {
   "cell_type": "code",
   "execution_count": 112,
   "source": [
    "### Droping Nan values from dataset\r\n",
    "df = df.dropna()\r\n",
    "df = df.reset_index(drop=True)\r\n",
    "\r\n",
    "'''Don't drop, just take the rows where EPS is not NA'''\r\n",
    "\r\n",
    "#df = df[~(df['Message'].str.len == 0)]\r\n",
    "df = df.replace(r'^\\s*$', np.nan , regex=True)\r\n",
    "df.shape"
   ],
   "outputs": [
    {
     "output_type": "execute_result",
     "data": {
      "text/plain": [
       "(1146, 4)"
      ]
     },
     "metadata": {},
     "execution_count": 112
    }
   ],
   "metadata": {}
  },
  {
   "cell_type": "code",
   "execution_count": 113,
   "source": [
    "### Checking no. of authors of group\r\n",
    "df['Author'].nunique()"
   ],
   "outputs": [
    {
     "output_type": "execute_result",
     "data": {
      "text/plain": [
       "9"
      ]
     },
     "metadata": {},
     "execution_count": 113
    }
   ],
   "metadata": {}
  },
  {
   "cell_type": "code",
   "execution_count": 114,
   "source": [
    "### Checking authors of group\r\n",
    "df['Author'].unique()"
   ],
   "outputs": [
    {
     "output_type": "execute_result",
     "data": {
      "text/plain": [
       "array(['Saad MS_34 created group \"2 dost or classmate 🤩😎\"',\n",
       "       'Saad MS_34 added you', 'HR', 'Saad MS_34', 'Iqra MS_33',\n",
       "       'Saad MS_34 changed the subject from \"2 dost or classmate 🤩😎\" to \"Hum 3 Dostt🤩🤩😎\"',\n",
       "       'Saad MS_34 added Ainee', 'Ainee',\n",
       "       'You changed the subject from \"Hum 3 Dostt🤩🤩😎\" to \"Idiots 🤪\"'],\n",
       "      dtype=object)"
      ]
     },
     "metadata": {},
     "execution_count": 114
    }
   ],
   "metadata": {}
  },
  {
   "cell_type": "code",
   "execution_count": 115,
   "source": [
    "df.isna()\r\n",
    "#df['Message']"
   ],
   "outputs": [
    {
     "output_type": "execute_result",
     "data": {
      "text/plain": [
       "       Date   Time  Author  Message\n",
       "0     False  False   False     True\n",
       "1     False  False   False     True\n",
       "2     False  False   False    False\n",
       "3     False  False   False    False\n",
       "4     False  False   False    False\n",
       "...     ...    ...     ...      ...\n",
       "1141  False  False   False    False\n",
       "1142  False  False   False    False\n",
       "1143  False  False   False    False\n",
       "1144  False  False   False    False\n",
       "1145  False  False   False    False\n",
       "\n",
       "[1146 rows x 4 columns]"
      ],
      "text/html": [
       "<div>\n",
       "<style scoped>\n",
       "    .dataframe tbody tr th:only-of-type {\n",
       "        vertical-align: middle;\n",
       "    }\n",
       "\n",
       "    .dataframe tbody tr th {\n",
       "        vertical-align: top;\n",
       "    }\n",
       "\n",
       "    .dataframe thead th {\n",
       "        text-align: right;\n",
       "    }\n",
       "</style>\n",
       "<table border=\"1\" class=\"dataframe\">\n",
       "  <thead>\n",
       "    <tr style=\"text-align: right;\">\n",
       "      <th></th>\n",
       "      <th>Date</th>\n",
       "      <th>Time</th>\n",
       "      <th>Author</th>\n",
       "      <th>Message</th>\n",
       "    </tr>\n",
       "  </thead>\n",
       "  <tbody>\n",
       "    <tr>\n",
       "      <th>0</th>\n",
       "      <td>False</td>\n",
       "      <td>False</td>\n",
       "      <td>False</td>\n",
       "      <td>True</td>\n",
       "    </tr>\n",
       "    <tr>\n",
       "      <th>1</th>\n",
       "      <td>False</td>\n",
       "      <td>False</td>\n",
       "      <td>False</td>\n",
       "      <td>True</td>\n",
       "    </tr>\n",
       "    <tr>\n",
       "      <th>2</th>\n",
       "      <td>False</td>\n",
       "      <td>False</td>\n",
       "      <td>False</td>\n",
       "      <td>False</td>\n",
       "    </tr>\n",
       "    <tr>\n",
       "      <th>3</th>\n",
       "      <td>False</td>\n",
       "      <td>False</td>\n",
       "      <td>False</td>\n",
       "      <td>False</td>\n",
       "    </tr>\n",
       "    <tr>\n",
       "      <th>4</th>\n",
       "      <td>False</td>\n",
       "      <td>False</td>\n",
       "      <td>False</td>\n",
       "      <td>False</td>\n",
       "    </tr>\n",
       "    <tr>\n",
       "      <th>...</th>\n",
       "      <td>...</td>\n",
       "      <td>...</td>\n",
       "      <td>...</td>\n",
       "      <td>...</td>\n",
       "    </tr>\n",
       "    <tr>\n",
       "      <th>1141</th>\n",
       "      <td>False</td>\n",
       "      <td>False</td>\n",
       "      <td>False</td>\n",
       "      <td>False</td>\n",
       "    </tr>\n",
       "    <tr>\n",
       "      <th>1142</th>\n",
       "      <td>False</td>\n",
       "      <td>False</td>\n",
       "      <td>False</td>\n",
       "      <td>False</td>\n",
       "    </tr>\n",
       "    <tr>\n",
       "      <th>1143</th>\n",
       "      <td>False</td>\n",
       "      <td>False</td>\n",
       "      <td>False</td>\n",
       "      <td>False</td>\n",
       "    </tr>\n",
       "    <tr>\n",
       "      <th>1144</th>\n",
       "      <td>False</td>\n",
       "      <td>False</td>\n",
       "      <td>False</td>\n",
       "      <td>False</td>\n",
       "    </tr>\n",
       "    <tr>\n",
       "      <th>1145</th>\n",
       "      <td>False</td>\n",
       "      <td>False</td>\n",
       "      <td>False</td>\n",
       "      <td>False</td>\n",
       "    </tr>\n",
       "  </tbody>\n",
       "</table>\n",
       "<p>1146 rows × 4 columns</p>\n",
       "</div>"
      ]
     },
     "metadata": {},
     "execution_count": 115
    }
   ],
   "metadata": {}
  },
  {
   "cell_type": "code",
   "execution_count": 116,
   "source": [
    "df = df[df['Message'].notna()]"
   ],
   "outputs": [],
   "metadata": {}
  },
  {
   "cell_type": "code",
   "execution_count": 118,
   "source": [
    "df.shape"
   ],
   "outputs": [
    {
     "output_type": "execute_result",
     "data": {
      "text/plain": [
       "(1141, 4)"
      ]
     },
     "metadata": {},
     "execution_count": 118
    }
   ],
   "metadata": {}
  },
  {
   "cell_type": "code",
   "execution_count": 119,
   "source": [
    "### Checking authors of group\r\n",
    "df['Author'].unique()"
   ],
   "outputs": [
    {
     "output_type": "execute_result",
     "data": {
      "text/plain": [
       "array(['HR', 'Saad MS_34', 'Iqra MS_33', 'Ainee'], dtype=object)"
      ]
     },
     "metadata": {},
     "execution_count": 119
    }
   ],
   "metadata": {}
  },
  {
   "cell_type": "code",
   "execution_count": null,
   "source": [],
   "outputs": [],
   "metadata": {}
  },
  {
   "cell_type": "markdown",
   "source": [
    "### Adding one more column of \"Day\" for better analysis, here we use datetime library which help us to do this task easily."
   ],
   "metadata": {}
  },
  {
   "cell_type": "code",
   "execution_count": 122,
   "source": [
    "weeks = {\r\n",
    "0 : 'Monday',\r\n",
    "1 : 'Tuesday',\r\n",
    "2 : 'Wednesday',\r\n",
    "3 : 'Thrusday',\r\n",
    "4 : 'Friday',\r\n",
    "5 : 'Saturday',\r\n",
    "6 : 'Sunday'\r\n",
    "}\r\n",
    "df['Day'] = df['Date'].dt.weekday.map(weeks)\r\n",
    "### Rearranging the columns for better understanding\r\n",
    "df = df[['Date','Day','Time','Author','Message']]\r\n",
    "### Changing the datatype of column \"Day\".\r\n",
    "df['Day'] = df['Day'].astype('category')\r\n",
    "### Looking newborn dataset.\r\n",
    "#df.head()\r\n",
    "#df.tail()\r\n",
    "\r\n",
    "### Counting number of letters in each message\r\n",
    "df['Letter\\'s'] = df['Message'].apply(lambda s : len(s))\r\n",
    "### Counting number of word's in each message\r\n",
    "df['Word\\'s'] = df['Message'].apply(lambda s : len(s.split(' ')))\r\n",
    "### Function to count number of links in dataset, it will add extra column and store information in it.\r\n",
    "URLPATTERN = r'(https?://S+)'\r\n",
    "df['Url_Count'] = df.Message.apply(lambda x: re.findall(URLPATTERN, x)).str.len()\r\n",
    "links = np.sum(df.Url_Count)\r\n",
    "### Function to count number of media in chat.\r\n",
    "MEDIAPATTERN = r'<Media omitted>'\r\n",
    "df['Media_Count'] = df.Message.apply(lambda x : re.findall(MEDIAPATTERN, x)).str.len()\r\n",
    "media = np.sum(df.Media_Count)\r\n",
    "### Looking updated dataset\r\n",
    "df"
   ],
   "outputs": [
    {
     "output_type": "execute_result",
     "data": {
      "text/plain": [
       "           Date       Day     Time      Author  \\\n",
       "2    2021-11-08    Monday  7:21 pm          HR   \n",
       "3    2021-11-08    Monday  7:21 pm  Saad MS_34   \n",
       "4    2021-11-08    Monday  7:22 pm          HR   \n",
       "5    2021-11-08    Monday  7:22 pm          HR   \n",
       "6    2021-11-08    Monday  7:22 pm  Saad MS_34   \n",
       "...         ...       ...      ...         ...   \n",
       "1141 2021-08-14  Saturday  2:04 pm          HR   \n",
       "1142 2021-08-14  Saturday  2:12 pm          HR   \n",
       "1143 2021-08-14  Saturday  2:12 pm          HR   \n",
       "1144 2021-08-14  Saturday  2:17 pm  Iqra MS_33   \n",
       "1145 2021-08-14  Saturday  2:18 pm  Iqra MS_33   \n",
       "\n",
       "                                                Message  Letter's  Word's  \\\n",
       "2                           Why you created this Group😄        27       5   \n",
       "3                                                     😂         1       1   \n",
       "4                               Rockstar ko b add kr ly        23       6   \n",
       "5                                                     😏         1       1   \n",
       "6                                                   😂😂😂         3       1   \n",
       "...                                                 ...       ...     ...   \n",
       "1141                                 Now Iqra on form 😄        18       5   \n",
       "1142                                      Relx rahy Mam        13       3   \n",
       "1143                                                 🙌🏼         2       1   \n",
       "1144  Her insan apny decision leny ka haq rkhta h so...        66      15   \n",
       "1145        Lekin zleel hny k bad dobara sy na aye phir        43      10   \n",
       "\n",
       "      Url_Count  Media_Count  \n",
       "2             0            0  \n",
       "3             0            0  \n",
       "4             0            0  \n",
       "5             0            0  \n",
       "6             0            0  \n",
       "...         ...          ...  \n",
       "1141          0            0  \n",
       "1142          0            0  \n",
       "1143          0            0  \n",
       "1144          0            0  \n",
       "1145          0            0  \n",
       "\n",
       "[1141 rows x 9 columns]"
      ],
      "text/html": [
       "<div>\n",
       "<style scoped>\n",
       "    .dataframe tbody tr th:only-of-type {\n",
       "        vertical-align: middle;\n",
       "    }\n",
       "\n",
       "    .dataframe tbody tr th {\n",
       "        vertical-align: top;\n",
       "    }\n",
       "\n",
       "    .dataframe thead th {\n",
       "        text-align: right;\n",
       "    }\n",
       "</style>\n",
       "<table border=\"1\" class=\"dataframe\">\n",
       "  <thead>\n",
       "    <tr style=\"text-align: right;\">\n",
       "      <th></th>\n",
       "      <th>Date</th>\n",
       "      <th>Day</th>\n",
       "      <th>Time</th>\n",
       "      <th>Author</th>\n",
       "      <th>Message</th>\n",
       "      <th>Letter's</th>\n",
       "      <th>Word's</th>\n",
       "      <th>Url_Count</th>\n",
       "      <th>Media_Count</th>\n",
       "    </tr>\n",
       "  </thead>\n",
       "  <tbody>\n",
       "    <tr>\n",
       "      <th>2</th>\n",
       "      <td>2021-11-08</td>\n",
       "      <td>Monday</td>\n",
       "      <td>7:21 pm</td>\n",
       "      <td>HR</td>\n",
       "      <td>Why you created this Group😄</td>\n",
       "      <td>27</td>\n",
       "      <td>5</td>\n",
       "      <td>0</td>\n",
       "      <td>0</td>\n",
       "    </tr>\n",
       "    <tr>\n",
       "      <th>3</th>\n",
       "      <td>2021-11-08</td>\n",
       "      <td>Monday</td>\n",
       "      <td>7:21 pm</td>\n",
       "      <td>Saad MS_34</td>\n",
       "      <td>😂</td>\n",
       "      <td>1</td>\n",
       "      <td>1</td>\n",
       "      <td>0</td>\n",
       "      <td>0</td>\n",
       "    </tr>\n",
       "    <tr>\n",
       "      <th>4</th>\n",
       "      <td>2021-11-08</td>\n",
       "      <td>Monday</td>\n",
       "      <td>7:22 pm</td>\n",
       "      <td>HR</td>\n",
       "      <td>Rockstar ko b add kr ly</td>\n",
       "      <td>23</td>\n",
       "      <td>6</td>\n",
       "      <td>0</td>\n",
       "      <td>0</td>\n",
       "    </tr>\n",
       "    <tr>\n",
       "      <th>5</th>\n",
       "      <td>2021-11-08</td>\n",
       "      <td>Monday</td>\n",
       "      <td>7:22 pm</td>\n",
       "      <td>HR</td>\n",
       "      <td>😏</td>\n",
       "      <td>1</td>\n",
       "      <td>1</td>\n",
       "      <td>0</td>\n",
       "      <td>0</td>\n",
       "    </tr>\n",
       "    <tr>\n",
       "      <th>6</th>\n",
       "      <td>2021-11-08</td>\n",
       "      <td>Monday</td>\n",
       "      <td>7:22 pm</td>\n",
       "      <td>Saad MS_34</td>\n",
       "      <td>😂😂😂</td>\n",
       "      <td>3</td>\n",
       "      <td>1</td>\n",
       "      <td>0</td>\n",
       "      <td>0</td>\n",
       "    </tr>\n",
       "    <tr>\n",
       "      <th>...</th>\n",
       "      <td>...</td>\n",
       "      <td>...</td>\n",
       "      <td>...</td>\n",
       "      <td>...</td>\n",
       "      <td>...</td>\n",
       "      <td>...</td>\n",
       "      <td>...</td>\n",
       "      <td>...</td>\n",
       "      <td>...</td>\n",
       "    </tr>\n",
       "    <tr>\n",
       "      <th>1141</th>\n",
       "      <td>2021-08-14</td>\n",
       "      <td>Saturday</td>\n",
       "      <td>2:04 pm</td>\n",
       "      <td>HR</td>\n",
       "      <td>Now Iqra on form 😄</td>\n",
       "      <td>18</td>\n",
       "      <td>5</td>\n",
       "      <td>0</td>\n",
       "      <td>0</td>\n",
       "    </tr>\n",
       "    <tr>\n",
       "      <th>1142</th>\n",
       "      <td>2021-08-14</td>\n",
       "      <td>Saturday</td>\n",
       "      <td>2:12 pm</td>\n",
       "      <td>HR</td>\n",
       "      <td>Relx rahy Mam</td>\n",
       "      <td>13</td>\n",
       "      <td>3</td>\n",
       "      <td>0</td>\n",
       "      <td>0</td>\n",
       "    </tr>\n",
       "    <tr>\n",
       "      <th>1143</th>\n",
       "      <td>2021-08-14</td>\n",
       "      <td>Saturday</td>\n",
       "      <td>2:12 pm</td>\n",
       "      <td>HR</td>\n",
       "      <td>🙌🏼</td>\n",
       "      <td>2</td>\n",
       "      <td>1</td>\n",
       "      <td>0</td>\n",
       "      <td>0</td>\n",
       "    </tr>\n",
       "    <tr>\n",
       "      <th>1144</th>\n",
       "      <td>2021-08-14</td>\n",
       "      <td>Saturday</td>\n",
       "      <td>2:17 pm</td>\n",
       "      <td>Iqra MS_33</td>\n",
       "      <td>Her insan apny decision leny ka haq rkhta h so...</td>\n",
       "      <td>66</td>\n",
       "      <td>15</td>\n",
       "      <td>0</td>\n",
       "      <td>0</td>\n",
       "    </tr>\n",
       "    <tr>\n",
       "      <th>1145</th>\n",
       "      <td>2021-08-14</td>\n",
       "      <td>Saturday</td>\n",
       "      <td>2:18 pm</td>\n",
       "      <td>Iqra MS_33</td>\n",
       "      <td>Lekin zleel hny k bad dobara sy na aye phir</td>\n",
       "      <td>43</td>\n",
       "      <td>10</td>\n",
       "      <td>0</td>\n",
       "      <td>0</td>\n",
       "    </tr>\n",
       "  </tbody>\n",
       "</table>\n",
       "<p>1141 rows × 9 columns</p>\n",
       "</div>"
      ]
     },
     "metadata": {},
     "execution_count": 122
    }
   ],
   "metadata": {}
  },
  {
   "cell_type": "code",
   "execution_count": null,
   "source": [],
   "outputs": [],
   "metadata": {}
  }
 ],
 "metadata": {
  "interpreter": {
   "hash": "bd76af128d7c40b48583a811a9c1879190eadb08cc3a308c5c2f1ddbc04e5a8b"
  },
  "kernelspec": {
   "name": "python3",
   "display_name": "Python 3.7.1 64-bit (system)"
  },
  "language_info": {
   "codemirror_mode": {
    "name": "ipython",
    "version": 3
   },
   "file_extension": ".py",
   "mimetype": "text/x-python",
   "name": "python",
   "nbconvert_exporter": "python",
   "pygments_lexer": "ipython3",
   "version": "3.7.1"
  }
 },
 "nbformat": 4,
 "nbformat_minor": 2
}