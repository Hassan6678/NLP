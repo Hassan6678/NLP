{
 "cells": [
  {
   "cell_type": "code",
   "execution_count": 1,
   "metadata": {},
   "outputs": [],
   "source": [
    "import pandas as pd\n",
    "import numpy as np\n",
    "from collections import Counter\n",
    "import re"
   ]
  },
  {
   "cell_type": "code",
   "execution_count": 2,
   "metadata": {},
   "outputs": [],
   "source": [
    "df = pd.read_excel('Testing.xlsx')"
   ]
  },
  {
   "cell_type": "code",
   "execution_count": 3,
   "metadata": {},
   "outputs": [],
   "source": [
    "#df"
   ]
  },
  {
   "cell_type": "code",
   "execution_count": 4,
   "metadata": {},
   "outputs": [
    {
     "data": {
      "text/html": [
       "<div>\n",
       "<style scoped>\n",
       "    .dataframe tbody tr th:only-of-type {\n",
       "        vertical-align: middle;\n",
       "    }\n",
       "\n",
       "    .dataframe tbody tr th {\n",
       "        vertical-align: top;\n",
       "    }\n",
       "\n",
       "    .dataframe thead th {\n",
       "        text-align: right;\n",
       "    }\n",
       "</style>\n",
       "<table border=\"1\" class=\"dataframe\">\n",
       "  <thead>\n",
       "    <tr style=\"text-align: right;\">\n",
       "      <th></th>\n",
       "      <th>Mode</th>\n",
       "      <th>Message</th>\n",
       "    </tr>\n",
       "  </thead>\n",
       "  <tbody>\n",
       "    <tr>\n",
       "      <th>0</th>\n",
       "      <td>Angry</td>\n",
       "      <td>Tu to chup kr ja desh</td>\n",
       "    </tr>\n",
       "    <tr>\n",
       "      <th>1</th>\n",
       "      <td>Angry</td>\n",
       "      <td>Bush kr de bush</td>\n",
       "    </tr>\n",
       "    <tr>\n",
       "      <th>2</th>\n",
       "      <td>Normal</td>\n",
       "      <td>Ya puchna ya tha k Shair kisi b traha ka send ...</td>\n",
       "    </tr>\n",
       "    <tr>\n",
       "      <th>3</th>\n",
       "      <td>Happy</td>\n",
       "      <td>Han g phir to any dain gy per ap k any k bgair...</td>\n",
       "    </tr>\n",
       "    <tr>\n",
       "      <th>4</th>\n",
       "      <td>Normal</td>\n",
       "      <td>Everyone please bs kro yr</td>\n",
       "    </tr>\n",
       "    <tr>\n",
       "      <th>...</th>\n",
       "      <td>...</td>\n",
       "      <td>...</td>\n",
       "    </tr>\n",
       "    <tr>\n",
       "      <th>525</th>\n",
       "      <td>Normal</td>\n",
       "      <td>cr ko add kro bas</td>\n",
       "    </tr>\n",
       "    <tr>\n",
       "      <th>526</th>\n",
       "      <td>Normal</td>\n",
       "      <td>Mujhy interest ni wrna m ye khel leni thi</td>\n",
       "    </tr>\n",
       "    <tr>\n",
       "      <th>528</th>\n",
       "      <td>Fear</td>\n",
       "      <td>Mauf kar dein</td>\n",
       "    </tr>\n",
       "    <tr>\n",
       "      <th>533</th>\n",
       "      <td>Angry</td>\n",
       "      <td>Ankhon ka msla ho to m maan b lon</td>\n",
       "    </tr>\n",
       "    <tr>\n",
       "      <th>534</th>\n",
       "      <td>Normal</td>\n",
       "      <td>Okay ho gaya</td>\n",
       "    </tr>\n",
       "  </tbody>\n",
       "</table>\n",
       "<p>331 rows × 2 columns</p>\n",
       "</div>"
      ],
      "text/plain": [
       "       Mode                                            Message\n",
       "0     Angry                              Tu to chup kr ja desh\n",
       "1     Angry                                    Bush kr de bush\n",
       "2    Normal  Ya puchna ya tha k Shair kisi b traha ka send ...\n",
       "3     Happy  Han g phir to any dain gy per ap k any k bgair...\n",
       "4    Normal                          Everyone please bs kro yr\n",
       "..      ...                                                ...\n",
       "525  Normal                                  cr ko add kro bas\n",
       "526  Normal          Mujhy interest ni wrna m ye khel leni thi\n",
       "528    Fear                                      Mauf kar dein\n",
       "533   Angry                  Ankhon ka msla ho to m maan b lon\n",
       "534  Normal                                       Okay ho gaya\n",
       "\n",
       "[331 rows x 2 columns]"
      ]
     },
     "execution_count": 4,
     "metadata": {},
     "output_type": "execute_result"
    }
   ],
   "source": [
    "# Drop NaN values in Dataframe\n",
    "df = df.dropna()\n",
    "# Show Dataframe\n",
    "df"
   ]
  },
  {
   "cell_type": "code",
   "execution_count": 5,
   "metadata": {},
   "outputs": [],
   "source": [
    "#df = df.sample(frac = 1)\n",
    "#df"
   ]
  },
  {
   "cell_type": "code",
   "execution_count": 6,
   "metadata": {},
   "outputs": [
    {
     "data": {
      "text/plain": [
       "array(['Angry', 'Normal', 'Happy', 'Fear', 'Love', 'Sad', 'Angry ',\n",
       "       'fear'], dtype=object)"
      ]
     },
     "execution_count": 6,
     "metadata": {},
     "output_type": "execute_result"
    }
   ],
   "source": [
    "# Get the unique values of 'Mode' column\n",
    "df.Mode.unique()"
   ]
  },
  {
   "cell_type": "code",
   "execution_count": 7,
   "metadata": {},
   "outputs": [],
   "source": [
    "# Change Column value --> from 'fear' to 'Fear' :)\n",
    "df[\"Mode\"].replace({\"Angry \": \"Angry\", \"fear\": \"Fear\"}, inplace=True)"
   ]
  },
  {
   "cell_type": "code",
   "execution_count": 8,
   "metadata": {},
   "outputs": [
    {
     "data": {
      "text/plain": [
       "<Figure size 640x480 with 1 Axes>"
      ]
     },
     "metadata": {},
     "output_type": "display_data"
    }
   ],
   "source": [
    "import matplotlib.pyplot as plt\n",
    "\n",
    "# a simple line plot\n",
    "#df.plot(kind='bar',x='Mode',y='Message')\n",
    "df.groupby('Mode')['Message'].nunique().plot(kind='bar')\n",
    "plt.show()"
   ]
  },
  {
   "cell_type": "code",
   "execution_count": 9,
   "metadata": {},
   "outputs": [
    {
     "data": {
      "text/plain": [
       "Normal    91\n",
       "Happy     81\n",
       "Angry     79\n",
       "Sad       34\n",
       "Fear      30\n",
       "Love      16\n",
       "Name: Mode, dtype: int64"
      ]
     },
     "execution_count": 9,
     "metadata": {},
     "output_type": "execute_result"
    }
   ],
   "source": [
    "df['Mode'].value_counts()"
   ]
  },
  {
   "cell_type": "code",
   "execution_count": 10,
   "metadata": {},
   "outputs": [],
   "source": [
    "vocab = {}"
   ]
  },
  {
   "cell_type": "code",
   "execution_count": 11,
   "metadata": {},
   "outputs": [],
   "source": [
    "def initializeVocabulary():\n",
    "    unkToken = '<UNK>'\n",
    "    #create another vocab inside vocab -> text to index\n",
    "    vocab['t_2_i'] = {}\n",
    "    #create another vocab inside vocab -> index to text\n",
    "    vocab['i_2_t'] = {}\n",
    "    # Add token in key 'unkToken' = '<UNK>'\n",
    "    vocab['unkToken'] = unkToken\n",
    "    # call function 'addToken()' that return token index\n",
    "    idx = addToken(unkToken)\n",
    "    vocab['unkTokenIdx'] = idx"
   ]
  },
  {
   "cell_type": "code",
   "execution_count": 12,
   "metadata": {},
   "outputs": [],
   "source": [
    "def addToken(token):\n",
    "    # if token already in vocab then just return index\n",
    "    if token in vocab['t_2_i']:\n",
    "        idx = vocab['t_2_i'][token]\n",
    "    else:\n",
    "        # create index for new tokken --> simply new index == len(vocab) /*last number*/\n",
    "        idx = len(vocab['t_2_i'])\n",
    "        vocab['t_2_i'][token] = idx\n",
    "        vocab['i_2_t'][idx] = token\n",
    "    return idx"
   ]
  },
  {
   "cell_type": "code",
   "execution_count": 13,
   "metadata": {},
   "outputs": [],
   "source": [
    "def addManyTokens(tokens):\n",
    "    idxes = [addToken(token) for token in tokens]\n",
    "    return idxes"
   ]
  },
  {
   "cell_type": "code",
   "execution_count": 14,
   "metadata": {},
   "outputs": [],
   "source": [
    "def lookUpToken(token):\n",
    "    return vocab['t_2_i'].get(token,vocab['unkTokenIdx'])"
   ]
  },
  {
   "cell_type": "code",
   "execution_count": 15,
   "metadata": {},
   "outputs": [],
   "source": [
    "def lookUpIndex(idx):\n",
    "    if idx not in vocab['i_2_t']:\n",
    "        raise KeyError(\"the index (%d) is not there\" % idx)\n",
    "    return vocab['i_2_t'][idx]"
   ]
  },
  {
   "cell_type": "code",
   "execution_count": 16,
   "metadata": {},
   "outputs": [],
   "source": [
    "def vocabularyFromDataFrame(df,cutoff=2):\n",
    "    initializeVocabulary()\n",
    "    wordCounts = Counter()\n",
    "    for r in df.review:\n",
    "        for word in re.split('\\W+',r):\n",
    "            wordCounts[word] += 1\n",
    "    for word,count in wordCounts.items():\n",
    "        if count > cutoff:\n",
    "            addToken(word)"
   ]
  },
  {
   "cell_type": "code",
   "execution_count": 17,
   "metadata": {},
   "outputs": [],
   "source": [
    "def vocabularyFromCorpus(Corpus,cutoff=2):\n",
    "    initializeVocabulary()\n",
    "    wordCounts = Counter()\n",
    "    for doc in Corpus:\n",
    "        for word in re.split('\\W+',doc):\n",
    "            wordCounts[word] += 1\n",
    "    for word,count in wordCounts.items():\n",
    "        if count > cutoff:\n",
    "            addToken(word)"
   ]
  },
  {
   "cell_type": "code",
   "execution_count": 18,
   "metadata": {},
   "outputs": [],
   "source": [
    "def oneHotVector(token,N):\n",
    "    oneHot = np.zeros((N,1))\n",
    "    oneHot[lookUpToken(token)] = 1\n",
    "    return oneHot"
   ]
  },
  {
   "cell_type": "code",
   "execution_count": 19,
   "metadata": {},
   "outputs": [],
   "source": [
    "def computeFeatures(doc,N):\n",
    "    isFirst = True\n",
    "    for token in doc:\n",
    "        oneHot = oneHotVector(token,N)\n",
    "        if isFirst:\n",
    "            xF = oneHot\n",
    "            isFirst = False\n",
    "        else:\n",
    "            xF = np.hstack((xF,oneHot))\n",
    "    return np.mean(xF,axis=1)[:,np.newaxis]"
   ]
  },
  {
   "cell_type": "code",
   "execution_count": 20,
   "metadata": {},
   "outputs": [],
   "source": [
    "def computeFeatures_fast(doc,N):\n",
    "    fv = np.zeros(N)\n",
    "    numTokens = 0\n",
    "    for token in doc:\n",
    "        fv[lookUpToken(token)] += 1\n",
    "        numTokens += 1\n",
    "    return fv/numTokens"
   ]
  },
  {
   "cell_type": "code",
   "execution_count": 21,
   "metadata": {},
   "outputs": [],
   "source": [
    "def corpusToFeatureMatrix(Corpus,N):\n",
    "    isFirst = True\n",
    "    for doc in Corpus:\n",
    "        fv = computeFeatures(doc,N)\n",
    "        if isFirst:\n",
    "            fM = fv\n",
    "            isFirst = False\n",
    "        else:\n",
    "            fM = np.hstack((fM,fv))\n",
    "    return fM.T"
   ]
  },
  {
   "cell_type": "code",
   "execution_count": 22,
   "metadata": {},
   "outputs": [],
   "source": [
    "def corpusToFeatureMatrix_fast(Corpus,N):\n",
    "    fM = np.zeros((N,len(Corpus)))\n",
    "    i = 0\n",
    "    for doc in Corpus:\n",
    "        fM[:,i] = computeFeatures_fast(doc,N)\n",
    "        i+=1\n",
    "    return fM.T"
   ]
  },
  {
   "cell_type": "code",
   "execution_count": 23,
   "metadata": {},
   "outputs": [],
   "source": [
    "X = np.asarray(df['Message'])\n",
    "y = np.asarray(df['Mode'])"
   ]
  },
  {
   "cell_type": "code",
   "execution_count": null,
   "metadata": {},
   "outputs": [],
   "source": []
  },
  {
   "cell_type": "code",
   "execution_count": null,
   "metadata": {},
   "outputs": [],
   "source": []
  },
  {
   "cell_type": "code",
   "execution_count": 24,
   "metadata": {},
   "outputs": [
    {
     "data": {
      "text/plain": [
       "(array(['Tu to chup kr ja desh', 'Bush kr de bush',\n",
       "        'Ya puchna ya tha k Shair kisi b traha ka send kr sakty hn na',\n",
       "        'Han g phir to any dain gy per ap k any k bgair kesy hgi attendence puri',\n",
       "        'Everyone please bs kro yr'], dtype=object),\n",
       " array(['Angry', 'Angry', 'Normal', 'Happy', 'Normal'], dtype=object))"
      ]
     },
     "execution_count": 24,
     "metadata": {},
     "output_type": "execute_result"
    }
   ],
   "source": [
    "X[:5], y[:5]"
   ]
  },
  {
   "cell_type": "code",
   "execution_count": 53,
   "metadata": {},
   "outputs": [],
   "source": [
    "from sklearn.model_selection import train_test_split"
   ]
  },
  {
   "cell_type": "code",
   "execution_count": 54,
   "metadata": {},
   "outputs": [],
   "source": [
    "Xtrain,Xtest,ytrain,ytest = train_test_split(X,y,test_size=0.3,shuffle=True)"
   ]
  },
  {
   "cell_type": "code",
   "execution_count": 64,
   "metadata": {},
   "outputs": [
    {
     "name": "stdout",
     "output_type": "stream",
     "text": [
      "{'<UNK>': 0}\n",
      "{'<UNK>': 0, 'or': 1}\n",
      "{'<UNK>': 0, 'or': 1, 'kon': 2}\n",
      "{'<UNK>': 0, 'or': 1, 'kon': 2, 'ha': 3}\n",
      "{'<UNK>': 0, 'or': 1, 'kon': 2, 'ha': 3, 'a': 4}\n",
      "{'<UNK>': 0, 'or': 1, 'kon': 2, 'ha': 3, 'a': 4, 'thi': 5}\n",
      "{'<UNK>': 0, 'or': 1, 'kon': 2, 'ha': 3, 'a': 4, 'thi': 5, 'hain': 6}\n",
      "{'<UNK>': 0, 'or': 1, 'kon': 2, 'ha': 3, 'a': 4, 'thi': 5, 'hain': 6, 'sb': 7}\n",
      "{'<UNK>': 0, 'or': 1, 'kon': 2, 'ha': 3, 'a': 4, 'thi': 5, 'hain': 6, 'sb': 7, 'Teri': 8}\n",
      "{'<UNK>': 0, 'or': 1, 'kon': 2, 'ha': 3, 'a': 4, 'thi': 5, 'hain': 6, 'sb': 7, 'Teri': 8, 'hi': 9}\n",
      "{'<UNK>': 0, 'or': 1, 'kon': 2, 'ha': 3, 'a': 4, 'thi': 5, 'hain': 6, 'sb': 7, 'Teri': 8, 'hi': 9, 'py': 10}\n",
      "{'<UNK>': 0, 'or': 1, 'kon': 2, 'ha': 3, 'a': 4, 'thi': 5, 'hain': 6, 'sb': 7, 'Teri': 8, 'hi': 9, 'py': 10, 'hu': 11}\n",
      "{'<UNK>': 0, 'or': 1, 'kon': 2, 'ha': 3, 'a': 4, 'thi': 5, 'hain': 6, 'sb': 7, 'Teri': 8, 'hi': 9, 'py': 10, 'hu': 11, 'ka': 12}\n",
      "{'<UNK>': 0, 'or': 1, 'kon': 2, 'ha': 3, 'a': 4, 'thi': 5, 'hain': 6, 'sb': 7, 'Teri': 8, 'hi': 9, 'py': 10, 'hu': 11, 'ka': 12, 'ho': 13}\n",
      "{'<UNK>': 0, 'or': 1, 'kon': 2, 'ha': 3, 'a': 4, 'thi': 5, 'hain': 6, 'sb': 7, 'Teri': 8, 'hi': 9, 'py': 10, 'hu': 11, 'ka': 12, 'ho': 13, 'to': 14}\n",
      "{'<UNK>': 0, 'or': 1, 'kon': 2, 'ha': 3, 'a': 4, 'thi': 5, 'hain': 6, 'sb': 7, 'Teri': 8, 'hi': 9, 'py': 10, 'hu': 11, 'ka': 12, 'ho': 13, 'to': 14, 'm': 15}\n",
      "{'<UNK>': 0, 'or': 1, 'kon': 2, 'ha': 3, 'a': 4, 'thi': 5, 'hain': 6, 'sb': 7, 'Teri': 8, 'hi': 9, 'py': 10, 'hu': 11, 'ka': 12, 'ho': 13, 'to': 14, 'm': 15, 'b': 16}\n",
      "{'<UNK>': 0, 'or': 1, 'kon': 2, 'ha': 3, 'a': 4, 'thi': 5, 'hain': 6, 'sb': 7, 'Teri': 8, 'hi': 9, 'py': 10, 'hu': 11, 'ka': 12, 'ho': 13, 'to': 14, 'm': 15, 'b': 16, 'u': 17}\n",
      "{'<UNK>': 0, 'or': 1, 'kon': 2, 'ha': 3, 'a': 4, 'thi': 5, 'hain': 6, 'sb': 7, 'Teri': 8, 'hi': 9, 'py': 10, 'hu': 11, 'ka': 12, 'ho': 13, 'to': 14, 'm': 15, 'b': 16, 'u': 17, 'me': 18}\n",
      "{'<UNK>': 0, 'or': 1, 'kon': 2, 'ha': 3, 'a': 4, 'thi': 5, 'hain': 6, 'sb': 7, 'Teri': 8, 'hi': 9, 'py': 10, 'hu': 11, 'ka': 12, 'ho': 13, 'to': 14, 'm': 15, 'b': 16, 'u': 17, 'me': 18, 'Hahaha': 19}\n",
      "{'<UNK>': 0, 'or': 1, 'kon': 2, 'ha': 3, 'a': 4, 'thi': 5, 'hain': 6, 'sb': 7, 'Teri': 8, 'hi': 9, 'py': 10, 'hu': 11, 'ka': 12, 'ho': 13, 'to': 14, 'm': 15, 'b': 16, 'u': 17, 'me': 18, 'Hahaha': 19, 'bta': 20}\n",
      "{'<UNK>': 0, 'or': 1, 'kon': 2, 'ha': 3, 'a': 4, 'thi': 5, 'hain': 6, 'sb': 7, 'Teri': 8, 'hi': 9, 'py': 10, 'hu': 11, 'ka': 12, 'ho': 13, 'to': 14, 'm': 15, 'b': 16, 'u': 17, 'me': 18, 'Hahaha': 19, 'bta': 20, 'ra': 21}\n",
      "{'<UNK>': 0, 'or': 1, 'kon': 2, 'ha': 3, 'a': 4, 'thi': 5, 'hain': 6, 'sb': 7, 'Teri': 8, 'hi': 9, 'py': 10, 'hu': 11, 'ka': 12, 'ho': 13, 'to': 14, 'm': 15, 'b': 16, 'u': 17, 'me': 18, 'Hahaha': 19, 'bta': 20, 'ra': 21, 'wo': 22}\n",
      "{'<UNK>': 0, 'or': 1, 'kon': 2, 'ha': 3, 'a': 4, 'thi': 5, 'hain': 6, 'sb': 7, 'Teri': 8, 'hi': 9, 'py': 10, 'hu': 11, 'ka': 12, 'ho': 13, 'to': 14, 'm': 15, 'b': 16, 'u': 17, 'me': 18, 'Hahaha': 19, 'bta': 20, 'ra': 21, 'wo': 22, 'kr': 23}\n",
      "{'<UNK>': 0, 'or': 1, 'kon': 2, 'ha': 3, 'a': 4, 'thi': 5, 'hain': 6, 'sb': 7, 'Teri': 8, 'hi': 9, 'py': 10, 'hu': 11, 'ka': 12, 'ho': 13, 'to': 14, 'm': 15, 'b': 16, 'u': 17, 'me': 18, 'Hahaha': 19, 'bta': 20, 'ra': 21, 'wo': 22, 'kr': 23, 'jo': 24}\n",
      "{'<UNK>': 0, 'or': 1, 'kon': 2, 'ha': 3, 'a': 4, 'thi': 5, 'hain': 6, 'sb': 7, 'Teri': 8, 'hi': 9, 'py': 10, 'hu': 11, 'ka': 12, 'ho': 13, 'to': 14, 'm': 15, 'b': 16, 'u': 17, 'me': 18, 'Hahaha': 19, 'bta': 20, 'ra': 21, 'wo': 22, 'kr': 23, 'jo': 24, 'ma': 25}\n",
      "{'<UNK>': 0, 'or': 1, 'kon': 2, 'ha': 3, 'a': 4, 'thi': 5, 'hain': 6, 'sb': 7, 'Teri': 8, 'hi': 9, 'py': 10, 'hu': 11, 'ka': 12, 'ho': 13, 'to': 14, 'm': 15, 'b': 16, 'u': 17, 'me': 18, 'Hahaha': 19, 'bta': 20, 'ra': 21, 'wo': 22, 'kr': 23, 'jo': 24, 'ma': 25, 'na': 26}\n",
      "{'<UNK>': 0, 'or': 1, 'kon': 2, 'ha': 3, 'a': 4, 'thi': 5, 'hain': 6, 'sb': 7, 'Teri': 8, 'hi': 9, 'py': 10, 'hu': 11, 'ka': 12, 'ho': 13, 'to': 14, 'm': 15, 'b': 16, 'u': 17, 'me': 18, 'Hahaha': 19, 'bta': 20, 'ra': 21, 'wo': 22, 'kr': 23, 'jo': 24, 'ma': 25, 'na': 26, 'ki': 27}\n",
      "{'<UNK>': 0, 'or': 1, 'kon': 2, 'ha': 3, 'a': 4, 'thi': 5, 'hain': 6, 'sb': 7, 'Teri': 8, 'hi': 9, 'py': 10, 'hu': 11, 'ka': 12, 'ho': 13, 'to': 14, 'm': 15, 'b': 16, 'u': 17, 'me': 18, 'Hahaha': 19, 'bta': 20, 'ra': 21, 'wo': 22, 'kr': 23, 'jo': 24, 'ma': 25, 'na': 26, 'ki': 27, 'k': 28}\n",
      "{'<UNK>': 0, 'or': 1, 'kon': 2, 'ha': 3, 'a': 4, 'thi': 5, 'hain': 6, 'sb': 7, 'Teri': 8, 'hi': 9, 'py': 10, 'hu': 11, 'ka': 12, 'ho': 13, 'to': 14, 'm': 15, 'b': 16, 'u': 17, 'me': 18, 'Hahaha': 19, 'bta': 20, 'ra': 21, 'wo': 22, 'kr': 23, 'jo': 24, 'ma': 25, 'na': 26, 'ki': 27, 'k': 28, 'ap': 29}\n",
      "{'<UNK>': 0, 'or': 1, 'kon': 2, 'ha': 3, 'a': 4, 'thi': 5, 'hain': 6, 'sb': 7, 'Teri': 8, 'hi': 9, 'py': 10, 'hu': 11, 'ka': 12, 'ho': 13, 'to': 14, 'm': 15, 'b': 16, 'u': 17, 'me': 18, 'Hahaha': 19, 'bta': 20, 'ra': 21, 'wo': 22, 'kr': 23, 'jo': 24, 'ma': 25, 'na': 26, 'ki': 27, 'k': 28, 'ap': 29, 'kisi': 30}\n",
      "{'<UNK>': 0, 'or': 1, 'kon': 2, 'ha': 3, 'a': 4, 'thi': 5, 'hain': 6, 'sb': 7, 'Teri': 8, 'hi': 9, 'py': 10, 'hu': 11, 'ka': 12, 'ho': 13, 'to': 14, 'm': 15, 'b': 16, 'u': 17, 'me': 18, 'Hahaha': 19, 'bta': 20, 'ra': 21, 'wo': 22, 'kr': 23, 'jo': 24, 'ma': 25, 'na': 26, 'ki': 27, 'k': 28, 'ap': 29, 'kisi': 30, 'le': 31}\n",
      "{'<UNK>': 0, 'or': 1, 'kon': 2, 'ha': 3, 'a': 4, 'thi': 5, 'hain': 6, 'sb': 7, 'Teri': 8, 'hi': 9, 'py': 10, 'hu': 11, 'ka': 12, 'ho': 13, 'to': 14, 'm': 15, 'b': 16, 'u': 17, 'me': 18, 'Hahaha': 19, 'bta': 20, 'ra': 21, 'wo': 22, 'kr': 23, 'jo': 24, 'ma': 25, 'na': 26, 'ki': 27, 'k': 28, 'ap': 29, 'kisi': 30, 'le': 31, 'ja': 32}\n",
      "{'<UNK>': 0, 'or': 1, 'kon': 2, 'ha': 3, 'a': 4, 'thi': 5, 'hain': 6, 'sb': 7, 'Teri': 8, 'hi': 9, 'py': 10, 'hu': 11, 'ka': 12, 'ho': 13, 'to': 14, 'm': 15, 'b': 16, 'u': 17, 'me': 18, 'Hahaha': 19, 'bta': 20, 'ra': 21, 'wo': 22, 'kr': 23, 'jo': 24, 'ma': 25, 'na': 26, 'ki': 27, 'k': 28, 'ap': 29, 'kisi': 30, 'le': 31, 'ja': 32, 'o': 33}\n",
      "{'<UNK>': 0, 'or': 1, 'kon': 2, 'ha': 3, 'a': 4, 'thi': 5, 'hain': 6, 'sb': 7, 'Teri': 8, 'hi': 9, 'py': 10, 'hu': 11, 'ka': 12, 'ho': 13, 'to': 14, 'm': 15, 'b': 16, 'u': 17, 'me': 18, 'Hahaha': 19, 'bta': 20, 'ra': 21, 'wo': 22, 'kr': 23, 'jo': 24, 'ma': 25, 'na': 26, 'ki': 27, 'k': 28, 'ap': 29, 'kisi': 30, 'le': 31, 'ja': 32, 'o': 33, 'baat': 34}\n",
      "{'<UNK>': 0, 'or': 1, 'kon': 2, 'ha': 3, 'a': 4, 'thi': 5, 'hain': 6, 'sb': 7, 'Teri': 8, 'hi': 9, 'py': 10, 'hu': 11, 'ka': 12, 'ho': 13, 'to': 14, 'm': 15, 'b': 16, 'u': 17, 'me': 18, 'Hahaha': 19, 'bta': 20, 'ra': 21, 'wo': 22, 'kr': 23, 'jo': 24, 'ma': 25, 'na': 26, 'ki': 27, 'k': 28, 'ap': 29, 'kisi': 30, 'le': 31, 'ja': 32, 'o': 33, 'baat': 34, 'sy': 35}\n",
      "{'<UNK>': 0, 'or': 1, 'kon': 2, 'ha': 3, 'a': 4, 'thi': 5, 'hain': 6, 'sb': 7, 'Teri': 8, 'hi': 9, 'py': 10, 'hu': 11, 'ka': 12, 'ho': 13, 'to': 14, 'm': 15, 'b': 16, 'u': 17, 'me': 18, 'Hahaha': 19, 'bta': 20, 'ra': 21, 'wo': 22, 'kr': 23, 'jo': 24, 'ma': 25, 'na': 26, 'ki': 27, 'k': 28, 'ap': 29, 'kisi': 30, 'le': 31, 'ja': 32, 'o': 33, 'baat': 34, 'sy': 35, 'pta': 36}\n",
      "{'<UNK>': 0, 'or': 1, 'kon': 2, 'ha': 3, 'a': 4, 'thi': 5, 'hain': 6, 'sb': 7, 'Teri': 8, 'hi': 9, 'py': 10, 'hu': 11, 'ka': 12, 'ho': 13, 'to': 14, 'm': 15, 'b': 16, 'u': 17, 'me': 18, 'Hahaha': 19, 'bta': 20, 'ra': 21, 'wo': 22, 'kr': 23, 'jo': 24, 'ma': 25, 'na': 26, 'ki': 27, 'k': 28, 'ap': 29, 'kisi': 30, 'le': 31, 'ja': 32, 'o': 33, 'baat': 34, 'sy': 35, 'pta': 36, 'ni': 37}\n",
      "{'<UNK>': 0, 'or': 1, 'kon': 2, 'ha': 3, 'a': 4, 'thi': 5, 'hain': 6, 'sb': 7, 'Teri': 8, 'hi': 9, 'py': 10, 'hu': 11, 'ka': 12, 'ho': 13, 'to': 14, 'm': 15, 'b': 16, 'u': 17, 'me': 18, 'Hahaha': 19, 'bta': 20, 'ra': 21, 'wo': 22, 'kr': 23, 'jo': 24, 'ma': 25, 'na': 26, 'ki': 27, 'k': 28, 'ap': 29, 'kisi': 30, 'le': 31, 'ja': 32, 'o': 33, 'baat': 34, 'sy': 35, 'pta': 36, 'ni': 37, 'phir': 38}\n",
      "{'<UNK>': 0, 'or': 1, 'kon': 2, 'ha': 3, 'a': 4, 'thi': 5, 'hain': 6, 'sb': 7, 'Teri': 8, 'hi': 9, 'py': 10, 'hu': 11, 'ka': 12, 'ho': 13, 'to': 14, 'm': 15, 'b': 16, 'u': 17, 'me': 18, 'Hahaha': 19, 'bta': 20, 'ra': 21, 'wo': 22, 'kr': 23, 'jo': 24, 'ma': 25, 'na': 26, 'ki': 27, 'k': 28, 'ap': 29, 'kisi': 30, 'le': 31, 'ja': 32, 'o': 33, 'baat': 34, 'sy': 35, 'pta': 36, 'ni': 37, 'phir': 38, 'Han': 39}\n",
      "{'<UNK>': 0, 'or': 1, 'kon': 2, 'ha': 3, 'a': 4, 'thi': 5, 'hain': 6, 'sb': 7, 'Teri': 8, 'hi': 9, 'py': 10, 'hu': 11, 'ka': 12, 'ho': 13, 'to': 14, 'm': 15, 'b': 16, 'u': 17, 'me': 18, 'Hahaha': 19, 'bta': 20, 'ra': 21, 'wo': 22, 'kr': 23, 'jo': 24, 'ma': 25, 'na': 26, 'ki': 27, 'k': 28, 'ap': 29, 'kisi': 30, 'le': 31, 'ja': 32, 'o': 33, 'baat': 34, 'sy': 35, 'pta': 36, 'ni': 37, 'phir': 38, 'Han': 39, 'the': 40}\n",
      "{'<UNK>': 0, 'or': 1, 'kon': 2, 'ha': 3, 'a': 4, 'thi': 5, 'hain': 6, 'sb': 7, 'Teri': 8, 'hi': 9, 'py': 10, 'hu': 11, 'ka': 12, 'ho': 13, 'to': 14, 'm': 15, 'b': 16, 'u': 17, 'me': 18, 'Hahaha': 19, 'bta': 20, 'ra': 21, 'wo': 22, 'kr': 23, 'jo': 24, 'ma': 25, 'na': 26, 'ki': 27, 'k': 28, 'ap': 29, 'kisi': 30, 'le': 31, 'ja': 32, 'o': 33, 'baat': 34, 'sy': 35, 'pta': 36, 'ni': 37, 'phir': 38, 'Han': 39, 'the': 40, 'shakir': 41}\n",
      "{'<UNK>': 0, 'or': 1, 'kon': 2, 'ha': 3, 'a': 4, 'thi': 5, 'hain': 6, 'sb': 7, 'Teri': 8, 'hi': 9, 'py': 10, 'hu': 11, 'ka': 12, 'ho': 13, 'to': 14, 'm': 15, 'b': 16, 'u': 17, 'me': 18, 'Hahaha': 19, 'bta': 20, 'ra': 21, 'wo': 22, 'kr': 23, 'jo': 24, 'ma': 25, 'na': 26, 'ki': 27, 'k': 28, 'ap': 29, 'kisi': 30, 'le': 31, 'ja': 32, 'o': 33, 'baat': 34, 'sy': 35, 'pta': 36, 'ni': 37, 'phir': 38, 'Han': 39, 'the': 40, 'shakir': 41, 'ko': 42}\n",
      "{'<UNK>': 0, 'or': 1, 'kon': 2, 'ha': 3, 'a': 4, 'thi': 5, 'hain': 6, 'sb': 7, 'Teri': 8, 'hi': 9, 'py': 10, 'hu': 11, 'ka': 12, 'ho': 13, 'to': 14, 'm': 15, 'b': 16, 'u': 17, 'me': 18, 'Hahaha': 19, 'bta': 20, 'ra': 21, 'wo': 22, 'kr': 23, 'jo': 24, 'ma': 25, 'na': 26, 'ki': 27, 'k': 28, 'ap': 29, 'kisi': 30, 'le': 31, 'ja': 32, 'o': 33, 'baat': 34, 'sy': 35, 'pta': 36, 'ni': 37, 'phir': 38, 'Han': 39, 'the': 40, 'shakir': 41, 'ko': 42, 'kuch': 43}\n",
      "{'<UNK>': 0, 'or': 1, 'kon': 2, 'ha': 3, 'a': 4, 'thi': 5, 'hain': 6, 'sb': 7, 'Teri': 8, 'hi': 9, 'py': 10, 'hu': 11, 'ka': 12, 'ho': 13, 'to': 14, 'm': 15, 'b': 16, 'u': 17, 'me': 18, 'Hahaha': 19, 'bta': 20, 'ra': 21, 'wo': 22, 'kr': 23, 'jo': 24, 'ma': 25, 'na': 26, 'ki': 27, 'k': 28, 'ap': 29, 'kisi': 30, 'le': 31, 'ja': 32, 'o': 33, 'baat': 34, 'sy': 35, 'pta': 36, 'ni': 37, 'phir': 38, 'Han': 39, 'the': 40, 'shakir': 41, 'ko': 42, 'kuch': 43, 'yr': 44}\n",
      "{'<UNK>': 0, 'or': 1, 'kon': 2, 'ha': 3, 'a': 4, 'thi': 5, 'hain': 6, 'sb': 7, 'Teri': 8, 'hi': 9, 'py': 10, 'hu': 11, 'ka': 12, 'ho': 13, 'to': 14, 'm': 15, 'b': 16, 'u': 17, 'me': 18, 'Hahaha': 19, 'bta': 20, 'ra': 21, 'wo': 22, 'kr': 23, 'jo': 24, 'ma': 25, 'na': 26, 'ki': 27, 'k': 28, 'ap': 29, 'kisi': 30, 'le': 31, 'ja': 32, 'o': 33, 'baat': 34, 'sy': 35, 'pta': 36, 'ni': 37, 'phir': 38, 'Han': 39, 'the': 40, 'shakir': 41, 'ko': 42, 'kuch': 43, 'yr': 44, 'hogaya': 45}\n",
      "{'<UNK>': 0, 'or': 1, 'kon': 2, 'ha': 3, 'a': 4, 'thi': 5, 'hain': 6, 'sb': 7, 'Teri': 8, 'hi': 9, 'py': 10, 'hu': 11, 'ka': 12, 'ho': 13, 'to': 14, 'm': 15, 'b': 16, 'u': 17, 'me': 18, 'Hahaha': 19, 'bta': 20, 'ra': 21, 'wo': 22, 'kr': 23, 'jo': 24, 'ma': 25, 'na': 26, 'ki': 27, 'k': 28, 'ap': 29, 'kisi': 30, 'le': 31, 'ja': 32, 'o': 33, 'baat': 34, 'sy': 35, 'pta': 36, 'ni': 37, 'phir': 38, 'Han': 39, 'the': 40, 'shakir': 41, 'ko': 42, 'kuch': 43, 'yr': 44, 'hogaya': 45, 'tu': 46}\n",
      "{'<UNK>': 0, 'or': 1, 'kon': 2, 'ha': 3, 'a': 4, 'thi': 5, 'hain': 6, 'sb': 7, 'Teri': 8, 'hi': 9, 'py': 10, 'hu': 11, 'ka': 12, 'ho': 13, 'to': 14, 'm': 15, 'b': 16, 'u': 17, 'me': 18, 'Hahaha': 19, 'bta': 20, 'ra': 21, 'wo': 22, 'kr': 23, 'jo': 24, 'ma': 25, 'na': 26, 'ki': 27, 'k': 28, 'ap': 29, 'kisi': 30, 'le': 31, 'ja': 32, 'o': 33, 'baat': 34, 'sy': 35, 'pta': 36, 'ni': 37, 'phir': 38, 'Han': 39, 'the': 40, 'shakir': 41, 'ko': 42, 'kuch': 43, 'yr': 44, 'hogaya': 45, 'tu': 46, 'Haha': 47}\n",
      "{'<UNK>': 0, 'or': 1, 'kon': 2, 'ha': 3, 'a': 4, 'thi': 5, 'hain': 6, 'sb': 7, 'Teri': 8, 'hi': 9, 'py': 10, 'hu': 11, 'ka': 12, 'ho': 13, 'to': 14, 'm': 15, 'b': 16, 'u': 17, 'me': 18, 'Hahaha': 19, 'bta': 20, 'ra': 21, 'wo': 22, 'kr': 23, 'jo': 24, 'ma': 25, 'na': 26, 'ki': 27, 'k': 28, 'ap': 29, 'kisi': 30, 'le': 31, 'ja': 32, 'o': 33, 'baat': 34, 'sy': 35, 'pta': 36, 'ni': 37, 'phir': 38, 'Han': 39, 'the': 40, 'shakir': 41, 'ko': 42, 'kuch': 43, 'yr': 44, 'hogaya': 45, 'tu': 46, 'Haha': 47, 'wala': 48}\n",
      "{'<UNK>': 0, 'or': 1, 'kon': 2, 'ha': 3, 'a': 4, 'thi': 5, 'hain': 6, 'sb': 7, 'Teri': 8, 'hi': 9, 'py': 10, 'hu': 11, 'ka': 12, 'ho': 13, 'to': 14, 'm': 15, 'b': 16, 'u': 17, 'me': 18, 'Hahaha': 19, 'bta': 20, 'ra': 21, 'wo': 22, 'kr': 23, 'jo': 24, 'ma': 25, 'na': 26, 'ki': 27, 'k': 28, 'ap': 29, 'kisi': 30, 'le': 31, 'ja': 32, 'o': 33, 'baat': 34, 'sy': 35, 'pta': 36, 'ni': 37, 'phir': 38, 'Han': 39, 'the': 40, 'shakir': 41, 'ko': 42, 'kuch': 43, 'yr': 44, 'hogaya': 45, 'tu': 46, 'Haha': 47, 'wala': 48, 'ya': 49}\n",
      "{'<UNK>': 0, 'or': 1, 'kon': 2, 'ha': 3, 'a': 4, 'thi': 5, 'hain': 6, 'sb': 7, 'Teri': 8, 'hi': 9, 'py': 10, 'hu': 11, 'ka': 12, 'ho': 13, 'to': 14, 'm': 15, 'b': 16, 'u': 17, 'me': 18, 'Hahaha': 19, 'bta': 20, 'ra': 21, 'wo': 22, 'kr': 23, 'jo': 24, 'ma': 25, 'na': 26, 'ki': 27, 'k': 28, 'ap': 29, 'kisi': 30, 'le': 31, 'ja': 32, 'o': 33, 'baat': 34, 'sy': 35, 'pta': 36, 'ni': 37, 'phir': 38, 'Han': 39, 'the': 40, 'shakir': 41, 'ko': 42, 'kuch': 43, 'yr': 44, 'hogaya': 45, 'tu': 46, 'Haha': 47, 'wala': 48, 'ya': 49, 'wali': 50}\n",
      "{'<UNK>': 0, 'or': 1, 'kon': 2, 'ha': 3, 'a': 4, 'thi': 5, 'hain': 6, 'sb': 7, 'Teri': 8, 'hi': 9, 'py': 10, 'hu': 11, 'ka': 12, 'ho': 13, 'to': 14, 'm': 15, 'b': 16, 'u': 17, 'me': 18, 'Hahaha': 19, 'bta': 20, 'ra': 21, 'wo': 22, 'kr': 23, 'jo': 24, 'ma': 25, 'na': 26, 'ki': 27, 'k': 28, 'ap': 29, 'kisi': 30, 'le': 31, 'ja': 32, 'o': 33, 'baat': 34, 'sy': 35, 'pta': 36, 'ni': 37, 'phir': 38, 'Han': 39, 'the': 40, 'shakir': 41, 'ko': 42, 'kuch': 43, 'yr': 44, 'hogaya': 45, 'tu': 46, 'Haha': 47, 'wala': 48, 'ya': 49, 'wali': 50, 'h': 51}\n",
      "{'<UNK>': 0, 'or': 1, 'kon': 2, 'ha': 3, 'a': 4, 'thi': 5, 'hain': 6, 'sb': 7, 'Teri': 8, 'hi': 9, 'py': 10, 'hu': 11, 'ka': 12, 'ho': 13, 'to': 14, 'm': 15, 'b': 16, 'u': 17, 'me': 18, 'Hahaha': 19, 'bta': 20, 'ra': 21, 'wo': 22, 'kr': 23, 'jo': 24, 'ma': 25, 'na': 26, 'ki': 27, 'k': 28, 'ap': 29, 'kisi': 30, 'le': 31, 'ja': 32, 'o': 33, 'baat': 34, 'sy': 35, 'pta': 36, 'ni': 37, 'phir': 38, 'Han': 39, 'the': 40, 'shakir': 41, 'ko': 42, 'kuch': 43, 'yr': 44, 'hogaya': 45, 'tu': 46, 'Haha': 47, 'wala': 48, 'ya': 49, 'wali': 50, 'h': 51, 'ye': 52}\n",
      "{'<UNK>': 0, 'or': 1, 'kon': 2, 'ha': 3, 'a': 4, 'thi': 5, 'hain': 6, 'sb': 7, 'Teri': 8, 'hi': 9, 'py': 10, 'hu': 11, 'ka': 12, 'ho': 13, 'to': 14, 'm': 15, 'b': 16, 'u': 17, 'me': 18, 'Hahaha': 19, 'bta': 20, 'ra': 21, 'wo': 22, 'kr': 23, 'jo': 24, 'ma': 25, 'na': 26, 'ki': 27, 'k': 28, 'ap': 29, 'kisi': 30, 'le': 31, 'ja': 32, 'o': 33, 'baat': 34, 'sy': 35, 'pta': 36, 'ni': 37, 'phir': 38, 'Han': 39, 'the': 40, 'shakir': 41, 'ko': 42, 'kuch': 43, 'yr': 44, 'hogaya': 45, 'tu': 46, 'Haha': 47, 'wala': 48, 'ya': 49, 'wali': 50, 'h': 51, 'ye': 52, 'hai': 53}\n",
      "{'<UNK>': 0, 'or': 1, 'kon': 2, 'ha': 3, 'a': 4, 'thi': 5, 'hain': 6, 'sb': 7, 'Teri': 8, 'hi': 9, 'py': 10, 'hu': 11, 'ka': 12, 'ho': 13, 'to': 14, 'm': 15, 'b': 16, 'u': 17, 'me': 18, 'Hahaha': 19, 'bta': 20, 'ra': 21, 'wo': 22, 'kr': 23, 'jo': 24, 'ma': 25, 'na': 26, 'ki': 27, 'k': 28, 'ap': 29, 'kisi': 30, 'le': 31, 'ja': 32, 'o': 33, 'baat': 34, 'sy': 35, 'pta': 36, 'ni': 37, 'phir': 38, 'Han': 39, 'the': 40, 'shakir': 41, 'ko': 42, 'kuch': 43, 'yr': 44, 'hogaya': 45, 'tu': 46, 'Haha': 47, 'wala': 48, 'ya': 49, 'wali': 50, 'h': 51, 'ye': 52, 'hai': 53, 'Bai': 54}\n",
      "{'<UNK>': 0, 'or': 1, 'kon': 2, 'ha': 3, 'a': 4, 'thi': 5, 'hain': 6, 'sb': 7, 'Teri': 8, 'hi': 9, 'py': 10, 'hu': 11, 'ka': 12, 'ho': 13, 'to': 14, 'm': 15, 'b': 16, 'u': 17, 'me': 18, 'Hahaha': 19, 'bta': 20, 'ra': 21, 'wo': 22, 'kr': 23, 'jo': 24, 'ma': 25, 'na': 26, 'ki': 27, 'k': 28, 'ap': 29, 'kisi': 30, 'le': 31, 'ja': 32, 'o': 33, 'baat': 34, 'sy': 35, 'pta': 36, 'ni': 37, 'phir': 38, 'Han': 39, 'the': 40, 'shakir': 41, 'ko': 42, 'kuch': 43, 'yr': 44, 'hogaya': 45, 'tu': 46, 'Haha': 47, 'wala': 48, 'ya': 49, 'wali': 50, 'h': 51, 'ye': 52, 'hai': 53, 'Bai': 54, 'bht': 55}\n",
      "{'<UNK>': 0, 'or': 1, 'kon': 2, 'ha': 3, 'a': 4, 'thi': 5, 'hain': 6, 'sb': 7, 'Teri': 8, 'hi': 9, 'py': 10, 'hu': 11, 'ka': 12, 'ho': 13, 'to': 14, 'm': 15, 'b': 16, 'u': 17, 'me': 18, 'Hahaha': 19, 'bta': 20, 'ra': 21, 'wo': 22, 'kr': 23, 'jo': 24, 'ma': 25, 'na': 26, 'ki': 27, 'k': 28, 'ap': 29, 'kisi': 30, 'le': 31, 'ja': 32, 'o': 33, 'baat': 34, 'sy': 35, 'pta': 36, 'ni': 37, 'phir': 38, 'Han': 39, 'the': 40, 'shakir': 41, 'ko': 42, 'kuch': 43, 'yr': 44, 'hogaya': 45, 'tu': 46, 'Haha': 47, 'wala': 48, 'ya': 49, 'wali': 50, 'h': 51, 'ye': 52, 'hai': 53, 'Bai': 54, 'bht': 55, 'lga': 56}\n",
      "{'<UNK>': 0, 'or': 1, 'kon': 2, 'ha': 3, 'a': 4, 'thi': 5, 'hain': 6, 'sb': 7, 'Teri': 8, 'hi': 9, 'py': 10, 'hu': 11, 'ka': 12, 'ho': 13, 'to': 14, 'm': 15, 'b': 16, 'u': 17, 'me': 18, 'Hahaha': 19, 'bta': 20, 'ra': 21, 'wo': 22, 'kr': 23, 'jo': 24, 'ma': 25, 'na': 26, 'ki': 27, 'k': 28, 'ap': 29, 'kisi': 30, 'le': 31, 'ja': 32, 'o': 33, 'baat': 34, 'sy': 35, 'pta': 36, 'ni': 37, 'phir': 38, 'Han': 39, 'the': 40, 'shakir': 41, 'ko': 42, 'kuch': 43, 'yr': 44, 'hogaya': 45, 'tu': 46, 'Haha': 47, 'wala': 48, 'ya': 49, 'wali': 50, 'h': 51, 'ye': 52, 'hai': 53, 'Bai': 54, 'bht': 55, 'lga': 56, 'mera': 57}\n",
      "{'<UNK>': 0, 'or': 1, 'kon': 2, 'ha': 3, 'a': 4, 'thi': 5, 'hain': 6, 'sb': 7, 'Teri': 8, 'hi': 9, 'py': 10, 'hu': 11, 'ka': 12, 'ho': 13, 'to': 14, 'm': 15, 'b': 16, 'u': 17, 'me': 18, 'Hahaha': 19, 'bta': 20, 'ra': 21, 'wo': 22, 'kr': 23, 'jo': 24, 'ma': 25, 'na': 26, 'ki': 27, 'k': 28, 'ap': 29, 'kisi': 30, 'le': 31, 'ja': 32, 'o': 33, 'baat': 34, 'sy': 35, 'pta': 36, 'ni': 37, 'phir': 38, 'Han': 39, 'the': 40, 'shakir': 41, 'ko': 42, 'kuch': 43, 'yr': 44, 'hogaya': 45, 'tu': 46, 'Haha': 47, 'wala': 48, 'ya': 49, 'wali': 50, 'h': 51, 'ye': 52, 'hai': 53, 'Bai': 54, 'bht': 55, 'lga': 56, 'mera': 57, 'unki': 58}\n",
      "{'<UNK>': 0, 'or': 1, 'kon': 2, 'ha': 3, 'a': 4, 'thi': 5, 'hain': 6, 'sb': 7, 'Teri': 8, 'hi': 9, 'py': 10, 'hu': 11, 'ka': 12, 'ho': 13, 'to': 14, 'm': 15, 'b': 16, 'u': 17, 'me': 18, 'Hahaha': 19, 'bta': 20, 'ra': 21, 'wo': 22, 'kr': 23, 'jo': 24, 'ma': 25, 'na': 26, 'ki': 27, 'k': 28, 'ap': 29, 'kisi': 30, 'le': 31, 'ja': 32, 'o': 33, 'baat': 34, 'sy': 35, 'pta': 36, 'ni': 37, 'phir': 38, 'Han': 39, 'the': 40, 'shakir': 41, 'ko': 42, 'kuch': 43, 'yr': 44, 'hogaya': 45, 'tu': 46, 'Haha': 47, 'wala': 48, 'ya': 49, 'wali': 50, 'h': 51, 'ye': 52, 'hai': 53, 'Bai': 54, 'bht': 55, 'lga': 56, 'mera': 57, 'unki': 58, 'bs': 59}\n",
      "{'<UNK>': 0, 'or': 1, 'kon': 2, 'ha': 3, 'a': 4, 'thi': 5, 'hain': 6, 'sb': 7, 'Teri': 8, 'hi': 9, 'py': 10, 'hu': 11, 'ka': 12, 'ho': 13, 'to': 14, 'm': 15, 'b': 16, 'u': 17, 'me': 18, 'Hahaha': 19, 'bta': 20, 'ra': 21, 'wo': 22, 'kr': 23, 'jo': 24, 'ma': 25, 'na': 26, 'ki': 27, 'k': 28, 'ap': 29, 'kisi': 30, 'le': 31, 'ja': 32, 'o': 33, 'baat': 34, 'sy': 35, 'pta': 36, 'ni': 37, 'phir': 38, 'Han': 39, 'the': 40, 'shakir': 41, 'ko': 42, 'kuch': 43, 'yr': 44, 'hogaya': 45, 'tu': 46, 'Haha': 47, 'wala': 48, 'ya': 49, 'wali': 50, 'h': 51, 'ye': 52, 'hai': 53, 'Bai': 54, 'bht': 55, 'lga': 56, 'mera': 57, 'unki': 58, 'bs': 59, 'kb': 60}\n",
      "{'<UNK>': 0, 'or': 1, 'kon': 2, 'ha': 3, 'a': 4, 'thi': 5, 'hain': 6, 'sb': 7, 'Teri': 8, 'hi': 9, 'py': 10, 'hu': 11, 'ka': 12, 'ho': 13, 'to': 14, 'm': 15, 'b': 16, 'u': 17, 'me': 18, 'Hahaha': 19, 'bta': 20, 'ra': 21, 'wo': 22, 'kr': 23, 'jo': 24, 'ma': 25, 'na': 26, 'ki': 27, 'k': 28, 'ap': 29, 'kisi': 30, 'le': 31, 'ja': 32, 'o': 33, 'baat': 34, 'sy': 35, 'pta': 36, 'ni': 37, 'phir': 38, 'Han': 39, 'the': 40, 'shakir': 41, 'ko': 42, 'kuch': 43, 'yr': 44, 'hogaya': 45, 'tu': 46, 'Haha': 47, 'wala': 48, 'ya': 49, 'wali': 50, 'h': 51, 'ye': 52, 'hai': 53, 'Bai': 54, 'bht': 55, 'lga': 56, 'mera': 57, 'unki': 58, 'bs': 59, 'kb': 60, 'howa': 61}\n",
      "{'<UNK>': 0, 'or': 1, 'kon': 2, 'ha': 3, 'a': 4, 'thi': 5, 'hain': 6, 'sb': 7, 'Teri': 8, 'hi': 9, 'py': 10, 'hu': 11, 'ka': 12, 'ho': 13, 'to': 14, 'm': 15, 'b': 16, 'u': 17, 'me': 18, 'Hahaha': 19, 'bta': 20, 'ra': 21, 'wo': 22, 'kr': 23, 'jo': 24, 'ma': 25, 'na': 26, 'ki': 27, 'k': 28, 'ap': 29, 'kisi': 30, 'le': 31, 'ja': 32, 'o': 33, 'baat': 34, 'sy': 35, 'pta': 36, 'ni': 37, 'phir': 38, 'Han': 39, 'the': 40, 'shakir': 41, 'ko': 42, 'kuch': 43, 'yr': 44, 'hogaya': 45, 'tu': 46, 'Haha': 47, 'wala': 48, 'ya': 49, 'wali': 50, 'h': 51, 'ye': 52, 'hai': 53, 'Bai': 54, 'bht': 55, 'lga': 56, 'mera': 57, 'unki': 58, 'bs': 59, 'kb': 60, 'howa': 61, 'ny': 62}\n",
      "{'<UNK>': 0, 'or': 1, 'kon': 2, 'ha': 3, 'a': 4, 'thi': 5, 'hain': 6, 'sb': 7, 'Teri': 8, 'hi': 9, 'py': 10, 'hu': 11, 'ka': 12, 'ho': 13, 'to': 14, 'm': 15, 'b': 16, 'u': 17, 'me': 18, 'Hahaha': 19, 'bta': 20, 'ra': 21, 'wo': 22, 'kr': 23, 'jo': 24, 'ma': 25, 'na': 26, 'ki': 27, 'k': 28, 'ap': 29, 'kisi': 30, 'le': 31, 'ja': 32, 'o': 33, 'baat': 34, 'sy': 35, 'pta': 36, 'ni': 37, 'phir': 38, 'Han': 39, 'the': 40, 'shakir': 41, 'ko': 42, 'kuch': 43, 'yr': 44, 'hogaya': 45, 'tu': 46, 'Haha': 47, 'wala': 48, 'ya': 49, 'wali': 50, 'h': 51, 'ye': 52, 'hai': 53, 'Bai': 54, 'bht': 55, 'lga': 56, 'mera': 57, 'unki': 58, 'bs': 59, 'kb': 60, 'howa': 61, 'ny': 62, 'main': 63}\n",
      "{'<UNK>': 0, 'or': 1, 'kon': 2, 'ha': 3, 'a': 4, 'thi': 5, 'hain': 6, 'sb': 7, 'Teri': 8, 'hi': 9, 'py': 10, 'hu': 11, 'ka': 12, 'ho': 13, 'to': 14, 'm': 15, 'b': 16, 'u': 17, 'me': 18, 'Hahaha': 19, 'bta': 20, 'ra': 21, 'wo': 22, 'kr': 23, 'jo': 24, 'ma': 25, 'na': 26, 'ki': 27, 'k': 28, 'ap': 29, 'kisi': 30, 'le': 31, 'ja': 32, 'o': 33, 'baat': 34, 'sy': 35, 'pta': 36, 'ni': 37, 'phir': 38, 'Han': 39, 'the': 40, 'shakir': 41, 'ko': 42, 'kuch': 43, 'yr': 44, 'hogaya': 45, 'tu': 46, 'Haha': 47, 'wala': 48, 'ya': 49, 'wali': 50, 'h': 51, 'ye': 52, 'hai': 53, 'Bai': 54, 'bht': 55, 'lga': 56, 'mera': 57, 'unki': 58, 'bs': 59, 'kb': 60, 'howa': 61, 'ny': 62, 'main': 63, 'koi': 64}\n",
      "{'<UNK>': 0, 'or': 1, 'kon': 2, 'ha': 3, 'a': 4, 'thi': 5, 'hain': 6, 'sb': 7, 'Teri': 8, 'hi': 9, 'py': 10, 'hu': 11, 'ka': 12, 'ho': 13, 'to': 14, 'm': 15, 'b': 16, 'u': 17, 'me': 18, 'Hahaha': 19, 'bta': 20, 'ra': 21, 'wo': 22, 'kr': 23, 'jo': 24, 'ma': 25, 'na': 26, 'ki': 27, 'k': 28, 'ap': 29, 'kisi': 30, 'le': 31, 'ja': 32, 'o': 33, 'baat': 34, 'sy': 35, 'pta': 36, 'ni': 37, 'phir': 38, 'Han': 39, 'the': 40, 'shakir': 41, 'ko': 42, 'kuch': 43, 'yr': 44, 'hogaya': 45, 'tu': 46, 'Haha': 47, 'wala': 48, 'ya': 49, 'wali': 50, 'h': 51, 'ye': 52, 'hai': 53, 'Bai': 54, 'bht': 55, 'lga': 56, 'mera': 57, 'unki': 58, 'bs': 59, 'kb': 60, 'howa': 61, 'ny': 62, 'main': 63, 'koi': 64, 'ky': 65}\n",
      "{'<UNK>': 0, 'or': 1, 'kon': 2, 'ha': 3, 'a': 4, 'thi': 5, 'hain': 6, 'sb': 7, 'Teri': 8, 'hi': 9, 'py': 10, 'hu': 11, 'ka': 12, 'ho': 13, 'to': 14, 'm': 15, 'b': 16, 'u': 17, 'me': 18, 'Hahaha': 19, 'bta': 20, 'ra': 21, 'wo': 22, 'kr': 23, 'jo': 24, 'ma': 25, 'na': 26, 'ki': 27, 'k': 28, 'ap': 29, 'kisi': 30, 'le': 31, 'ja': 32, 'o': 33, 'baat': 34, 'sy': 35, 'pta': 36, 'ni': 37, 'phir': 38, 'Han': 39, 'the': 40, 'shakir': 41, 'ko': 42, 'kuch': 43, 'yr': 44, 'hogaya': 45, 'tu': 46, 'Haha': 47, 'wala': 48, 'ya': 49, 'wali': 50, 'h': 51, 'ye': 52, 'hai': 53, 'Bai': 54, 'bht': 55, 'lga': 56, 'mera': 57, 'unki': 58, 'bs': 59, 'kb': 60, 'howa': 61, 'ny': 62, 'main': 63, 'koi': 64, 'ky': 65, 'se': 66}\n",
      "{'<UNK>': 0, 'or': 1, 'kon': 2, 'ha': 3, 'a': 4, 'thi': 5, 'hain': 6, 'sb': 7, 'Teri': 8, 'hi': 9, 'py': 10, 'hu': 11, 'ka': 12, 'ho': 13, 'to': 14, 'm': 15, 'b': 16, 'u': 17, 'me': 18, 'Hahaha': 19, 'bta': 20, 'ra': 21, 'wo': 22, 'kr': 23, 'jo': 24, 'ma': 25, 'na': 26, 'ki': 27, 'k': 28, 'ap': 29, 'kisi': 30, 'le': 31, 'ja': 32, 'o': 33, 'baat': 34, 'sy': 35, 'pta': 36, 'ni': 37, 'phir': 38, 'Han': 39, 'the': 40, 'shakir': 41, 'ko': 42, 'kuch': 43, 'yr': 44, 'hogaya': 45, 'tu': 46, 'Haha': 47, 'wala': 48, 'ya': 49, 'wali': 50, 'h': 51, 'ye': 52, 'hai': 53, 'Bai': 54, 'bht': 55, 'lga': 56, 'mera': 57, 'unki': 58, 'bs': 59, 'kb': 60, 'howa': 61, 'ny': 62, 'main': 63, 'koi': 64, 'ky': 65, 'se': 66, 'hy': 67}\n",
      "{'<UNK>': 0, 'or': 1, 'kon': 2, 'ha': 3, 'a': 4, 'thi': 5, 'hain': 6, 'sb': 7, 'Teri': 8, 'hi': 9, 'py': 10, 'hu': 11, 'ka': 12, 'ho': 13, 'to': 14, 'm': 15, 'b': 16, 'u': 17, 'me': 18, 'Hahaha': 19, 'bta': 20, 'ra': 21, 'wo': 22, 'kr': 23, 'jo': 24, 'ma': 25, 'na': 26, 'ki': 27, 'k': 28, 'ap': 29, 'kisi': 30, 'le': 31, 'ja': 32, 'o': 33, 'baat': 34, 'sy': 35, 'pta': 36, 'ni': 37, 'phir': 38, 'Han': 39, 'the': 40, 'shakir': 41, 'ko': 42, 'kuch': 43, 'yr': 44, 'hogaya': 45, 'tu': 46, 'Haha': 47, 'wala': 48, 'ya': 49, 'wali': 50, 'h': 51, 'ye': 52, 'hai': 53, 'Bai': 54, 'bht': 55, 'lga': 56, 'mera': 57, 'unki': 58, 'bs': 59, 'kb': 60, 'howa': 61, 'ny': 62, 'main': 63, 'koi': 64, 'ky': 65, 'se': 66, 'hy': 67, 'Ha': 68}\n",
      "{'<UNK>': 0, 'or': 1, 'kon': 2, 'ha': 3, 'a': 4, 'thi': 5, 'hain': 6, 'sb': 7, 'Teri': 8, 'hi': 9, 'py': 10, 'hu': 11, 'ka': 12, 'ho': 13, 'to': 14, 'm': 15, 'b': 16, 'u': 17, 'me': 18, 'Hahaha': 19, 'bta': 20, 'ra': 21, 'wo': 22, 'kr': 23, 'jo': 24, 'ma': 25, 'na': 26, 'ki': 27, 'k': 28, 'ap': 29, 'kisi': 30, 'le': 31, 'ja': 32, 'o': 33, 'baat': 34, 'sy': 35, 'pta': 36, 'ni': 37, 'phir': 38, 'Han': 39, 'the': 40, 'shakir': 41, 'ko': 42, 'kuch': 43, 'yr': 44, 'hogaya': 45, 'tu': 46, 'Haha': 47, 'wala': 48, 'ya': 49, 'wali': 50, 'h': 51, 'ye': 52, 'hai': 53, 'Bai': 54, 'bht': 55, 'lga': 56, 'mera': 57, 'unki': 58, 'bs': 59, 'kb': 60, 'howa': 61, 'ny': 62, 'main': 63, 'koi': 64, 'ky': 65, 'se': 66, 'hy': 67, 'Ha': 68, 'kia': 69}\n",
      "{'<UNK>': 0, 'or': 1, 'kon': 2, 'ha': 3, 'a': 4, 'thi': 5, 'hain': 6, 'sb': 7, 'Teri': 8, 'hi': 9, 'py': 10, 'hu': 11, 'ka': 12, 'ho': 13, 'to': 14, 'm': 15, 'b': 16, 'u': 17, 'me': 18, 'Hahaha': 19, 'bta': 20, 'ra': 21, 'wo': 22, 'kr': 23, 'jo': 24, 'ma': 25, 'na': 26, 'ki': 27, 'k': 28, 'ap': 29, 'kisi': 30, 'le': 31, 'ja': 32, 'o': 33, 'baat': 34, 'sy': 35, 'pta': 36, 'ni': 37, 'phir': 38, 'Han': 39, 'the': 40, 'shakir': 41, 'ko': 42, 'kuch': 43, 'yr': 44, 'hogaya': 45, 'tu': 46, 'Haha': 47, 'wala': 48, 'ya': 49, 'wali': 50, 'h': 51, 'ye': 52, 'hai': 53, 'Bai': 54, 'bht': 55, 'lga': 56, 'mera': 57, 'unki': 58, 'bs': 59, 'kb': 60, 'howa': 61, 'ny': 62, 'main': 63, 'koi': 64, 'ky': 65, 'se': 66, 'hy': 67, 'Ha': 68, 'kia': 69, 'smjh': 70}\n",
      "{'<UNK>': 0, 'or': 1, 'kon': 2, 'ha': 3, 'a': 4, 'thi': 5, 'hain': 6, 'sb': 7, 'Teri': 8, 'hi': 9, 'py': 10, 'hu': 11, 'ka': 12, 'ho': 13, 'to': 14, 'm': 15, 'b': 16, 'u': 17, 'me': 18, 'Hahaha': 19, 'bta': 20, 'ra': 21, 'wo': 22, 'kr': 23, 'jo': 24, 'ma': 25, 'na': 26, 'ki': 27, 'k': 28, 'ap': 29, 'kisi': 30, 'le': 31, 'ja': 32, 'o': 33, 'baat': 34, 'sy': 35, 'pta': 36, 'ni': 37, 'phir': 38, 'Han': 39, 'the': 40, 'shakir': 41, 'ko': 42, 'kuch': 43, 'yr': 44, 'hogaya': 45, 'tu': 46, 'Haha': 47, 'wala': 48, 'ya': 49, 'wali': 50, 'h': 51, 'ye': 52, 'hai': 53, 'Bai': 54, 'bht': 55, 'lga': 56, 'mera': 57, 'unki': 58, 'bs': 59, 'kb': 60, 'howa': 61, 'ny': 62, 'main': 63, 'koi': 64, 'ky': 65, 'se': 66, 'hy': 67, 'Ha': 68, 'kia': 69, 'smjh': 70, 'jata': 71}\n",
      "{'<UNK>': 0, 'or': 1, 'kon': 2, 'ha': 3, 'a': 4, 'thi': 5, 'hain': 6, 'sb': 7, 'Teri': 8, 'hi': 9, 'py': 10, 'hu': 11, 'ka': 12, 'ho': 13, 'to': 14, 'm': 15, 'b': 16, 'u': 17, 'me': 18, 'Hahaha': 19, 'bta': 20, 'ra': 21, 'wo': 22, 'kr': 23, 'jo': 24, 'ma': 25, 'na': 26, 'ki': 27, 'k': 28, 'ap': 29, 'kisi': 30, 'le': 31, 'ja': 32, 'o': 33, 'baat': 34, 'sy': 35, 'pta': 36, 'ni': 37, 'phir': 38, 'Han': 39, 'the': 40, 'shakir': 41, 'ko': 42, 'kuch': 43, 'yr': 44, 'hogaya': 45, 'tu': 46, 'Haha': 47, 'wala': 48, 'ya': 49, 'wali': 50, 'h': 51, 'ye': 52, 'hai': 53, 'Bai': 54, 'bht': 55, 'lga': 56, 'mera': 57, 'unki': 58, 'bs': 59, 'kb': 60, 'howa': 61, 'ny': 62, 'main': 63, 'koi': 64, 'ky': 65, 'se': 66, 'hy': 67, 'Ha': 68, 'kia': 69, 'smjh': 70, 'jata': 71, 'kya': 72}\n",
      "{'<UNK>': 0, 'or': 1, 'kon': 2, 'ha': 3, 'a': 4, 'thi': 5, 'hain': 6, 'sb': 7, 'Teri': 8, 'hi': 9, 'py': 10, 'hu': 11, 'ka': 12, 'ho': 13, 'to': 14, 'm': 15, 'b': 16, 'u': 17, 'me': 18, 'Hahaha': 19, 'bta': 20, 'ra': 21, 'wo': 22, 'kr': 23, 'jo': 24, 'ma': 25, 'na': 26, 'ki': 27, 'k': 28, 'ap': 29, 'kisi': 30, 'le': 31, 'ja': 32, 'o': 33, 'baat': 34, 'sy': 35, 'pta': 36, 'ni': 37, 'phir': 38, 'Han': 39, 'the': 40, 'shakir': 41, 'ko': 42, 'kuch': 43, 'yr': 44, 'hogaya': 45, 'tu': 46, 'Haha': 47, 'wala': 48, 'ya': 49, 'wali': 50, 'h': 51, 'ye': 52, 'hai': 53, 'Bai': 54, 'bht': 55, 'lga': 56, 'mera': 57, 'unki': 58, 'bs': 59, 'kb': 60, 'howa': 61, 'ny': 62, 'main': 63, 'koi': 64, 'ky': 65, 'se': 66, 'hy': 67, 'Ha': 68, 'kia': 69, 'smjh': 70, 'jata': 71, 'kya': 72, 'e': 73}\n",
      "{'<UNK>': 0, 'or': 1, 'kon': 2, 'ha': 3, 'a': 4, 'thi': 5, 'hain': 6, 'sb': 7, 'Teri': 8, 'hi': 9, 'py': 10, 'hu': 11, 'ka': 12, 'ho': 13, 'to': 14, 'm': 15, 'b': 16, 'u': 17, 'me': 18, 'Hahaha': 19, 'bta': 20, 'ra': 21, 'wo': 22, 'kr': 23, 'jo': 24, 'ma': 25, 'na': 26, 'ki': 27, 'k': 28, 'ap': 29, 'kisi': 30, 'le': 31, 'ja': 32, 'o': 33, 'baat': 34, 'sy': 35, 'pta': 36, 'ni': 37, 'phir': 38, 'Han': 39, 'the': 40, 'shakir': 41, 'ko': 42, 'kuch': 43, 'yr': 44, 'hogaya': 45, 'tu': 46, 'Haha': 47, 'wala': 48, 'ya': 49, 'wali': 50, 'h': 51, 'ye': 52, 'hai': 53, 'Bai': 54, 'bht': 55, 'lga': 56, 'mera': 57, 'unki': 58, 'bs': 59, 'kb': 60, 'howa': 61, 'ny': 62, 'main': 63, 'koi': 64, 'ky': 65, 'se': 66, 'hy': 67, 'Ha': 68, 'kia': 69, 'smjh': 70, 'jata': 71, 'kya': 72, 'e': 73, 'kbhi': 74}\n",
      "{'<UNK>': 0, 'or': 1, 'kon': 2, 'ha': 3, 'a': 4, 'thi': 5, 'hain': 6, 'sb': 7, 'Teri': 8, 'hi': 9, 'py': 10, 'hu': 11, 'ka': 12, 'ho': 13, 'to': 14, 'm': 15, 'b': 16, 'u': 17, 'me': 18, 'Hahaha': 19, 'bta': 20, 'ra': 21, 'wo': 22, 'kr': 23, 'jo': 24, 'ma': 25, 'na': 26, 'ki': 27, 'k': 28, 'ap': 29, 'kisi': 30, 'le': 31, 'ja': 32, 'o': 33, 'baat': 34, 'sy': 35, 'pta': 36, 'ni': 37, 'phir': 38, 'Han': 39, 'the': 40, 'shakir': 41, 'ko': 42, 'kuch': 43, 'yr': 44, 'hogaya': 45, 'tu': 46, 'Haha': 47, 'wala': 48, 'ya': 49, 'wali': 50, 'h': 51, 'ye': 52, 'hai': 53, 'Bai': 54, 'bht': 55, 'lga': 56, 'mera': 57, 'unki': 58, 'bs': 59, 'kb': 60, 'howa': 61, 'ny': 62, 'main': 63, 'koi': 64, 'ky': 65, 'se': 66, 'hy': 67, 'Ha': 68, 'kia': 69, 'smjh': 70, 'jata': 71, 'kya': 72, 'e': 73, 'kbhi': 74, 'lo': 75}\n",
      "{'<UNK>': 0, 'or': 1, 'kon': 2, 'ha': 3, 'a': 4, 'thi': 5, 'hain': 6, 'sb': 7, 'Teri': 8, 'hi': 9, 'py': 10, 'hu': 11, 'ka': 12, 'ho': 13, 'to': 14, 'm': 15, 'b': 16, 'u': 17, 'me': 18, 'Hahaha': 19, 'bta': 20, 'ra': 21, 'wo': 22, 'kr': 23, 'jo': 24, 'ma': 25, 'na': 26, 'ki': 27, 'k': 28, 'ap': 29, 'kisi': 30, 'le': 31, 'ja': 32, 'o': 33, 'baat': 34, 'sy': 35, 'pta': 36, 'ni': 37, 'phir': 38, 'Han': 39, 'the': 40, 'shakir': 41, 'ko': 42, 'kuch': 43, 'yr': 44, 'hogaya': 45, 'tu': 46, 'Haha': 47, 'wala': 48, 'ya': 49, 'wali': 50, 'h': 51, 'ye': 52, 'hai': 53, 'Bai': 54, 'bht': 55, 'lga': 56, 'mera': 57, 'unki': 58, 'bs': 59, 'kb': 60, 'howa': 61, 'ny': 62, 'main': 63, 'koi': 64, 'ky': 65, 'se': 66, 'hy': 67, 'Ha': 68, 'kia': 69, 'smjh': 70, 'jata': 71, 'kya': 72, 'e': 73, 'kbhi': 74, 'lo': 75, 'baii': 76}\n",
      "{'<UNK>': 0, 'or': 1, 'kon': 2, 'ha': 3, 'a': 4, 'thi': 5, 'hain': 6, 'sb': 7, 'Teri': 8, 'hi': 9, 'py': 10, 'hu': 11, 'ka': 12, 'ho': 13, 'to': 14, 'm': 15, 'b': 16, 'u': 17, 'me': 18, 'Hahaha': 19, 'bta': 20, 'ra': 21, 'wo': 22, 'kr': 23, 'jo': 24, 'ma': 25, 'na': 26, 'ki': 27, 'k': 28, 'ap': 29, 'kisi': 30, 'le': 31, 'ja': 32, 'o': 33, 'baat': 34, 'sy': 35, 'pta': 36, 'ni': 37, 'phir': 38, 'Han': 39, 'the': 40, 'shakir': 41, 'ko': 42, 'kuch': 43, 'yr': 44, 'hogaya': 45, 'tu': 46, 'Haha': 47, 'wala': 48, 'ya': 49, 'wali': 50, 'h': 51, 'ye': 52, 'hai': 53, 'Bai': 54, 'bht': 55, 'lga': 56, 'mera': 57, 'unki': 58, 'bs': 59, 'kb': 60, 'howa': 61, 'ny': 62, 'main': 63, 'koi': 64, 'ky': 65, 'se': 66, 'hy': 67, 'Ha': 68, 'kia': 69, 'smjh': 70, 'jata': 71, 'kya': 72, 'e': 73, 'kbhi': 74, 'lo': 75, 'baii': 76, 'kiya': 77}\n",
      "{'<UNK>': 0, 'or': 1, 'kon': 2, 'ha': 3, 'a': 4, 'thi': 5, 'hain': 6, 'sb': 7, 'Teri': 8, 'hi': 9, 'py': 10, 'hu': 11, 'ka': 12, 'ho': 13, 'to': 14, 'm': 15, 'b': 16, 'u': 17, 'me': 18, 'Hahaha': 19, 'bta': 20, 'ra': 21, 'wo': 22, 'kr': 23, 'jo': 24, 'ma': 25, 'na': 26, 'ki': 27, 'k': 28, 'ap': 29, 'kisi': 30, 'le': 31, 'ja': 32, 'o': 33, 'baat': 34, 'sy': 35, 'pta': 36, 'ni': 37, 'phir': 38, 'Han': 39, 'the': 40, 'shakir': 41, 'ko': 42, 'kuch': 43, 'yr': 44, 'hogaya': 45, 'tu': 46, 'Haha': 47, 'wala': 48, 'ya': 49, 'wali': 50, 'h': 51, 'ye': 52, 'hai': 53, 'Bai': 54, 'bht': 55, 'lga': 56, 'mera': 57, 'unki': 58, 'bs': 59, 'kb': 60, 'howa': 61, 'ny': 62, 'main': 63, 'koi': 64, 'ky': 65, 'se': 66, 'hy': 67, 'Ha': 68, 'kia': 69, 'smjh': 70, 'jata': 71, 'kya': 72, 'e': 73, 'kbhi': 74, 'lo': 75, 'baii': 76, 'kiya': 77, 'Ni': 78}\n",
      "{'<UNK>': 0, 'or': 1, 'kon': 2, 'ha': 3, 'a': 4, 'thi': 5, 'hain': 6, 'sb': 7, 'Teri': 8, 'hi': 9, 'py': 10, 'hu': 11, 'ka': 12, 'ho': 13, 'to': 14, 'm': 15, 'b': 16, 'u': 17, 'me': 18, 'Hahaha': 19, 'bta': 20, 'ra': 21, 'wo': 22, 'kr': 23, 'jo': 24, 'ma': 25, 'na': 26, 'ki': 27, 'k': 28, 'ap': 29, 'kisi': 30, 'le': 31, 'ja': 32, 'o': 33, 'baat': 34, 'sy': 35, 'pta': 36, 'ni': 37, 'phir': 38, 'Han': 39, 'the': 40, 'shakir': 41, 'ko': 42, 'kuch': 43, 'yr': 44, 'hogaya': 45, 'tu': 46, 'Haha': 47, 'wala': 48, 'ya': 49, 'wali': 50, 'h': 51, 'ye': 52, 'hai': 53, 'Bai': 54, 'bht': 55, 'lga': 56, 'mera': 57, 'unki': 58, 'bs': 59, 'kb': 60, 'howa': 61, 'ny': 62, 'main': 63, 'koi': 64, 'ky': 65, 'se': 66, 'hy': 67, 'Ha': 68, 'kia': 69, 'smjh': 70, 'jata': 71, 'kya': 72, 'e': 73, 'kbhi': 74, 'lo': 75, 'baii': 76, 'kiya': 77, 'Ni': 78, 'Allah': 79}\n",
      "{'<UNK>': 0, 'or': 1, 'kon': 2, 'ha': 3, 'a': 4, 'thi': 5, 'hain': 6, 'sb': 7, 'Teri': 8, 'hi': 9, 'py': 10, 'hu': 11, 'ka': 12, 'ho': 13, 'to': 14, 'm': 15, 'b': 16, 'u': 17, 'me': 18, 'Hahaha': 19, 'bta': 20, 'ra': 21, 'wo': 22, 'kr': 23, 'jo': 24, 'ma': 25, 'na': 26, 'ki': 27, 'k': 28, 'ap': 29, 'kisi': 30, 'le': 31, 'ja': 32, 'o': 33, 'baat': 34, 'sy': 35, 'pta': 36, 'ni': 37, 'phir': 38, 'Han': 39, 'the': 40, 'shakir': 41, 'ko': 42, 'kuch': 43, 'yr': 44, 'hogaya': 45, 'tu': 46, 'Haha': 47, 'wala': 48, 'ya': 49, 'wali': 50, 'h': 51, 'ye': 52, 'hai': 53, 'Bai': 54, 'bht': 55, 'lga': 56, 'mera': 57, 'unki': 58, 'bs': 59, 'kb': 60, 'howa': 61, 'ny': 62, 'main': 63, 'koi': 64, 'ky': 65, 'se': 66, 'hy': 67, 'Ha': 68, 'kia': 69, 'smjh': 70, 'jata': 71, 'kya': 72, 'e': 73, 'kbhi': 74, 'lo': 75, 'baii': 76, 'kiya': 77, 'Ni': 78, 'Allah': 79, 'O': 80}\n",
      "{'<UNK>': 0, 'or': 1, 'kon': 2, 'ha': 3, 'a': 4, 'thi': 5, 'hain': 6, 'sb': 7, 'Teri': 8, 'hi': 9, 'py': 10, 'hu': 11, 'ka': 12, 'ho': 13, 'to': 14, 'm': 15, 'b': 16, 'u': 17, 'me': 18, 'Hahaha': 19, 'bta': 20, 'ra': 21, 'wo': 22, 'kr': 23, 'jo': 24, 'ma': 25, 'na': 26, 'ki': 27, 'k': 28, 'ap': 29, 'kisi': 30, 'le': 31, 'ja': 32, 'o': 33, 'baat': 34, 'sy': 35, 'pta': 36, 'ni': 37, 'phir': 38, 'Han': 39, 'the': 40, 'shakir': 41, 'ko': 42, 'kuch': 43, 'yr': 44, 'hogaya': 45, 'tu': 46, 'Haha': 47, 'wala': 48, 'ya': 49, 'wali': 50, 'h': 51, 'ye': 52, 'hai': 53, 'Bai': 54, 'bht': 55, 'lga': 56, 'mera': 57, 'unki': 58, 'bs': 59, 'kb': 60, 'howa': 61, 'ny': 62, 'main': 63, 'koi': 64, 'ky': 65, 'se': 66, 'hy': 67, 'Ha': 68, 'kia': 69, 'smjh': 70, 'jata': 71, 'kya': 72, 'e': 73, 'kbhi': 74, 'lo': 75, 'baii': 76, 'kiya': 77, 'Ni': 78, 'Allah': 79, 'O': 80, 'lena': 81}\n",
      "{'<UNK>': 0, 'or': 1, 'kon': 2, 'ha': 3, 'a': 4, 'thi': 5, 'hain': 6, 'sb': 7, 'Teri': 8, 'hi': 9, 'py': 10, 'hu': 11, 'ka': 12, 'ho': 13, 'to': 14, 'm': 15, 'b': 16, 'u': 17, 'me': 18, 'Hahaha': 19, 'bta': 20, 'ra': 21, 'wo': 22, 'kr': 23, 'jo': 24, 'ma': 25, 'na': 26, 'ki': 27, 'k': 28, 'ap': 29, 'kisi': 30, 'le': 31, 'ja': 32, 'o': 33, 'baat': 34, 'sy': 35, 'pta': 36, 'ni': 37, 'phir': 38, 'Han': 39, 'the': 40, 'shakir': 41, 'ko': 42, 'kuch': 43, 'yr': 44, 'hogaya': 45, 'tu': 46, 'Haha': 47, 'wala': 48, 'ya': 49, 'wali': 50, 'h': 51, 'ye': 52, 'hai': 53, 'Bai': 54, 'bht': 55, 'lga': 56, 'mera': 57, 'unki': 58, 'bs': 59, 'kb': 60, 'howa': 61, 'ny': 62, 'main': 63, 'koi': 64, 'ky': 65, 'se': 66, 'hy': 67, 'Ha': 68, 'kia': 69, 'smjh': 70, 'jata': 71, 'kya': 72, 'e': 73, 'kbhi': 74, 'lo': 75, 'baii': 76, 'kiya': 77, 'Ni': 78, 'Allah': 79, 'O': 80, 'lena': 81, 'ab': 82}\n",
      "{'<UNK>': 0, 'or': 1, 'kon': 2, 'ha': 3, 'a': 4, 'thi': 5, 'hain': 6, 'sb': 7, 'Teri': 8, 'hi': 9, 'py': 10, 'hu': 11, 'ka': 12, 'ho': 13, 'to': 14, 'm': 15, 'b': 16, 'u': 17, 'me': 18, 'Hahaha': 19, 'bta': 20, 'ra': 21, 'wo': 22, 'kr': 23, 'jo': 24, 'ma': 25, 'na': 26, 'ki': 27, 'k': 28, 'ap': 29, 'kisi': 30, 'le': 31, 'ja': 32, 'o': 33, 'baat': 34, 'sy': 35, 'pta': 36, 'ni': 37, 'phir': 38, 'Han': 39, 'the': 40, 'shakir': 41, 'ko': 42, 'kuch': 43, 'yr': 44, 'hogaya': 45, 'tu': 46, 'Haha': 47, 'wala': 48, 'ya': 49, 'wali': 50, 'h': 51, 'ye': 52, 'hai': 53, 'Bai': 54, 'bht': 55, 'lga': 56, 'mera': 57, 'unki': 58, 'bs': 59, 'kb': 60, 'howa': 61, 'ny': 62, 'main': 63, 'koi': 64, 'ky': 65, 'se': 66, 'hy': 67, 'Ha': 68, 'kia': 69, 'smjh': 70, 'jata': 71, 'kya': 72, 'e': 73, 'kbhi': 74, 'lo': 75, 'baii': 76, 'kiya': 77, 'Ni': 78, 'Allah': 79, 'O': 80, 'lena': 81, 'ab': 82, 'dy': 83}\n",
      "{'<UNK>': 0, 'or': 1, 'kon': 2, 'ha': 3, 'a': 4, 'thi': 5, 'hain': 6, 'sb': 7, 'Teri': 8, 'hi': 9, 'py': 10, 'hu': 11, 'ka': 12, 'ho': 13, 'to': 14, 'm': 15, 'b': 16, 'u': 17, 'me': 18, 'Hahaha': 19, 'bta': 20, 'ra': 21, 'wo': 22, 'kr': 23, 'jo': 24, 'ma': 25, 'na': 26, 'ki': 27, 'k': 28, 'ap': 29, 'kisi': 30, 'le': 31, 'ja': 32, 'o': 33, 'baat': 34, 'sy': 35, 'pta': 36, 'ni': 37, 'phir': 38, 'Han': 39, 'the': 40, 'shakir': 41, 'ko': 42, 'kuch': 43, 'yr': 44, 'hogaya': 45, 'tu': 46, 'Haha': 47, 'wala': 48, 'ya': 49, 'wali': 50, 'h': 51, 'ye': 52, 'hai': 53, 'Bai': 54, 'bht': 55, 'lga': 56, 'mera': 57, 'unki': 58, 'bs': 59, 'kb': 60, 'howa': 61, 'ny': 62, 'main': 63, 'koi': 64, 'ky': 65, 'se': 66, 'hy': 67, 'Ha': 68, 'kia': 69, 'smjh': 70, 'jata': 71, 'kya': 72, 'e': 73, 'kbhi': 74, 'lo': 75, 'baii': 76, 'kiya': 77, 'Ni': 78, 'Allah': 79, 'O': 80, 'lena': 81, 'ab': 82, 'dy': 83, 'yar': 84}\n",
      "{'<UNK>': 0, 'or': 1, 'kon': 2, 'ha': 3, 'a': 4, 'thi': 5, 'hain': 6, 'sb': 7, 'Teri': 8, 'hi': 9, 'py': 10, 'hu': 11, 'ka': 12, 'ho': 13, 'to': 14, 'm': 15, 'b': 16, 'u': 17, 'me': 18, 'Hahaha': 19, 'bta': 20, 'ra': 21, 'wo': 22, 'kr': 23, 'jo': 24, 'ma': 25, 'na': 26, 'ki': 27, 'k': 28, 'ap': 29, 'kisi': 30, 'le': 31, 'ja': 32, 'o': 33, 'baat': 34, 'sy': 35, 'pta': 36, 'ni': 37, 'phir': 38, 'Han': 39, 'the': 40, 'shakir': 41, 'ko': 42, 'kuch': 43, 'yr': 44, 'hogaya': 45, 'tu': 46, 'Haha': 47, 'wala': 48, 'ya': 49, 'wali': 50, 'h': 51, 'ye': 52, 'hai': 53, 'Bai': 54, 'bht': 55, 'lga': 56, 'mera': 57, 'unki': 58, 'bs': 59, 'kb': 60, 'howa': 61, 'ny': 62, 'main': 63, 'koi': 64, 'ky': 65, 'se': 66, 'hy': 67, 'Ha': 68, 'kia': 69, 'smjh': 70, 'jata': 71, 'kya': 72, 'e': 73, 'kbhi': 74, 'lo': 75, 'baii': 76, 'kiya': 77, 'Ni': 78, 'Allah': 79, 'O': 80, 'lena': 81, 'ab': 82, 'dy': 83, 'yar': 84, 'Ye': 85}\n",
      "{'<UNK>': 0, 'or': 1, 'kon': 2, 'ha': 3, 'a': 4, 'thi': 5, 'hain': 6, 'sb': 7, 'Teri': 8, 'hi': 9, 'py': 10, 'hu': 11, 'ka': 12, 'ho': 13, 'to': 14, 'm': 15, 'b': 16, 'u': 17, 'me': 18, 'Hahaha': 19, 'bta': 20, 'ra': 21, 'wo': 22, 'kr': 23, 'jo': 24, 'ma': 25, 'na': 26, 'ki': 27, 'k': 28, 'ap': 29, 'kisi': 30, 'le': 31, 'ja': 32, 'o': 33, 'baat': 34, 'sy': 35, 'pta': 36, 'ni': 37, 'phir': 38, 'Han': 39, 'the': 40, 'shakir': 41, 'ko': 42, 'kuch': 43, 'yr': 44, 'hogaya': 45, 'tu': 46, 'Haha': 47, 'wala': 48, 'ya': 49, 'wali': 50, 'h': 51, 'ye': 52, 'hai': 53, 'Bai': 54, 'bht': 55, 'lga': 56, 'mera': 57, 'unki': 58, 'bs': 59, 'kb': 60, 'howa': 61, 'ny': 62, 'main': 63, 'koi': 64, 'ky': 65, 'se': 66, 'hy': 67, 'Ha': 68, 'kia': 69, 'smjh': 70, 'jata': 71, 'kya': 72, 'e': 73, 'kbhi': 74, 'lo': 75, 'baii': 76, 'kiya': 77, 'Ni': 78, 'Allah': 79, 'O': 80, 'lena': 81, 'ab': 82, 'dy': 83, 'yar': 84, 'Ye': 85, 'hta': 86}\n",
      "{'<UNK>': 0, 'or': 1, 'kon': 2, 'ha': 3, 'a': 4, 'thi': 5, 'hain': 6, 'sb': 7, 'Teri': 8, 'hi': 9, 'py': 10, 'hu': 11, 'ka': 12, 'ho': 13, 'to': 14, 'm': 15, 'b': 16, 'u': 17, 'me': 18, 'Hahaha': 19, 'bta': 20, 'ra': 21, 'wo': 22, 'kr': 23, 'jo': 24, 'ma': 25, 'na': 26, 'ki': 27, 'k': 28, 'ap': 29, 'kisi': 30, 'le': 31, 'ja': 32, 'o': 33, 'baat': 34, 'sy': 35, 'pta': 36, 'ni': 37, 'phir': 38, 'Han': 39, 'the': 40, 'shakir': 41, 'ko': 42, 'kuch': 43, 'yr': 44, 'hogaya': 45, 'tu': 46, 'Haha': 47, 'wala': 48, 'ya': 49, 'wali': 50, 'h': 51, 'ye': 52, 'hai': 53, 'Bai': 54, 'bht': 55, 'lga': 56, 'mera': 57, 'unki': 58, 'bs': 59, 'kb': 60, 'howa': 61, 'ny': 62, 'main': 63, 'koi': 64, 'ky': 65, 'se': 66, 'hy': 67, 'Ha': 68, 'kia': 69, 'smjh': 70, 'jata': 71, 'kya': 72, 'e': 73, 'kbhi': 74, 'lo': 75, 'baii': 76, 'kiya': 77, 'Ni': 78, 'Allah': 79, 'O': 80, 'lena': 81, 'ab': 82, 'dy': 83, 'yar': 84, 'Ye': 85, 'hta': 86, 'sahii': 87}\n",
      "{'<UNK>': 0, 'or': 1, 'kon': 2, 'ha': 3, 'a': 4, 'thi': 5, 'hain': 6, 'sb': 7, 'Teri': 8, 'hi': 9, 'py': 10, 'hu': 11, 'ka': 12, 'ho': 13, 'to': 14, 'm': 15, 'b': 16, 'u': 17, 'me': 18, 'Hahaha': 19, 'bta': 20, 'ra': 21, 'wo': 22, 'kr': 23, 'jo': 24, 'ma': 25, 'na': 26, 'ki': 27, 'k': 28, 'ap': 29, 'kisi': 30, 'le': 31, 'ja': 32, 'o': 33, 'baat': 34, 'sy': 35, 'pta': 36, 'ni': 37, 'phir': 38, 'Han': 39, 'the': 40, 'shakir': 41, 'ko': 42, 'kuch': 43, 'yr': 44, 'hogaya': 45, 'tu': 46, 'Haha': 47, 'wala': 48, 'ya': 49, 'wali': 50, 'h': 51, 'ye': 52, 'hai': 53, 'Bai': 54, 'bht': 55, 'lga': 56, 'mera': 57, 'unki': 58, 'bs': 59, 'kb': 60, 'howa': 61, 'ny': 62, 'main': 63, 'koi': 64, 'ky': 65, 'se': 66, 'hy': 67, 'Ha': 68, 'kia': 69, 'smjh': 70, 'jata': 71, 'kya': 72, 'e': 73, 'kbhi': 74, 'lo': 75, 'baii': 76, 'kiya': 77, 'Ni': 78, 'Allah': 79, 'O': 80, 'lena': 81, 'ab': 82, 'dy': 83, 'yar': 84, 'Ye': 85, 'hta': 86, 'sahii': 87, 'tha': 88}\n",
      "{'<UNK>': 0, 'or': 1, 'kon': 2, 'ha': 3, 'a': 4, 'thi': 5, 'hain': 6, 'sb': 7, 'Teri': 8, 'hi': 9, 'py': 10, 'hu': 11, 'ka': 12, 'ho': 13, 'to': 14, 'm': 15, 'b': 16, 'u': 17, 'me': 18, 'Hahaha': 19, 'bta': 20, 'ra': 21, 'wo': 22, 'kr': 23, 'jo': 24, 'ma': 25, 'na': 26, 'ki': 27, 'k': 28, 'ap': 29, 'kisi': 30, 'le': 31, 'ja': 32, 'o': 33, 'baat': 34, 'sy': 35, 'pta': 36, 'ni': 37, 'phir': 38, 'Han': 39, 'the': 40, 'shakir': 41, 'ko': 42, 'kuch': 43, 'yr': 44, 'hogaya': 45, 'tu': 46, 'Haha': 47, 'wala': 48, 'ya': 49, 'wali': 50, 'h': 51, 'ye': 52, 'hai': 53, 'Bai': 54, 'bht': 55, 'lga': 56, 'mera': 57, 'unki': 58, 'bs': 59, 'kb': 60, 'howa': 61, 'ny': 62, 'main': 63, 'koi': 64, 'ky': 65, 'se': 66, 'hy': 67, 'Ha': 68, 'kia': 69, 'smjh': 70, 'jata': 71, 'kya': 72, 'e': 73, 'kbhi': 74, 'lo': 75, 'baii': 76, 'kiya': 77, 'Ni': 78, 'Allah': 79, 'O': 80, 'lena': 81, 'ab': 82, 'dy': 83, 'yar': 84, 'Ye': 85, 'hta': 86, 'sahii': 87, 'tha': 88, 'bhi': 89}\n",
      "{'<UNK>': 0, 'or': 1, 'kon': 2, 'ha': 3, 'a': 4, 'thi': 5, 'hain': 6, 'sb': 7, 'Teri': 8, 'hi': 9, 'py': 10, 'hu': 11, 'ka': 12, 'ho': 13, 'to': 14, 'm': 15, 'b': 16, 'u': 17, 'me': 18, 'Hahaha': 19, 'bta': 20, 'ra': 21, 'wo': 22, 'kr': 23, 'jo': 24, 'ma': 25, 'na': 26, 'ki': 27, 'k': 28, 'ap': 29, 'kisi': 30, 'le': 31, 'ja': 32, 'o': 33, 'baat': 34, 'sy': 35, 'pta': 36, 'ni': 37, 'phir': 38, 'Han': 39, 'the': 40, 'shakir': 41, 'ko': 42, 'kuch': 43, 'yr': 44, 'hogaya': 45, 'tu': 46, 'Haha': 47, 'wala': 48, 'ya': 49, 'wali': 50, 'h': 51, 'ye': 52, 'hai': 53, 'Bai': 54, 'bht': 55, 'lga': 56, 'mera': 57, 'unki': 58, 'bs': 59, 'kb': 60, 'howa': 61, 'ny': 62, 'main': 63, 'koi': 64, 'ky': 65, 'se': 66, 'hy': 67, 'Ha': 68, 'kia': 69, 'smjh': 70, 'jata': 71, 'kya': 72, 'e': 73, 'kbhi': 74, 'lo': 75, 'baii': 76, 'kiya': 77, 'Ni': 78, 'Allah': 79, 'O': 80, 'lena': 81, 'ab': 82, 'dy': 83, 'yar': 84, 'Ye': 85, 'hta': 86, 'sahii': 87, 'tha': 88, 'bhi': 89, 'bilal': 90}\n",
      "{'<UNK>': 0, 'or': 1, 'kon': 2, 'ha': 3, 'a': 4, 'thi': 5, 'hain': 6, 'sb': 7, 'Teri': 8, 'hi': 9, 'py': 10, 'hu': 11, 'ka': 12, 'ho': 13, 'to': 14, 'm': 15, 'b': 16, 'u': 17, 'me': 18, 'Hahaha': 19, 'bta': 20, 'ra': 21, 'wo': 22, 'kr': 23, 'jo': 24, 'ma': 25, 'na': 26, 'ki': 27, 'k': 28, 'ap': 29, 'kisi': 30, 'le': 31, 'ja': 32, 'o': 33, 'baat': 34, 'sy': 35, 'pta': 36, 'ni': 37, 'phir': 38, 'Han': 39, 'the': 40, 'shakir': 41, 'ko': 42, 'kuch': 43, 'yr': 44, 'hogaya': 45, 'tu': 46, 'Haha': 47, 'wala': 48, 'ya': 49, 'wali': 50, 'h': 51, 'ye': 52, 'hai': 53, 'Bai': 54, 'bht': 55, 'lga': 56, 'mera': 57, 'unki': 58, 'bs': 59, 'kb': 60, 'howa': 61, 'ny': 62, 'main': 63, 'koi': 64, 'ky': 65, 'se': 66, 'hy': 67, 'Ha': 68, 'kia': 69, 'smjh': 70, 'jata': 71, 'kya': 72, 'e': 73, 'kbhi': 74, 'lo': 75, 'baii': 76, 'kiya': 77, 'Ni': 78, 'Allah': 79, 'O': 80, 'lena': 81, 'ab': 82, 'dy': 83, 'yar': 84, 'Ye': 85, 'hta': 86, 'sahii': 87, 'tha': 88, 'bhi': 89, 'bilal': 90, 'Abdullah': 91}\n",
      "{'<UNK>': 0, 'or': 1, 'kon': 2, 'ha': 3, 'a': 4, 'thi': 5, 'hain': 6, 'sb': 7, 'Teri': 8, 'hi': 9, 'py': 10, 'hu': 11, 'ka': 12, 'ho': 13, 'to': 14, 'm': 15, 'b': 16, 'u': 17, 'me': 18, 'Hahaha': 19, 'bta': 20, 'ra': 21, 'wo': 22, 'kr': 23, 'jo': 24, 'ma': 25, 'na': 26, 'ki': 27, 'k': 28, 'ap': 29, 'kisi': 30, 'le': 31, 'ja': 32, 'o': 33, 'baat': 34, 'sy': 35, 'pta': 36, 'ni': 37, 'phir': 38, 'Han': 39, 'the': 40, 'shakir': 41, 'ko': 42, 'kuch': 43, 'yr': 44, 'hogaya': 45, 'tu': 46, 'Haha': 47, 'wala': 48, 'ya': 49, 'wali': 50, 'h': 51, 'ye': 52, 'hai': 53, 'Bai': 54, 'bht': 55, 'lga': 56, 'mera': 57, 'unki': 58, 'bs': 59, 'kb': 60, 'howa': 61, 'ny': 62, 'main': 63, 'koi': 64, 'ky': 65, 'se': 66, 'hy': 67, 'Ha': 68, 'kia': 69, 'smjh': 70, 'jata': 71, 'kya': 72, 'e': 73, 'kbhi': 74, 'lo': 75, 'baii': 76, 'kiya': 77, 'Ni': 78, 'Allah': 79, 'O': 80, 'lena': 81, 'ab': 82, 'dy': 83, 'yar': 84, 'Ye': 85, 'hta': 86, 'sahii': 87, 'tha': 88, 'bhi': 89, 'bilal': 90, 'Abdullah': 91, 'delete': 92}\n",
      "{'<UNK>': 0, 'or': 1, 'kon': 2, 'ha': 3, 'a': 4, 'thi': 5, 'hain': 6, 'sb': 7, 'Teri': 8, 'hi': 9, 'py': 10, 'hu': 11, 'ka': 12, 'ho': 13, 'to': 14, 'm': 15, 'b': 16, 'u': 17, 'me': 18, 'Hahaha': 19, 'bta': 20, 'ra': 21, 'wo': 22, 'kr': 23, 'jo': 24, 'ma': 25, 'na': 26, 'ki': 27, 'k': 28, 'ap': 29, 'kisi': 30, 'le': 31, 'ja': 32, 'o': 33, 'baat': 34, 'sy': 35, 'pta': 36, 'ni': 37, 'phir': 38, 'Han': 39, 'the': 40, 'shakir': 41, 'ko': 42, 'kuch': 43, 'yr': 44, 'hogaya': 45, 'tu': 46, 'Haha': 47, 'wala': 48, 'ya': 49, 'wali': 50, 'h': 51, 'ye': 52, 'hai': 53, 'Bai': 54, 'bht': 55, 'lga': 56, 'mera': 57, 'unki': 58, 'bs': 59, 'kb': 60, 'howa': 61, 'ny': 62, 'main': 63, 'koi': 64, 'ky': 65, 'se': 66, 'hy': 67, 'Ha': 68, 'kia': 69, 'smjh': 70, 'jata': 71, 'kya': 72, 'e': 73, 'kbhi': 74, 'lo': 75, 'baii': 76, 'kiya': 77, 'Ni': 78, 'Allah': 79, 'O': 80, 'lena': 81, 'ab': 82, 'dy': 83, 'yar': 84, 'Ye': 85, 'hta': 86, 'sahii': 87, 'tha': 88, 'bhi': 89, 'bilal': 90, 'Abdullah': 91, 'delete': 92, 'bat': 93}\n",
      "{'<UNK>': 0, 'or': 1, 'kon': 2, 'ha': 3, 'a': 4, 'thi': 5, 'hain': 6, 'sb': 7, 'Teri': 8, 'hi': 9, 'py': 10, 'hu': 11, 'ka': 12, 'ho': 13, 'to': 14, 'm': 15, 'b': 16, 'u': 17, 'me': 18, 'Hahaha': 19, 'bta': 20, 'ra': 21, 'wo': 22, 'kr': 23, 'jo': 24, 'ma': 25, 'na': 26, 'ki': 27, 'k': 28, 'ap': 29, 'kisi': 30, 'le': 31, 'ja': 32, 'o': 33, 'baat': 34, 'sy': 35, 'pta': 36, 'ni': 37, 'phir': 38, 'Han': 39, 'the': 40, 'shakir': 41, 'ko': 42, 'kuch': 43, 'yr': 44, 'hogaya': 45, 'tu': 46, 'Haha': 47, 'wala': 48, 'ya': 49, 'wali': 50, 'h': 51, 'ye': 52, 'hai': 53, 'Bai': 54, 'bht': 55, 'lga': 56, 'mera': 57, 'unki': 58, 'bs': 59, 'kb': 60, 'howa': 61, 'ny': 62, 'main': 63, 'koi': 64, 'ky': 65, 'se': 66, 'hy': 67, 'Ha': 68, 'kia': 69, 'smjh': 70, 'jata': 71, 'kya': 72, 'e': 73, 'kbhi': 74, 'lo': 75, 'baii': 76, 'kiya': 77, 'Ni': 78, 'Allah': 79, 'O': 80, 'lena': 81, 'ab': 82, 'dy': 83, 'yar': 84, 'Ye': 85, 'hta': 86, 'sahii': 87, 'tha': 88, 'bhi': 89, 'bilal': 90, 'Abdullah': 91, 'delete': 92, 'bat': 93, 'g': 94}\n",
      "{'<UNK>': 0, 'or': 1, 'kon': 2, 'ha': 3, 'a': 4, 'thi': 5, 'hain': 6, 'sb': 7, 'Teri': 8, 'hi': 9, 'py': 10, 'hu': 11, 'ka': 12, 'ho': 13, 'to': 14, 'm': 15, 'b': 16, 'u': 17, 'me': 18, 'Hahaha': 19, 'bta': 20, 'ra': 21, 'wo': 22, 'kr': 23, 'jo': 24, 'ma': 25, 'na': 26, 'ki': 27, 'k': 28, 'ap': 29, 'kisi': 30, 'le': 31, 'ja': 32, 'o': 33, 'baat': 34, 'sy': 35, 'pta': 36, 'ni': 37, 'phir': 38, 'Han': 39, 'the': 40, 'shakir': 41, 'ko': 42, 'kuch': 43, 'yr': 44, 'hogaya': 45, 'tu': 46, 'Haha': 47, 'wala': 48, 'ya': 49, 'wali': 50, 'h': 51, 'ye': 52, 'hai': 53, 'Bai': 54, 'bht': 55, 'lga': 56, 'mera': 57, 'unki': 58, 'bs': 59, 'kb': 60, 'howa': 61, 'ny': 62, 'main': 63, 'koi': 64, 'ky': 65, 'se': 66, 'hy': 67, 'Ha': 68, 'kia': 69, 'smjh': 70, 'jata': 71, 'kya': 72, 'e': 73, 'kbhi': 74, 'lo': 75, 'baii': 76, 'kiya': 77, 'Ni': 78, 'Allah': 79, 'O': 80, 'lena': 81, 'ab': 82, 'dy': 83, 'yar': 84, 'Ye': 85, 'hta': 86, 'sahii': 87, 'tha': 88, 'bhi': 89, 'bilal': 90, 'Abdullah': 91, 'delete': 92, 'bat': 93, 'g': 94, 'gy': 95}\n",
      "{'<UNK>': 0, 'or': 1, 'kon': 2, 'ha': 3, 'a': 4, 'thi': 5, 'hain': 6, 'sb': 7, 'Teri': 8, 'hi': 9, 'py': 10, 'hu': 11, 'ka': 12, 'ho': 13, 'to': 14, 'm': 15, 'b': 16, 'u': 17, 'me': 18, 'Hahaha': 19, 'bta': 20, 'ra': 21, 'wo': 22, 'kr': 23, 'jo': 24, 'ma': 25, 'na': 26, 'ki': 27, 'k': 28, 'ap': 29, 'kisi': 30, 'le': 31, 'ja': 32, 'o': 33, 'baat': 34, 'sy': 35, 'pta': 36, 'ni': 37, 'phir': 38, 'Han': 39, 'the': 40, 'shakir': 41, 'ko': 42, 'kuch': 43, 'yr': 44, 'hogaya': 45, 'tu': 46, 'Haha': 47, 'wala': 48, 'ya': 49, 'wali': 50, 'h': 51, 'ye': 52, 'hai': 53, 'Bai': 54, 'bht': 55, 'lga': 56, 'mera': 57, 'unki': 58, 'bs': 59, 'kb': 60, 'howa': 61, 'ny': 62, 'main': 63, 'koi': 64, 'ky': 65, 'se': 66, 'hy': 67, 'Ha': 68, 'kia': 69, 'smjh': 70, 'jata': 71, 'kya': 72, 'e': 73, 'kbhi': 74, 'lo': 75, 'baii': 76, 'kiya': 77, 'Ni': 78, 'Allah': 79, 'O': 80, 'lena': 81, 'ab': 82, 'dy': 83, 'yar': 84, 'Ye': 85, 'hta': 86, 'sahii': 87, 'tha': 88, 'bhi': 89, 'bilal': 90, 'Abdullah': 91, 'delete': 92, 'bat': 93, 'g': 94, 'gy': 95, 'gya': 96}\n",
      "{'<UNK>': 0, 'or': 1, 'kon': 2, 'ha': 3, 'a': 4, 'thi': 5, 'hain': 6, 'sb': 7, 'Teri': 8, 'hi': 9, 'py': 10, 'hu': 11, 'ka': 12, 'ho': 13, 'to': 14, 'm': 15, 'b': 16, 'u': 17, 'me': 18, 'Hahaha': 19, 'bta': 20, 'ra': 21, 'wo': 22, 'kr': 23, 'jo': 24, 'ma': 25, 'na': 26, 'ki': 27, 'k': 28, 'ap': 29, 'kisi': 30, 'le': 31, 'ja': 32, 'o': 33, 'baat': 34, 'sy': 35, 'pta': 36, 'ni': 37, 'phir': 38, 'Han': 39, 'the': 40, 'shakir': 41, 'ko': 42, 'kuch': 43, 'yr': 44, 'hogaya': 45, 'tu': 46, 'Haha': 47, 'wala': 48, 'ya': 49, 'wali': 50, 'h': 51, 'ye': 52, 'hai': 53, 'Bai': 54, 'bht': 55, 'lga': 56, 'mera': 57, 'unki': 58, 'bs': 59, 'kb': 60, 'howa': 61, 'ny': 62, 'main': 63, 'koi': 64, 'ky': 65, 'se': 66, 'hy': 67, 'Ha': 68, 'kia': 69, 'smjh': 70, 'jata': 71, 'kya': 72, 'e': 73, 'kbhi': 74, 'lo': 75, 'baii': 76, 'kiya': 77, 'Ni': 78, 'Allah': 79, 'O': 80, 'lena': 81, 'ab': 82, 'dy': 83, 'yar': 84, 'Ye': 85, 'hta': 86, 'sahii': 87, 'tha': 88, 'bhi': 89, 'bilal': 90, 'Abdullah': 91, 'delete': 92, 'bat': 93, 'g': 94, 'gy': 95, 'gya': 96, 'kro': 97}\n",
      "{'<UNK>': 0, 'or': 1, 'kon': 2, 'ha': 3, 'a': 4, 'thi': 5, 'hain': 6, 'sb': 7, 'Teri': 8, 'hi': 9, 'py': 10, 'hu': 11, 'ka': 12, 'ho': 13, 'to': 14, 'm': 15, 'b': 16, 'u': 17, 'me': 18, 'Hahaha': 19, 'bta': 20, 'ra': 21, 'wo': 22, 'kr': 23, 'jo': 24, 'ma': 25, 'na': 26, 'ki': 27, 'k': 28, 'ap': 29, 'kisi': 30, 'le': 31, 'ja': 32, 'o': 33, 'baat': 34, 'sy': 35, 'pta': 36, 'ni': 37, 'phir': 38, 'Han': 39, 'the': 40, 'shakir': 41, 'ko': 42, 'kuch': 43, 'yr': 44, 'hogaya': 45, 'tu': 46, 'Haha': 47, 'wala': 48, 'ya': 49, 'wali': 50, 'h': 51, 'ye': 52, 'hai': 53, 'Bai': 54, 'bht': 55, 'lga': 56, 'mera': 57, 'unki': 58, 'bs': 59, 'kb': 60, 'howa': 61, 'ny': 62, 'main': 63, 'koi': 64, 'ky': 65, 'se': 66, 'hy': 67, 'Ha': 68, 'kia': 69, 'smjh': 70, 'jata': 71, 'kya': 72, 'e': 73, 'kbhi': 74, 'lo': 75, 'baii': 76, 'kiya': 77, 'Ni': 78, 'Allah': 79, 'O': 80, 'lena': 81, 'ab': 82, 'dy': 83, 'yar': 84, 'Ye': 85, 'hta': 86, 'sahii': 87, 'tha': 88, 'bhi': 89, 'bilal': 90, 'Abdullah': 91, 'delete': 92, 'bat': 93, 'g': 94, 'gy': 95, 'gya': 96, 'kro': 97, 'krna': 98}\n",
      "{'<UNK>': 0, 'or': 1, 'kon': 2, 'ha': 3, 'a': 4, 'thi': 5, 'hain': 6, 'sb': 7, 'Teri': 8, 'hi': 9, 'py': 10, 'hu': 11, 'ka': 12, 'ho': 13, 'to': 14, 'm': 15, 'b': 16, 'u': 17, 'me': 18, 'Hahaha': 19, 'bta': 20, 'ra': 21, 'wo': 22, 'kr': 23, 'jo': 24, 'ma': 25, 'na': 26, 'ki': 27, 'k': 28, 'ap': 29, 'kisi': 30, 'le': 31, 'ja': 32, 'o': 33, 'baat': 34, 'sy': 35, 'pta': 36, 'ni': 37, 'phir': 38, 'Han': 39, 'the': 40, 'shakir': 41, 'ko': 42, 'kuch': 43, 'yr': 44, 'hogaya': 45, 'tu': 46, 'Haha': 47, 'wala': 48, 'ya': 49, 'wali': 50, 'h': 51, 'ye': 52, 'hai': 53, 'Bai': 54, 'bht': 55, 'lga': 56, 'mera': 57, 'unki': 58, 'bs': 59, 'kb': 60, 'howa': 61, 'ny': 62, 'main': 63, 'koi': 64, 'ky': 65, 'se': 66, 'hy': 67, 'Ha': 68, 'kia': 69, 'smjh': 70, 'jata': 71, 'kya': 72, 'e': 73, 'kbhi': 74, 'lo': 75, 'baii': 76, 'kiya': 77, 'Ni': 78, 'Allah': 79, 'O': 80, 'lena': 81, 'ab': 82, 'dy': 83, 'yar': 84, 'Ye': 85, 'hta': 86, 'sahii': 87, 'tha': 88, 'bhi': 89, 'bilal': 90, 'Abdullah': 91, 'delete': 92, 'bat': 93, 'g': 94, 'gy': 95, 'gya': 96, 'kro': 97, 'krna': 98, 'hoi': 99}\n",
      "{'<UNK>': 0, 'or': 1, 'kon': 2, 'ha': 3, 'a': 4, 'thi': 5, 'hain': 6, 'sb': 7, 'Teri': 8, 'hi': 9, 'py': 10, 'hu': 11, 'ka': 12, 'ho': 13, 'to': 14, 'm': 15, 'b': 16, 'u': 17, 'me': 18, 'Hahaha': 19, 'bta': 20, 'ra': 21, 'wo': 22, 'kr': 23, 'jo': 24, 'ma': 25, 'na': 26, 'ki': 27, 'k': 28, 'ap': 29, 'kisi': 30, 'le': 31, 'ja': 32, 'o': 33, 'baat': 34, 'sy': 35, 'pta': 36, 'ni': 37, 'phir': 38, 'Han': 39, 'the': 40, 'shakir': 41, 'ko': 42, 'kuch': 43, 'yr': 44, 'hogaya': 45, 'tu': 46, 'Haha': 47, 'wala': 48, 'ya': 49, 'wali': 50, 'h': 51, 'ye': 52, 'hai': 53, 'Bai': 54, 'bht': 55, 'lga': 56, 'mera': 57, 'unki': 58, 'bs': 59, 'kb': 60, 'howa': 61, 'ny': 62, 'main': 63, 'koi': 64, 'ky': 65, 'se': 66, 'hy': 67, 'Ha': 68, 'kia': 69, 'smjh': 70, 'jata': 71, 'kya': 72, 'e': 73, 'kbhi': 74, 'lo': 75, 'baii': 76, 'kiya': 77, 'Ni': 78, 'Allah': 79, 'O': 80, 'lena': 81, 'ab': 82, 'dy': 83, 'yar': 84, 'Ye': 85, 'hta': 86, 'sahii': 87, 'tha': 88, 'bhi': 89, 'bilal': 90, 'Abdullah': 91, 'delete': 92, 'bat': 93, 'g': 94, 'gy': 95, 'gya': 96, 'kro': 97, 'krna': 98, 'hoi': 99, 'group': 100}\n",
      "{'<UNK>': 0, 'or': 1, 'kon': 2, 'ha': 3, 'a': 4, 'thi': 5, 'hain': 6, 'sb': 7, 'Teri': 8, 'hi': 9, 'py': 10, 'hu': 11, 'ka': 12, 'ho': 13, 'to': 14, 'm': 15, 'b': 16, 'u': 17, 'me': 18, 'Hahaha': 19, 'bta': 20, 'ra': 21, 'wo': 22, 'kr': 23, 'jo': 24, 'ma': 25, 'na': 26, 'ki': 27, 'k': 28, 'ap': 29, 'kisi': 30, 'le': 31, 'ja': 32, 'o': 33, 'baat': 34, 'sy': 35, 'pta': 36, 'ni': 37, 'phir': 38, 'Han': 39, 'the': 40, 'shakir': 41, 'ko': 42, 'kuch': 43, 'yr': 44, 'hogaya': 45, 'tu': 46, 'Haha': 47, 'wala': 48, 'ya': 49, 'wali': 50, 'h': 51, 'ye': 52, 'hai': 53, 'Bai': 54, 'bht': 55, 'lga': 56, 'mera': 57, 'unki': 58, 'bs': 59, 'kb': 60, 'howa': 61, 'ny': 62, 'main': 63, 'koi': 64, 'ky': 65, 'se': 66, 'hy': 67, 'Ha': 68, 'kia': 69, 'smjh': 70, 'jata': 71, 'kya': 72, 'e': 73, 'kbhi': 74, 'lo': 75, 'baii': 76, 'kiya': 77, 'Ni': 78, 'Allah': 79, 'O': 80, 'lena': 81, 'ab': 82, 'dy': 83, 'yar': 84, 'Ye': 85, 'hta': 86, 'sahii': 87, 'tha': 88, 'bhi': 89, 'bilal': 90, 'Abdullah': 91, 'delete': 92, 'bat': 93, 'g': 94, 'gy': 95, 'gya': 96, 'kro': 97, 'krna': 98, 'hoi': 99, 'group': 100, 'ne': 101}\n",
      "{'<UNK>': 0, 'or': 1, 'kon': 2, 'ha': 3, 'a': 4, 'thi': 5, 'hain': 6, 'sb': 7, 'Teri': 8, 'hi': 9, 'py': 10, 'hu': 11, 'ka': 12, 'ho': 13, 'to': 14, 'm': 15, 'b': 16, 'u': 17, 'me': 18, 'Hahaha': 19, 'bta': 20, 'ra': 21, 'wo': 22, 'kr': 23, 'jo': 24, 'ma': 25, 'na': 26, 'ki': 27, 'k': 28, 'ap': 29, 'kisi': 30, 'le': 31, 'ja': 32, 'o': 33, 'baat': 34, 'sy': 35, 'pta': 36, 'ni': 37, 'phir': 38, 'Han': 39, 'the': 40, 'shakir': 41, 'ko': 42, 'kuch': 43, 'yr': 44, 'hogaya': 45, 'tu': 46, 'Haha': 47, 'wala': 48, 'ya': 49, 'wali': 50, 'h': 51, 'ye': 52, 'hai': 53, 'Bai': 54, 'bht': 55, 'lga': 56, 'mera': 57, 'unki': 58, 'bs': 59, 'kb': 60, 'howa': 61, 'ny': 62, 'main': 63, 'koi': 64, 'ky': 65, 'se': 66, 'hy': 67, 'Ha': 68, 'kia': 69, 'smjh': 70, 'jata': 71, 'kya': 72, 'e': 73, 'kbhi': 74, 'lo': 75, 'baii': 76, 'kiya': 77, 'Ni': 78, 'Allah': 79, 'O': 80, 'lena': 81, 'ab': 82, 'dy': 83, 'yar': 84, 'Ye': 85, 'hta': 86, 'sahii': 87, 'tha': 88, 'bhi': 89, 'bilal': 90, 'Abdullah': 91, 'delete': 92, 'bat': 93, 'g': 94, 'gy': 95, 'gya': 96, 'kro': 97, 'krna': 98, 'hoi': 99, 'group': 100, 'ne': 101, 'ga': 102}\n",
      "{'<UNK>': 0, 'or': 1, 'kon': 2, 'ha': 3, 'a': 4, 'thi': 5, 'hain': 6, 'sb': 7, 'Teri': 8, 'hi': 9, 'py': 10, 'hu': 11, 'ka': 12, 'ho': 13, 'to': 14, 'm': 15, 'b': 16, 'u': 17, 'me': 18, 'Hahaha': 19, 'bta': 20, 'ra': 21, 'wo': 22, 'kr': 23, 'jo': 24, 'ma': 25, 'na': 26, 'ki': 27, 'k': 28, 'ap': 29, 'kisi': 30, 'le': 31, 'ja': 32, 'o': 33, 'baat': 34, 'sy': 35, 'pta': 36, 'ni': 37, 'phir': 38, 'Han': 39, 'the': 40, 'shakir': 41, 'ko': 42, 'kuch': 43, 'yr': 44, 'hogaya': 45, 'tu': 46, 'Haha': 47, 'wala': 48, 'ya': 49, 'wali': 50, 'h': 51, 'ye': 52, 'hai': 53, 'Bai': 54, 'bht': 55, 'lga': 56, 'mera': 57, 'unki': 58, 'bs': 59, 'kb': 60, 'howa': 61, 'ny': 62, 'main': 63, 'koi': 64, 'ky': 65, 'se': 66, 'hy': 67, 'Ha': 68, 'kia': 69, 'smjh': 70, 'jata': 71, 'kya': 72, 'e': 73, 'kbhi': 74, 'lo': 75, 'baii': 76, 'kiya': 77, 'Ni': 78, 'Allah': 79, 'O': 80, 'lena': 81, 'ab': 82, 'dy': 83, 'yar': 84, 'Ye': 85, 'hta': 86, 'sahii': 87, 'tha': 88, 'bhi': 89, 'bilal': 90, 'Abdullah': 91, 'delete': 92, 'bat': 93, 'g': 94, 'gy': 95, 'gya': 96, 'kro': 97, 'krna': 98, 'hoi': 99, 'group': 100, 'ne': 101, 'ga': 102, 'Ok': 103}\n",
      "{'<UNK>': 0, 'or': 1, 'kon': 2, 'ha': 3, 'a': 4, 'thi': 5, 'hain': 6, 'sb': 7, 'Teri': 8, 'hi': 9, 'py': 10, 'hu': 11, 'ka': 12, 'ho': 13, 'to': 14, 'm': 15, 'b': 16, 'u': 17, 'me': 18, 'Hahaha': 19, 'bta': 20, 'ra': 21, 'wo': 22, 'kr': 23, 'jo': 24, 'ma': 25, 'na': 26, 'ki': 27, 'k': 28, 'ap': 29, 'kisi': 30, 'le': 31, 'ja': 32, 'o': 33, 'baat': 34, 'sy': 35, 'pta': 36, 'ni': 37, 'phir': 38, 'Han': 39, 'the': 40, 'shakir': 41, 'ko': 42, 'kuch': 43, 'yr': 44, 'hogaya': 45, 'tu': 46, 'Haha': 47, 'wala': 48, 'ya': 49, 'wali': 50, 'h': 51, 'ye': 52, 'hai': 53, 'Bai': 54, 'bht': 55, 'lga': 56, 'mera': 57, 'unki': 58, 'bs': 59, 'kb': 60, 'howa': 61, 'ny': 62, 'main': 63, 'koi': 64, 'ky': 65, 'se': 66, 'hy': 67, 'Ha': 68, 'kia': 69, 'smjh': 70, 'jata': 71, 'kya': 72, 'e': 73, 'kbhi': 74, 'lo': 75, 'baii': 76, 'kiya': 77, 'Ni': 78, 'Allah': 79, 'O': 80, 'lena': 81, 'ab': 82, 'dy': 83, 'yar': 84, 'Ye': 85, 'hta': 86, 'sahii': 87, 'tha': 88, 'bhi': 89, 'bilal': 90, 'Abdullah': 91, 'delete': 92, 'bat': 93, 'g': 94, 'gy': 95, 'gya': 96, 'kro': 97, 'krna': 98, 'hoi': 99, 'group': 100, 'ne': 101, 'ga': 102, 'Ok': 103, 'kutta': 104}\n",
      "{'<UNK>': 0, 'or': 1, 'kon': 2, 'ha': 3, 'a': 4, 'thi': 5, 'hain': 6, 'sb': 7, 'Teri': 8, 'hi': 9, 'py': 10, 'hu': 11, 'ka': 12, 'ho': 13, 'to': 14, 'm': 15, 'b': 16, 'u': 17, 'me': 18, 'Hahaha': 19, 'bta': 20, 'ra': 21, 'wo': 22, 'kr': 23, 'jo': 24, 'ma': 25, 'na': 26, 'ki': 27, 'k': 28, 'ap': 29, 'kisi': 30, 'le': 31, 'ja': 32, 'o': 33, 'baat': 34, 'sy': 35, 'pta': 36, 'ni': 37, 'phir': 38, 'Han': 39, 'the': 40, 'shakir': 41, 'ko': 42, 'kuch': 43, 'yr': 44, 'hogaya': 45, 'tu': 46, 'Haha': 47, 'wala': 48, 'ya': 49, 'wali': 50, 'h': 51, 'ye': 52, 'hai': 53, 'Bai': 54, 'bht': 55, 'lga': 56, 'mera': 57, 'unki': 58, 'bs': 59, 'kb': 60, 'howa': 61, 'ny': 62, 'main': 63, 'koi': 64, 'ky': 65, 'se': 66, 'hy': 67, 'Ha': 68, 'kia': 69, 'smjh': 70, 'jata': 71, 'kya': 72, 'e': 73, 'kbhi': 74, 'lo': 75, 'baii': 76, 'kiya': 77, 'Ni': 78, 'Allah': 79, 'O': 80, 'lena': 81, 'ab': 82, 'dy': 83, 'yar': 84, 'Ye': 85, 'hta': 86, 'sahii': 87, 'tha': 88, 'bhi': 89, 'bilal': 90, 'Abdullah': 91, 'delete': 92, 'bat': 93, 'g': 94, 'gy': 95, 'gya': 96, 'kro': 97, 'krna': 98, 'hoi': 99, 'group': 100, 'ne': 101, 'ga': 102, 'Ok': 103, 'kutta': 104, 'nai': 105}\n",
      "{'<UNK>': 0, 'or': 1, 'kon': 2, 'ha': 3, 'a': 4, 'thi': 5, 'hain': 6, 'sb': 7, 'Teri': 8, 'hi': 9, 'py': 10, 'hu': 11, 'ka': 12, 'ho': 13, 'to': 14, 'm': 15, 'b': 16, 'u': 17, 'me': 18, 'Hahaha': 19, 'bta': 20, 'ra': 21, 'wo': 22, 'kr': 23, 'jo': 24, 'ma': 25, 'na': 26, 'ki': 27, 'k': 28, 'ap': 29, 'kisi': 30, 'le': 31, 'ja': 32, 'o': 33, 'baat': 34, 'sy': 35, 'pta': 36, 'ni': 37, 'phir': 38, 'Han': 39, 'the': 40, 'shakir': 41, 'ko': 42, 'kuch': 43, 'yr': 44, 'hogaya': 45, 'tu': 46, 'Haha': 47, 'wala': 48, 'ya': 49, 'wali': 50, 'h': 51, 'ye': 52, 'hai': 53, 'Bai': 54, 'bht': 55, 'lga': 56, 'mera': 57, 'unki': 58, 'bs': 59, 'kb': 60, 'howa': 61, 'ny': 62, 'main': 63, 'koi': 64, 'ky': 65, 'se': 66, 'hy': 67, 'Ha': 68, 'kia': 69, 'smjh': 70, 'jata': 71, 'kya': 72, 'e': 73, 'kbhi': 74, 'lo': 75, 'baii': 76, 'kiya': 77, 'Ni': 78, 'Allah': 79, 'O': 80, 'lena': 81, 'ab': 82, 'dy': 83, 'yar': 84, 'Ye': 85, 'hta': 86, 'sahii': 87, 'tha': 88, 'bhi': 89, 'bilal': 90, 'Abdullah': 91, 'delete': 92, 'bat': 93, 'g': 94, 'gy': 95, 'gya': 96, 'kro': 97, 'krna': 98, 'hoi': 99, 'group': 100, 'ne': 101, 'ga': 102, 'Ok': 103, 'kutta': 104, 'nai': 105, 'tang': 106}\n",
      "{'<UNK>': 0, 'or': 1, 'kon': 2, 'ha': 3, 'a': 4, 'thi': 5, 'hain': 6, 'sb': 7, 'Teri': 8, 'hi': 9, 'py': 10, 'hu': 11, 'ka': 12, 'ho': 13, 'to': 14, 'm': 15, 'b': 16, 'u': 17, 'me': 18, 'Hahaha': 19, 'bta': 20, 'ra': 21, 'wo': 22, 'kr': 23, 'jo': 24, 'ma': 25, 'na': 26, 'ki': 27, 'k': 28, 'ap': 29, 'kisi': 30, 'le': 31, 'ja': 32, 'o': 33, 'baat': 34, 'sy': 35, 'pta': 36, 'ni': 37, 'phir': 38, 'Han': 39, 'the': 40, 'shakir': 41, 'ko': 42, 'kuch': 43, 'yr': 44, 'hogaya': 45, 'tu': 46, 'Haha': 47, 'wala': 48, 'ya': 49, 'wali': 50, 'h': 51, 'ye': 52, 'hai': 53, 'Bai': 54, 'bht': 55, 'lga': 56, 'mera': 57, 'unki': 58, 'bs': 59, 'kb': 60, 'howa': 61, 'ny': 62, 'main': 63, 'koi': 64, 'ky': 65, 'se': 66, 'hy': 67, 'Ha': 68, 'kia': 69, 'smjh': 70, 'jata': 71, 'kya': 72, 'e': 73, 'kbhi': 74, 'lo': 75, 'baii': 76, 'kiya': 77, 'Ni': 78, 'Allah': 79, 'O': 80, 'lena': 81, 'ab': 82, 'dy': 83, 'yar': 84, 'Ye': 85, 'hta': 86, 'sahii': 87, 'tha': 88, 'bhi': 89, 'bilal': 90, 'Abdullah': 91, 'delete': 92, 'bat': 93, 'g': 94, 'gy': 95, 'gya': 96, 'kro': 97, 'krna': 98, 'hoi': 99, 'group': 100, 'ne': 101, 'ga': 102, 'Ok': 103, 'kutta': 104, 'nai': 105, 'tang': 106, 'hn': 107}\n",
      "{'<UNK>': 0, 'or': 1, 'kon': 2, 'ha': 3, 'a': 4, 'thi': 5, 'hain': 6, 'sb': 7, 'Teri': 8, 'hi': 9, 'py': 10, 'hu': 11, 'ka': 12, 'ho': 13, 'to': 14, 'm': 15, 'b': 16, 'u': 17, 'me': 18, 'Hahaha': 19, 'bta': 20, 'ra': 21, 'wo': 22, 'kr': 23, 'jo': 24, 'ma': 25, 'na': 26, 'ki': 27, 'k': 28, 'ap': 29, 'kisi': 30, 'le': 31, 'ja': 32, 'o': 33, 'baat': 34, 'sy': 35, 'pta': 36, 'ni': 37, 'phir': 38, 'Han': 39, 'the': 40, 'shakir': 41, 'ko': 42, 'kuch': 43, 'yr': 44, 'hogaya': 45, 'tu': 46, 'Haha': 47, 'wala': 48, 'ya': 49, 'wali': 50, 'h': 51, 'ye': 52, 'hai': 53, 'Bai': 54, 'bht': 55, 'lga': 56, 'mera': 57, 'unki': 58, 'bs': 59, 'kb': 60, 'howa': 61, 'ny': 62, 'main': 63, 'koi': 64, 'ky': 65, 'se': 66, 'hy': 67, 'Ha': 68, 'kia': 69, 'smjh': 70, 'jata': 71, 'kya': 72, 'e': 73, 'kbhi': 74, 'lo': 75, 'baii': 76, 'kiya': 77, 'Ni': 78, 'Allah': 79, 'O': 80, 'lena': 81, 'ab': 82, 'dy': 83, 'yar': 84, 'Ye': 85, 'hta': 86, 'sahii': 87, 'tha': 88, 'bhi': 89, 'bilal': 90, 'Abdullah': 91, 'delete': 92, 'bat': 93, 'g': 94, 'gy': 95, 'gya': 96, 'kro': 97, 'krna': 98, 'hoi': 99, 'group': 100, 'ne': 101, 'ga': 102, 'Ok': 103, 'kutta': 104, 'nai': 105, 'tang': 106, 'hn': 107, 'kal': 108}\n",
      "{'<UNK>': 0, 'or': 1, 'kon': 2, 'ha': 3, 'a': 4, 'thi': 5, 'hain': 6, 'sb': 7, 'Teri': 8, 'hi': 9, 'py': 10, 'hu': 11, 'ka': 12, 'ho': 13, 'to': 14, 'm': 15, 'b': 16, 'u': 17, 'me': 18, 'Hahaha': 19, 'bta': 20, 'ra': 21, 'wo': 22, 'kr': 23, 'jo': 24, 'ma': 25, 'na': 26, 'ki': 27, 'k': 28, 'ap': 29, 'kisi': 30, 'le': 31, 'ja': 32, 'o': 33, 'baat': 34, 'sy': 35, 'pta': 36, 'ni': 37, 'phir': 38, 'Han': 39, 'the': 40, 'shakir': 41, 'ko': 42, 'kuch': 43, 'yr': 44, 'hogaya': 45, 'tu': 46, 'Haha': 47, 'wala': 48, 'ya': 49, 'wali': 50, 'h': 51, 'ye': 52, 'hai': 53, 'Bai': 54, 'bht': 55, 'lga': 56, 'mera': 57, 'unki': 58, 'bs': 59, 'kb': 60, 'howa': 61, 'ny': 62, 'main': 63, 'koi': 64, 'ky': 65, 'se': 66, 'hy': 67, 'Ha': 68, 'kia': 69, 'smjh': 70, 'jata': 71, 'kya': 72, 'e': 73, 'kbhi': 74, 'lo': 75, 'baii': 76, 'kiya': 77, 'Ni': 78, 'Allah': 79, 'O': 80, 'lena': 81, 'ab': 82, 'dy': 83, 'yar': 84, 'Ye': 85, 'hta': 86, 'sahii': 87, 'tha': 88, 'bhi': 89, 'bilal': 90, 'Abdullah': 91, 'delete': 92, 'bat': 93, 'g': 94, 'gy': 95, 'gya': 96, 'kro': 97, 'krna': 98, 'hoi': 99, 'group': 100, 'ne': 101, 'ga': 102, 'Ok': 103, 'kutta': 104, 'nai': 105, 'tang': 106, 'hn': 107, 'kal': 108, 'Sir': 109}\n",
      "{'<UNK>': 0, 'or': 1, 'kon': 2, 'ha': 3, 'a': 4, 'thi': 5, 'hain': 6, 'sb': 7, 'Teri': 8, 'hi': 9, 'py': 10, 'hu': 11, 'ka': 12, 'ho': 13, 'to': 14, 'm': 15, 'b': 16, 'u': 17, 'me': 18, 'Hahaha': 19, 'bta': 20, 'ra': 21, 'wo': 22, 'kr': 23, 'jo': 24, 'ma': 25, 'na': 26, 'ki': 27, 'k': 28, 'ap': 29, 'kisi': 30, 'le': 31, 'ja': 32, 'o': 33, 'baat': 34, 'sy': 35, 'pta': 36, 'ni': 37, 'phir': 38, 'Han': 39, 'the': 40, 'shakir': 41, 'ko': 42, 'kuch': 43, 'yr': 44, 'hogaya': 45, 'tu': 46, 'Haha': 47, 'wala': 48, 'ya': 49, 'wali': 50, 'h': 51, 'ye': 52, 'hai': 53, 'Bai': 54, 'bht': 55, 'lga': 56, 'mera': 57, 'unki': 58, 'bs': 59, 'kb': 60, 'howa': 61, 'ny': 62, 'main': 63, 'koi': 64, 'ky': 65, 'se': 66, 'hy': 67, 'Ha': 68, 'kia': 69, 'smjh': 70, 'jata': 71, 'kya': 72, 'e': 73, 'kbhi': 74, 'lo': 75, 'baii': 76, 'kiya': 77, 'Ni': 78, 'Allah': 79, 'O': 80, 'lena': 81, 'ab': 82, 'dy': 83, 'yar': 84, 'Ye': 85, 'hta': 86, 'sahii': 87, 'tha': 88, 'bhi': 89, 'bilal': 90, 'Abdullah': 91, 'delete': 92, 'bat': 93, 'g': 94, 'gy': 95, 'gya': 96, 'kro': 97, 'krna': 98, 'hoi': 99, 'group': 100, 'ne': 101, 'ga': 102, 'Ok': 103, 'kutta': 104, 'nai': 105, 'tang': 106, 'hn': 107, 'kal': 108, 'Sir': 109, 'hm': 110}\n",
      "{'<UNK>': 0, 'or': 1, 'kon': 2, 'ha': 3, 'a': 4, 'thi': 5, 'hain': 6, 'sb': 7, 'Teri': 8, 'hi': 9, 'py': 10, 'hu': 11, 'ka': 12, 'ho': 13, 'to': 14, 'm': 15, 'b': 16, 'u': 17, 'me': 18, 'Hahaha': 19, 'bta': 20, 'ra': 21, 'wo': 22, 'kr': 23, 'jo': 24, 'ma': 25, 'na': 26, 'ki': 27, 'k': 28, 'ap': 29, 'kisi': 30, 'le': 31, 'ja': 32, 'o': 33, 'baat': 34, 'sy': 35, 'pta': 36, 'ni': 37, 'phir': 38, 'Han': 39, 'the': 40, 'shakir': 41, 'ko': 42, 'kuch': 43, 'yr': 44, 'hogaya': 45, 'tu': 46, 'Haha': 47, 'wala': 48, 'ya': 49, 'wali': 50, 'h': 51, 'ye': 52, 'hai': 53, 'Bai': 54, 'bht': 55, 'lga': 56, 'mera': 57, 'unki': 58, 'bs': 59, 'kb': 60, 'howa': 61, 'ny': 62, 'main': 63, 'koi': 64, 'ky': 65, 'se': 66, 'hy': 67, 'Ha': 68, 'kia': 69, 'smjh': 70, 'jata': 71, 'kya': 72, 'e': 73, 'kbhi': 74, 'lo': 75, 'baii': 76, 'kiya': 77, 'Ni': 78, 'Allah': 79, 'O': 80, 'lena': 81, 'ab': 82, 'dy': 83, 'yar': 84, 'Ye': 85, 'hta': 86, 'sahii': 87, 'tha': 88, 'bhi': 89, 'bilal': 90, 'Abdullah': 91, 'delete': 92, 'bat': 93, 'g': 94, 'gy': 95, 'gya': 96, 'kro': 97, 'krna': 98, 'hoi': 99, 'group': 100, 'ne': 101, 'ga': 102, 'Ok': 103, 'kutta': 104, 'nai': 105, 'tang': 106, 'hn': 107, 'kal': 108, 'Sir': 109, 'hm': 110, 'Wo': 111}\n",
      "{'<UNK>': 0, 'or': 1, 'kon': 2, 'ha': 3, 'a': 4, 'thi': 5, 'hain': 6, 'sb': 7, 'Teri': 8, 'hi': 9, 'py': 10, 'hu': 11, 'ka': 12, 'ho': 13, 'to': 14, 'm': 15, 'b': 16, 'u': 17, 'me': 18, 'Hahaha': 19, 'bta': 20, 'ra': 21, 'wo': 22, 'kr': 23, 'jo': 24, 'ma': 25, 'na': 26, 'ki': 27, 'k': 28, 'ap': 29, 'kisi': 30, 'le': 31, 'ja': 32, 'o': 33, 'baat': 34, 'sy': 35, 'pta': 36, 'ni': 37, 'phir': 38, 'Han': 39, 'the': 40, 'shakir': 41, 'ko': 42, 'kuch': 43, 'yr': 44, 'hogaya': 45, 'tu': 46, 'Haha': 47, 'wala': 48, 'ya': 49, 'wali': 50, 'h': 51, 'ye': 52, 'hai': 53, 'Bai': 54, 'bht': 55, 'lga': 56, 'mera': 57, 'unki': 58, 'bs': 59, 'kb': 60, 'howa': 61, 'ny': 62, 'main': 63, 'koi': 64, 'ky': 65, 'se': 66, 'hy': 67, 'Ha': 68, 'kia': 69, 'smjh': 70, 'jata': 71, 'kya': 72, 'e': 73, 'kbhi': 74, 'lo': 75, 'baii': 76, 'kiya': 77, 'Ni': 78, 'Allah': 79, 'O': 80, 'lena': 81, 'ab': 82, 'dy': 83, 'yar': 84, 'Ye': 85, 'hta': 86, 'sahii': 87, 'tha': 88, 'bhi': 89, 'bilal': 90, 'Abdullah': 91, 'delete': 92, 'bat': 93, 'g': 94, 'gy': 95, 'gya': 96, 'kro': 97, 'krna': 98, 'hoi': 99, 'group': 100, 'ne': 101, 'ga': 102, 'Ok': 103, 'kutta': 104, 'nai': 105, 'tang': 106, 'hn': 107, 'kal': 108, 'Sir': 109, 'hm': 110, 'Wo': 111, 'aye': 112}\n"
     ]
    }
   ],
   "source": [
    "vocabularyFromCorpus(Xtrain)"
   ]
  },
  {
   "cell_type": "code",
   "execution_count": 65,
   "metadata": {},
   "outputs": [
    {
     "data": {
      "text/plain": [
       "113"
      ]
     },
     "execution_count": 65,
     "metadata": {},
     "output_type": "execute_result"
    }
   ],
   "source": [
    "len(vocab['t_2_i'])"
   ]
  },
  {
   "cell_type": "code",
   "execution_count": 66,
   "metadata": {},
   "outputs": [],
   "source": [
    "N = len(vocab['t_2_i'])\n",
    "Xtrain_fM = corpusToFeatureMatrix_fast(Xtrain,N)\n",
    "Xtest_fM = corpusToFeatureMatrix_fast(Xtest,N)"
   ]
  },
  {
   "cell_type": "code",
   "execution_count": 68,
   "metadata": {},
   "outputs": [
    {
     "data": {
      "text/plain": [
       "(231, 113)"
      ]
     },
     "execution_count": 68,
     "metadata": {},
     "output_type": "execute_result"
    }
   ],
   "source": [
    "Xtrain_fM.shape"
   ]
  },
  {
   "cell_type": "code",
   "execution_count": 69,
   "metadata": {},
   "outputs": [
    {
     "data": {
      "text/plain": [
       "(100, 113)"
      ]
     },
     "execution_count": 69,
     "metadata": {},
     "output_type": "execute_result"
    }
   ],
   "source": [
    "Xtest_fM.shape"
   ]
  },
  {
   "cell_type": "code",
   "execution_count": 71,
   "metadata": {},
   "outputs": [],
   "source": [
    "#from sklearn.linear_model import LogisticRegression as clf\n",
    "from sklearn.naive_bayes import GaussianNB as clf\n",
    "#from sklearn.ensemble import RandomForestClassifier as clf\n",
    "#from sklearn.svm import SVC as clf\n",
    "from sklearn.metrics import confusion_matrix\n",
    "import seaborn as sns\n",
    "from matplotlib import pyplot as plt\n",
    "sns.set()"
   ]
  },
  {
   "cell_type": "code",
   "execution_count": 72,
   "metadata": {},
   "outputs": [],
   "source": [
    "M = clf().fit(Xtrain_fM,ytrain)"
   ]
  },
  {
   "cell_type": "code",
   "execution_count": 73,
   "metadata": {},
   "outputs": [],
   "source": [
    "y_pred = M.predict(Xtest_fM)"
   ]
  },
  {
   "cell_type": "code",
   "execution_count": 74,
   "metadata": {},
   "outputs": [
    {
     "data": {
      "text/plain": [
       "Text(89.18, 0.5, 'Predicted Label')"
      ]
     },
     "execution_count": 74,
     "metadata": {},
     "output_type": "execute_result"
    },
    {
     "data": {
      "image/png": "[encoded data removed]",
      "text/plain": [
       "<Figure size 432x288 with 1 Axes>"
      ]
     },
     "metadata": {},
     "output_type": "display_data"
    }
   ],
   "source": [
    "mat = confusion_matrix(ytest,y_pred)\n",
    "sns.heatmap(mat.T,square=True,annot=True,fmt='d',cbar=False,\n",
    "           xticklabels=np.unique(y),yticklabels=np.unique(y))\n",
    "plt.xlabel(\"True Label\")\n",
    "plt.ylabel(\"Predicted Label\")"
   ]
  },
  {
   "cell_type": "code",
   "execution_count": 81,
   "metadata": {},
   "outputs": [],
   "source": [
    "#clf.score(Xtrain, ytrain)"
   ]
  },
  {
   "cell_type": "code",
   "execution_count": 82,
   "metadata": {},
   "outputs": [],
   "source": [
    "#clf.score(Xtest, ytest)"
   ]
  },
  {
   "cell_type": "code",
   "execution_count": 78,
   "metadata": {},
   "outputs": [
    {
     "name": "stdout",
     "output_type": "stream",
     "text": [
      "              precision    recall  f1-score   support\n",
      "\n",
      "       Angry       0.00      0.00      0.00        27\n",
      "        Fear       0.00      0.00      0.00         7\n",
      "       Happy       1.00      0.08      0.14        26\n",
      "        Love       0.00      0.00      0.00         7\n",
      "      Normal       1.00      0.17      0.30        23\n",
      "         Sad       0.11      1.00      0.20        10\n",
      "\n",
      "    accuracy                           0.16       100\n",
      "   macro avg       0.35      0.21      0.11       100\n",
      "weighted avg       0.50      0.16      0.12       100\n",
      "\n"
     ]
    },
    {
     "name": "stderr",
     "output_type": "stream",
     "text": [
      "c:\\users\\hassan raza\\appdata\\local\\programs\\python\\python37\\lib\\site-packages\\sklearn\\metrics\\classification.py:1437: UndefinedMetricWarning: Precision and F-score are ill-defined and being set to 0.0 in labels with no predicted samples.\n",
      "  'precision', 'predicted', average, warn_for)\n"
     ]
    }
   ],
   "source": [
    "from sklearn.metrics import classification_report\n",
    "print(classification_report(ytest, y_pred))"
   ]
  },
  {
   "cell_type": "code",
   "execution_count": null,
   "metadata": {},
   "outputs": [],
   "source": []
  }
 ],
 "metadata": {
  "kernelspec": {
   "display_name": "Python 3",
   "language": "python",
   "name": "python3"
  },
  "language_info": {
   "codemirror_mode": {
    "name": "ipython",
    "version": 3
   },
   "file_extension": ".py",
   "mimetype": "text/x-python",
   "name": "python",
   "nbconvert_exporter": "python",
   "pygments_lexer": "ipython3",
   "version": "3.7.1"
  }
 },
 "nbformat": 4,
 "nbformat_minor": 4
}
