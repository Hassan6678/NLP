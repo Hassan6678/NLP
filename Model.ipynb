{
 "cells": [
  {
   "cell_type": "code",
   "execution_count": 1,
   "metadata": {},
   "outputs": [],
   "source": [
    "import pandas as pd\n",
    "import numpy as np\n",
    "from collections import Counter\n",
    "import re"
   ]
  },
  {
   "cell_type": "code",
   "execution_count": 2,
   "metadata": {},
   "outputs": [],
   "source": [
    "df = pd.read_excel('Testing.xlsx')"
   ]
  },
  {
   "cell_type": "code",
   "execution_count": 3,
   "metadata": {},
   "outputs": [],
   "source": [
    "#df"
   ]
  },
  {
   "cell_type": "code",
   "execution_count": 4,
   "metadata": {},
   "outputs": [
    {
     "data": {
      "text/html": [
       "<div>\n",
       "<style scoped>\n",
       "    .dataframe tbody tr th:only-of-type {\n",
       "        vertical-align: middle;\n",
       "    }\n",
       "\n",
       "    .dataframe tbody tr th {\n",
       "        vertical-align: top;\n",
       "    }\n",
       "\n",
       "    .dataframe thead th {\n",
       "        text-align: right;\n",
       "    }\n",
       "</style>\n",
       "<table border=\"1\" class=\"dataframe\">\n",
       "  <thead>\n",
       "    <tr style=\"text-align: right;\">\n",
       "      <th></th>\n",
       "      <th>Mode</th>\n",
       "      <th>Message</th>\n",
       "    </tr>\n",
       "  </thead>\n",
       "  <tbody>\n",
       "    <tr>\n",
       "      <th>0</th>\n",
       "      <td>Angry</td>\n",
       "      <td>Tu to chup kr ja desh</td>\n",
       "    </tr>\n",
       "    <tr>\n",
       "      <th>1</th>\n",
       "      <td>Angry</td>\n",
       "      <td>Bush kr de bush</td>\n",
       "    </tr>\n",
       "    <tr>\n",
       "      <th>2</th>\n",
       "      <td>Normal</td>\n",
       "      <td>Ya puchna ya tha k Shair kisi b traha ka send ...</td>\n",
       "    </tr>\n",
       "    <tr>\n",
       "      <th>3</th>\n",
       "      <td>Happy</td>\n",
       "      <td>Han g phir to any dain gy per ap k any k bgair...</td>\n",
       "    </tr>\n",
       "    <tr>\n",
       "      <th>4</th>\n",
       "      <td>Normal</td>\n",
       "      <td>Everyone please bs kro yr</td>\n",
       "    </tr>\n",
       "    <tr>\n",
       "      <th>...</th>\n",
       "      <td>...</td>\n",
       "      <td>...</td>\n",
       "    </tr>\n",
       "    <tr>\n",
       "      <th>525</th>\n",
       "      <td>Normal</td>\n",
       "      <td>cr ko add kro bas</td>\n",
       "    </tr>\n",
       "    <tr>\n",
       "      <th>526</th>\n",
       "      <td>Normal</td>\n",
       "      <td>Mujhy interest ni wrna m ye khel leni thi</td>\n",
       "    </tr>\n",
       "    <tr>\n",
       "      <th>528</th>\n",
       "      <td>Fear</td>\n",
       "      <td>Mauf kar dein</td>\n",
       "    </tr>\n",
       "    <tr>\n",
       "      <th>533</th>\n",
       "      <td>Angry</td>\n",
       "      <td>Ankhon ka msla ho to m maan b lon</td>\n",
       "    </tr>\n",
       "    <tr>\n",
       "      <th>534</th>\n",
       "      <td>Normal</td>\n",
       "      <td>Okay ho gaya</td>\n",
       "    </tr>\n",
       "  </tbody>\n",
       "</table>\n",
       "<p>331 rows × 2 columns</p>\n",
       "</div>"
      ],
      "text/plain": [
       "       Mode                                            Message\n",
       "0     Angry                              Tu to chup kr ja desh\n",
       "1     Angry                                    Bush kr de bush\n",
       "2    Normal  Ya puchna ya tha k Shair kisi b traha ka send ...\n",
       "3     Happy  Han g phir to any dain gy per ap k any k bgair...\n",
       "4    Normal                          Everyone please bs kro yr\n",
       "..      ...                                                ...\n",
       "525  Normal                                  cr ko add kro bas\n",
       "526  Normal          Mujhy interest ni wrna m ye khel leni thi\n",
       "528    Fear                                      Mauf kar dein\n",
       "533   Angry                  Ankhon ka msla ho to m maan b lon\n",
       "534  Normal                                       Okay ho gaya\n",
       "\n",
       "[331 rows x 2 columns]"
      ]
     },
     "execution_count": 4,
     "metadata": {},
     "output_type": "execute_result"
    }
   ],
   "source": [
    "# Drop NaN values in Dataframe\n",
    "df = df.dropna()\n",
    "# Show Dataframe\n",
    "df"
   ]
  },
  {
   "cell_type": "code",
   "execution_count": 5,
   "metadata": {},
   "outputs": [],
   "source": [
    "# Change Column value --> from 'fear' to 'Fear' :)\n",
    "df[\"Mode\"].replace({\"Angry \": \"Angry\", \"fear\": \"Fear\",}, inplace=True)"
   ]
  },
  {
   "cell_type": "code",
   "execution_count": 6,
   "metadata": {},
   "outputs": [],
   "source": [
    "# Change Column value --> from 'fear' to 'Fear' :)\n",
    "df[\"Mode\"].replace({\"Normal\": \"Positive\", \"Happy\": \"Positive\", \"Love\": \"Positive\",}, inplace=True)\n",
    "df[\"Mode\"].replace({\"Angry\": \"Negative\", \"Fear\": \"Negative\", \"Sad\": \"Negative\",}, inplace=True)"
   ]
  },
  {
   "cell_type": "code",
   "execution_count": 7,
   "metadata": {},
   "outputs": [
    {
     "data": {
      "text/plain": [
       "array(['Negative', 'Positive'], dtype=object)"
      ]
     },
     "execution_count": 7,
     "metadata": {},
     "output_type": "execute_result"
    }
   ],
   "source": [
    "# Get the unique values of 'Mode' column\n",
    "df.Mode.unique()"
   ]
  },
  {
   "cell_type": "code",
   "execution_count": 8,
   "metadata": {},
   "outputs": [
    {
     "data": {
      "text/plain": [
       "<Figure size 640x480 with 1 Axes>"
      ]
     },
     "metadata": {},
     "output_type": "display_data"
    }
   ],
   "source": [
    "import matplotlib.pyplot as plt\n",
    "\n",
    "# a simple line plot\n",
    "#df.plot(kind='bar',x='Mode',y='Message')\n",
    "df.groupby('Mode')['Message'].nunique().plot(kind='bar')\n",
    "plt.show()"
   ]
  },
  {
   "cell_type": "code",
   "execution_count": 9,
   "metadata": {},
   "outputs": [
    {
     "data": {
      "text/plain": [
       "Positive    188\n",
       "Negative    143\n",
       "Name: Mode, dtype: int64"
      ]
     },
     "execution_count": 9,
     "metadata": {},
     "output_type": "execute_result"
    }
   ],
   "source": [
    "df['Mode'].value_counts()"
   ]
  },
  {
   "cell_type": "code",
   "execution_count": 10,
   "metadata": {},
   "outputs": [],
   "source": [
    "df[\"Mode\"].replace({\"Positive\": 0, \"Negative\": 1,}, inplace=True)"
   ]
  },
  {
   "cell_type": "code",
   "execution_count": 17,
   "metadata": {},
   "outputs": [
    {
     "data": {
      "text/plain": [
       "numpy.int64"
      ]
     },
     "execution_count": 17,
     "metadata": {},
     "output_type": "execute_result"
    }
   ],
   "source": [
    "type(df['Mode'][0])"
   ]
  },
  {
   "cell_type": "code",
   "execution_count": null,
   "metadata": {},
   "outputs": [],
   "source": []
  },
  {
   "cell_type": "code",
   "execution_count": 11,
   "metadata": {},
   "outputs": [
    {
     "data": {
      "text/html": [
       "<div>\n",
       "<style scoped>\n",
       "    .dataframe tbody tr th:only-of-type {\n",
       "        vertical-align: middle;\n",
       "    }\n",
       "\n",
       "    .dataframe tbody tr th {\n",
       "        vertical-align: top;\n",
       "    }\n",
       "\n",
       "    .dataframe thead th {\n",
       "        text-align: right;\n",
       "    }\n",
       "</style>\n",
       "<table border=\"1\" class=\"dataframe\">\n",
       "  <thead>\n",
       "    <tr style=\"text-align: right;\">\n",
       "      <th></th>\n",
       "      <th>Mode</th>\n",
       "      <th>Message</th>\n",
       "    </tr>\n",
       "  </thead>\n",
       "  <tbody>\n",
       "    <tr>\n",
       "      <th>0</th>\n",
       "      <td>1</td>\n",
       "      <td>Tu to chup kr ja desh</td>\n",
       "    </tr>\n",
       "    <tr>\n",
       "      <th>1</th>\n",
       "      <td>1</td>\n",
       "      <td>Bush kr de bush</td>\n",
       "    </tr>\n",
       "    <tr>\n",
       "      <th>2</th>\n",
       "      <td>0</td>\n",
       "      <td>Ya puchna ya tha k Shair kisi b traha ka send ...</td>\n",
       "    </tr>\n",
       "    <tr>\n",
       "      <th>3</th>\n",
       "      <td>0</td>\n",
       "      <td>Han g phir to any dain gy per ap k any k bgair...</td>\n",
       "    </tr>\n",
       "    <tr>\n",
       "      <th>4</th>\n",
       "      <td>0</td>\n",
       "      <td>Everyone please bs kro yr</td>\n",
       "    </tr>\n",
       "    <tr>\n",
       "      <th>...</th>\n",
       "      <td>...</td>\n",
       "      <td>...</td>\n",
       "    </tr>\n",
       "    <tr>\n",
       "      <th>525</th>\n",
       "      <td>0</td>\n",
       "      <td>cr ko add kro bas</td>\n",
       "    </tr>\n",
       "    <tr>\n",
       "      <th>526</th>\n",
       "      <td>0</td>\n",
       "      <td>Mujhy interest ni wrna m ye khel leni thi</td>\n",
       "    </tr>\n",
       "    <tr>\n",
       "      <th>528</th>\n",
       "      <td>1</td>\n",
       "      <td>Mauf kar dein</td>\n",
       "    </tr>\n",
       "    <tr>\n",
       "      <th>533</th>\n",
       "      <td>1</td>\n",
       "      <td>Ankhon ka msla ho to m maan b lon</td>\n",
       "    </tr>\n",
       "    <tr>\n",
       "      <th>534</th>\n",
       "      <td>0</td>\n",
       "      <td>Okay ho gaya</td>\n",
       "    </tr>\n",
       "  </tbody>\n",
       "</table>\n",
       "<p>331 rows × 2 columns</p>\n",
       "</div>"
      ],
      "text/plain": [
       "     Mode                                            Message\n",
       "0       1                              Tu to chup kr ja desh\n",
       "1       1                                    Bush kr de bush\n",
       "2       0  Ya puchna ya tha k Shair kisi b traha ka send ...\n",
       "3       0  Han g phir to any dain gy per ap k any k bgair...\n",
       "4       0                          Everyone please bs kro yr\n",
       "..    ...                                                ...\n",
       "525     0                                  cr ko add kro bas\n",
       "526     0          Mujhy interest ni wrna m ye khel leni thi\n",
       "528     1                                      Mauf kar dein\n",
       "533     1                  Ankhon ka msla ho to m maan b lon\n",
       "534     0                                       Okay ho gaya\n",
       "\n",
       "[331 rows x 2 columns]"
      ]
     },
     "execution_count": 11,
     "metadata": {},
     "output_type": "execute_result"
    }
   ],
   "source": [
    "df"
   ]
  },
  {
   "cell_type": "code",
   "execution_count": 24,
   "metadata": {},
   "outputs": [],
   "source": [
    "from gensim import corpora,models,similarities\n",
    "from collections import defaultdict\n",
    "from sklearn.model_selection import train_test_split"
   ]
  },
  {
   "cell_type": "code",
   "execution_count": 19,
   "metadata": {},
   "outputs": [],
   "source": [
    "X = np.asarray(df['Message'])\n",
    "y = np.asarray(df['Mode'])"
   ]
  },
  {
   "cell_type": "code",
   "execution_count": 22,
   "metadata": {},
   "outputs": [
    {
     "data": {
      "text/plain": [
       "numpy.int64"
      ]
     },
     "execution_count": 22,
     "metadata": {},
     "output_type": "execute_result"
    }
   ],
   "source": [
    "type(y[0])"
   ]
  },
  {
   "cell_type": "code",
   "execution_count": 25,
   "metadata": {},
   "outputs": [],
   "source": [
    "Xtrain,Xtest,ytrain,ytest = train_test_split(X,y,test_size=0.1,shuffle=True)"
   ]
  },
  {
   "cell_type": "code",
   "execution_count": 26,
   "metadata": {},
   "outputs": [
    {
     "name": "stdout",
     "output_type": "stream",
     "text": [
      "[['g', 'jani', 'm', 'apki', 'respect', 'krtahaon'], ['yeh', 'adnan', 'ka', 'lub', 'h', 'lub'], ['bht', 'hi', 'ghatiya', 'managment', 'he', 'pucit', 'ki'], ['me', 'ne', 'phir', 'bhi', 'ni', 'krna'], ['abdullah', 'shukar', 'kr', 'arshia', 'chali', 'gai'], ['chal', 'or', 'b', 'bht', 'kuch', 'rha', 'h'], ['hassan', 'aik', 'or', 'arrow'], ['vo', 'hame', 'pta', 'ha', 'bai'], ['aj', 'yr', 'chas', 'ni', 'kal', 'kal', 'tu', 'bary', 'bait', 'bazi', 'lagai', 'ti'], ['wesay', 'abhe', 'tk', 'announce', 'hojana', 'chaheyay', 'tha'], ['sony', 'dy', 'yar'], ['sakhoon', 'qabar', 'm'], ['kya', 'delete', 'kiya', 'tney', 'rey'], ['tra', 'gb', 'delete', 'ni', 'howa', 'kia', 'abho', 'tak'], ['lo', 'g', 'hun', 'sarey', 'veilqum', 'kro', 'aimen', 'da'], ['explain', 'kro', 'yar', 'abdullah', 'ma', 'bhi', 'confuse', 'hu', 'kia', 'blaa', 'hai', 'ye'], ['chal', 'lehnda', 'te', 'man', 'lenda'], ['bilal', 'junior', 'kaliyon', 'ko', 'entry', 'test', 'ki', 'preparation', 'ki', 'tips', 'dety', 'hue'], ['abi', 'prh', 'rhi', 'whi'], ['wesy', 'hm', 'bs', 'm', 'kia', 'krty', 'thy', 'ye'], ['celal', 'ko', 'tang', 'na', 'kiya', 'kro', 'yr'], ['nh', 'sir', 'kehty', 'hain', 'k', 'beshak', 'galt', 'btao', 'lkn', 'participate', 'zarur', 'kro'], ['inshaallah', 'bus', 'khyl', 'rakhi', 'k', 'kcuh', 'zyda', 'e', 'agy', 'na', 'nikal', 'jai'], ['bilal', 'ne', 'mje', 'khud', 'offer', 'krwai', 'thi'], ['itni', 'khamooshi', 'kisi', 'brey', 'toofan', 'ky', 'aney', 'se', 'pehly', 'hti'], ['han', 'ho', 'sakti', 'ha'], ['mtlb', 'kuch', 'bhi'], ['tujhe', 'wesy', 'bhi', 'adat', 'c', 'hai', 'ab'], ['agli', 'wari', 'sai'], ['sorry', 'm', 'idr', 'udr', 'chala', 'jata', 'hoan'], ['old', 'is', 'gold'], ['wesay', 'hira', 'english', 'k', 'course', 'mein', 'kaafi', 'achi', 'thi'], ['lgta', 'mujhe', 'bhi', 'kuch', 'aisa', 'hi', 'hai', 'daal', 'ma', 'kuj', 'kala', 'hai'], ['har', 'time', 'mzaakh', 'ka', 'nhe', 'hota', 'aur', 'har', 'baat', 'jo', 'mzaakh', 'nhe', 'bnaya', 'ja', 'skta'], ['tu', 'chup', 'kr', 'ja', 'desh'], ['kab', 'bnana', 'plan'], ['sab', 'badal', 'jaty', 'mere', 'dost'], ['sir', 'ap', 'tiktoners', 'ki', 'trha', 'talian', 'na', 'bjain'], ['allah', 'khair', 'karay'], ['na', 'us', 'ny', 'na', 'main', 'ny'], ['kuch', 'howa', 'h', 'kia'], ['o', 'nai', 'baii', 'm', 'ni', 'kr', 'ri', 'support', 'm', 'apna', 'point', 'view', 'bta', 'rhi', 'hon'], ['apne', 'apne', 'pics', 'send', 'kro'], ['haha', 'allah', 'sehat', 'dy', 'isko'], ['ye', 'sahii', 'mazy', 'hain'], ['keh', 'dy', 'yar', 'm', 'kehti', 'hn', 'aj', 'ho', 'jye'], ['ni', 'koi', 'khas', 'ni', 'ha'], ['ha', 'ma', 'na', 'kb', 'inkar', 'kia'], ['baat', 'ap', 'kisi', 'or', 'direction', 'me', 'le', 'kr', 'ja', 'rae', 'o'], ['dimag', 'ka', 'weight', 'sy', 'koi', 'taluq', 'nai', 'j'], ['or', 'me', 'tjhe'], ['sabit', 'krain', 'hmain', 'ap', 'py', 'yaqeen', 'ni'], ['ok', 'depends', 'on', 'conditions'], ['ye', 'b', 'alg', 'e', 'dukh', 'hai'], ['aag', 'ni', 'lgani', 'kia', 'tu', 'na'], ['keh', 'kon', 'rha', 'ha'], ['o', 'uthooo', 'hosh', 'kroo'], ['yr', 'ayesha', 'q', 'left', 'kr', 'gye', 'e'], ['haha', 'khuram', 'bechary', 'ko', 'koi', 'serious', 'ni', 'leta'], ['bai', 'family', 'group', 'h'], ['yr', 'neend', 'e', 'ni', 'andi', 'hun', 'ki', 'krey', 'bnda'], ['saad', 'wo', 'gali', 'yad', 'kr', 'jo', 'tujhe', 'abhi', 'sunai', 'thi', 'ma', 'na'], ['course', 'registration', 'me', 'current', 'transcript', 'wala', 'koi', 'scene', 'ni', 'krna', 'na'], ['waqia', 'hi', 'kkl', 'eid', 'h'], ['jalo', 'na'], ['bai', 'me', 'b', 'ni', 'ho', 'satisfied'], ['is', 'se', 'achi', 'ni', 'ho', 'sakti', 'ti', 'koi'], ['me', 'whi', 'smjhen', 'ki', 'koshit', 'mw', 'hn'], ['course', 'registration', 'kara', 'le', 'h', 'sb', 'ne'], ['hahah', 'hum', 'block', 'kr', 'den', 'gy', 'isey'], ['abdullah', 'sunn', 'lo'], ['yr', 'me', 'chala', 'jata'], ['ab', 'aisi', 'koi', 'czn', 'bachi', 'hi', 'ni', 'family', 'me', 'jis', 'ko', 'amma', 'hazor', 'sehri', 'bnany', 'ky', 'hisab', 'se', 'layen'], ['baki', 'hr', 'aik', 'ka', 'opinion', 'h', 'i', 'respect', 'that'], ['abhi', 'office', 'janey', 'lga'], ['teri', 'kami', 'thi'], ['han', 'zara', 'samjh', 'k', 'bana', 'lena', 'diagram'], ['are', 'u', 'kamidi', 'me'], ['sai', 'khail', 'gya'], ['distribute', 'computing', 'hmare', 'program', 'coordinator', 'parhain', 'gy'], ['mei', 'nay', 'kab', 'kaha', 'k', 'meri', 'kr', 'rhay'], ['ohka', 'ho', 'gya'], ['kahey', 'ka', 'single'], ['dass', 'yar', 'ennu', 'umar'], ['hahaha', 'wo', 'han', 'ha'], ['gussa', 'm', 'ny', 'kia', 'e', 'kahan', 'hai', 'kbhi'], ['hmm', 'ok', 'bro'], ['exactly', 'lgta', 'uskny', 'iska', 'udhar', 'dena', 'ho', 'ga', 'jo', 'isko', 'brdash', 'kr', 'rahi', 'hai'], ['pochy', 'hi', 'hain'], ['kaha', 'kaha', 'sey', 'aty', 'hay', 'ye', 'log'], ['bhai', 'ye', 'bndi', 'ne', 'inshallah', 'top', 'krna', 'e', 'next', 'semester', 'me'], ['ap', 'log', 'isko', 'bolain', 'k', 'sbka', 'khyal', 'kry'], ['phr', 'kuch', 'din', 'bad', 'abdullah', 'b', 'ose', 'bhabi', 'kahey', 'ga'], ['ye', 'thndi', 'thi'], ['sessional', 'barhien', 'hain'], ['phir', 'se', 'mera', 'dialogue', 'ly', 'lia'], ['oh', 'acha', 'acha'], ['han', 'g', 'phir', 'any', 'dain', 'gy', 'per', 'ap', 'k', 'any', 'k', 'bgair', 'kesy', 'hgi', 'attendence', 'puri'], ['kro', 'baii', 'commitment', 'mujh', 'se', 'hoi', 'thi', 'apki'], ['apna', 'official', 'sticker', 'send', 'kro'], ['sada', 'kutta', 'kutta', 'towada', 'kutta', 'tomi', 'woi', 'kam', 'ho', 'ra'], ['hawww', 'ab', 'iqra', 'kis', 'se', 'baatein', 'kre', 'ge'], ['hy', 'stay', 'blessed'], ['waqai', 'me', 'log', 'apne', 'maqsad', 'se', 'khaloos', 'ka', 'jaloos', 'kya', 'jnaza', 'nikalt', 'dety'], ['mery', 'pas', 'ak', 'idea', 'hai', 'bilal', 'aur', 'saad', 'k', 'liye'], ['ohh', 'hmien', 'wo', 'form', 'kesy', 'milly', 'ga'], ['haha', 'ab', 'bndy', 'ko', 'koi', 'bt', 'smjh', 'na', 'aye', 'kuch', 'kehna', 'hai', 'na'], ['okay', 'ho', 'gaya'], ['o', 'baii', 'esy', 'kn', 'manta', 'hai', 'wo', 'wqt', 'e', 'btata', 'hai'], ['hahaha', 'bta', 'ra'], ['haha', 'koi', 'masla', 'nh'], ['tujh', 'sy', 'us', 'ny', 'pcuha', 'e', 'ni'], ['sir', 'ny', 'b', 'gb', 'ki', 'hui', 'kya'], ['teri', 'hoti', 'hai', 'na', 'mery', 'jatho', 'iss', 'liye'], ['na', 'na', 'meri', 'kya', 'mjal', 'hai'], ['mazrat', 'kr', 'li', 'he', 'na', 'pehle', 'hi'], ['ni', 'ni', 'bna', 'deta'], ['iskay', 'baad', 'add', 'karnay', 'hain', 'courses', 'cms', 'pe'], ['ha', 'ye', 'ho', 'skta', 'hai'], ['yr', 'ab', 'ye', 'kia', 'dramey', 'bazi', 'e'], ['kash', 'k', 'hm', 'sub', 'ko', 'jaan', 'b', 'jaty', 'k', 'kon', 'kiya', 'ha'], ['yehi', 'm', 'keh', 'raha'], ['hum', 'unki', 'baat', 'kr', 'rahay', 'jo', 'illegally', 'lagwa', 'rahay'], ['ab', 'aisi', 'b', 'baat', 'nai', 'h'], ['ma', 'chill', 'e', 'hu'], ['nahi', 'isne', 'nazar', 'ni', 'ana', 'ta'], ['khtm', 'hi', 'kb', 'hoi'], ['lagta', 'aj', 'group', 'ma', 'kafi', 'hangama', 'huva', 'ha'], ['ye', 'duty', 'kb', 'sy', 'join', 'ki', 'apny'], ['lg', 'gya', 'pta', 'baii', 'na', 'chahty', 'huye', 'b'], ['baii', 'ayesha', 'kiran', 'na', 'itny', 'din', 'bad', 'msg', 'kia', 'hansan', 'bnta', 'tha', 'na'], ['ye', 'b', 'sahii', 'h'], ['aho', 'bai', 'sb', 'tum', 'log', 'hi', 'mera', 'kul', 'asasa'], ['muflah', 'prhny', 'wali', 'bachi', 'h', 'bunk', 'marny', 'walon', 'ko', 'nai', 'khilay', 'gi'], ['haha', 'wapis', 'oqat', 'py', 'bhej', 'dia', 'hme'], ['yar', 'phir', 'b', 'sb', 'k', 'samny', 'esy', 'be', 'izzat', 'hna'], ['m', 'b', 'yehi', 'intzaar', 'kr', 'ri', 'thi'], ['mujhe', 'b', 'ya', 'feel', 'ho', 'gya', 'tha', 'but', 'yaha', 'send', 'karny', 'k', 'baad'], ['aby', 'uski', 'hansi', 'wali', 'emoji', 'dakh', 'aur', 'feel', 'kr'], ['ma', 'n', 'btaya', 'hai'], ['shakir', 'tera', 'send', 'kr', 'dia', 'ha'], ['ha', 'online', 'hi', 'sahi', 'hai'], ['teri', 'kisi', 'ny', 'menat', 'ki', 'thi', 'k', 'en', 'pa', 'reply', 'kr'], ['tu', 'ky', 'sar', 'le', 'hmara', 'khoon'], ['yeah', 'mera', 'sacha', 'dost', 'hay'], ['hahahahaha', 'chlien', 'bs', 'dramy', 'na', 'krien', 'usko', 'wapis', 'lien'], ['gustakhi', 'ki', 'mafi'], ['bai', 'kisne', 'ye', 'khabar', 'di'], ['ap', 'group', 'me', 'muje', 'target', 'krny', 'ai', 'ho', 'special'], ['me', 'waqie', 'me', 'gussa', 'ho', 'jana'], ['okay', 'thek', 'hogaya'], ['sahii', 'btaon', 'm', 'ny', 'khud', 'ni', 'dekha', 'just', 'marks', 'dekhy', 'thy'], ['be', 'careful', 'next', 'time'], ['yup', 'end', 'pr', 'project', 'bhi', 'h'], ['is', 'bande', 'ka', 'or', 'dhanda', 'e', 'kia', 'h'], ['analysis', 'algo', 'k', 'lectures', 'ka', 'link', 'hai', 'kisi', 'k', 'pass'], ['bt', 'sahii', 'kahi', 'wesy'], ['cr', 'ko', 'add', 'kro', 'bas'], ['pakistani', 'pta', 'ni', 'kio', 'qarzay', 'me', 'dobey', 'howe', 'hain', 'phir'], ['yes', 'apply', 'krty', 'waqt', 'select', 'krna', 'hota', 'apna', 'slot'], ['isko', 'jany', 'do'], ['subject', 'ye', 'me', 'hamesha', 'se', 'hi', 'parhna', 'chah', 'rhi', 'thi'], ['yar', 'chand', 'laye', 'kis', 'k', 'liye', 'ho', 'yye', 'btaty', 'jao'], ['abi', 'single', 'e', 'hu'], ['everyone', 'please', 'bs', 'kro', 'yr'], ['aj', 'k', 'bad', 'aasma', 'ko', 'ksii', 'ny', 'tang', 'ni', 'krna', 'bas', 'm', 'phanka', 'hogaya', 'hoan'], ['teri', 'hi', 'side', 'py', 'hu'], ['tuj', 'se', 'ni', 'ho', 'paye', 'ga'], ['han', 'g', 'lekin', 'phr', 'sessional', 'bht', 'bure', 'ayes'], ['itne', 'jaldi', 'harr', 'gy'], ['kitneh', 'kitney', 'bny'], ['ye', 'mere', 'sawal', 'ka', 'jawab', 'phir', 'bhi', 'ni', 'h'], ['alhamdolillah', 'aisay', 'dhandhy', 'kiye', 'e', 'nai', 'jinka', 'ye', 'nateeja', 'ho'], ['bai', 'sb', 'ky', 'dimag', 'bnd', 'kr', 'diye'], ['or', 'second', 'me', 'pata', 'nai', 'kia', 'banta'], ['haha', 'jao'], ['ni', 'g', 'ma', 'captian', 'safdar', 'hu'], ['teri', 'himmat', 'kesy', 'hoi', 'pubg', 'ko', 'pubj', 'likhny', 'ki'], ['sasti', 'acting', 'sy', 'kuch', 'ni', 'hta', 'baii', 'humor', 'lana', 'prta', 'hai'], ['presentation', 'ka', 'ni', 'kehna', 'yr'], ['sir', 'ki', 'wjah', 'sy', 'k', 'project', 'ki', 'wjah', 'sy'], ['aasma', 'leave', 'it', 'yar'], ['subha', 'eid', 'h', 'kiya'], ['mera', 'viva', 'hwa', 'tha'], ['tmhn', 'jooty', 'e', 'paren', 'gy'], ['ab', 'bas', 'bach', 'k', 'raho', 'sab'], ['ankhon', 'ka', 'msla', 'ho', 'm', 'maan', 'b', 'lon'], ['thanx', 'all', 'u'], ['ma', 'akela', 'e', 'kafi', 'hu'], ['tum', 'tu', 'barhana', 'chahty', 'thy', 'teli', 'lga', 'k', 'gaib', 'hat', 'lelyo'], ['bai', 'bht', 'daring', 'baz', 'hti', 'ja', 'rahi'], ['dia', 'level', 'ka', 'per', 'chal', 'hun', 'chutti', 'kra', 'es', 'ki'], ['bilal', 'meri', 'jaan'], ['hahahahahahaaha', 'shehzadey', 'tu', 'khush', 'reh', 'bs'], ['saad', 'tre', 'baat', 'kr', 'ra'], ['tujh', 'py', 'thuu', 'teri', 'jugat', 'py', 'laanat'], ['shukur', 'e', 'iqra', 'chup', 'hui'], ['haly', 'tak', 'ethey', 'e', 'ein'], ['k', 'is', 'group', 'me', 'hansne', 'wali', 'emojis', 'bhji', 'jayein', 'bht', 'saari'], ['kya', 'zalim', 'dunia', 'hy'], ['han', 'shyd', 'model', 'verification', 'vali'], ['mosam', 'acha', 'hony', 'ki', 'jitni', 'khushi', 'ap', 'ko', 'h', 'ap', 'hi', 'khila', 'do'], ['wo', 'nraz', 'hau', 'e'], ['tu', 'bhi', 'tiktoker', 'hai'], ['ye', 'glt', 'bt', 'h', 'baii', 'i', 'feel', 'attacked'], ['haha', 'chal', 'ey'], ['phir', 'ab', 'kia', 'change', 'hona'], ['haha', 'marks', 'deny', 'wala', 'ya', 'wali', 'jo', 'b', 'h', 'wo', 'soch', 'ri', 'hgi', 'k', 'ye', 'pkka', 'chapa', 'hai'], ['isi', 'lia', 'me', 'b', 'email', 'kr', 'rhe', 'hn'], ['koi', 'tumhari', 'bestie', 'ko', 'bol', 'gya', 'tumhey', 'neend', 'kaise', 'agyi'], ['hain', 'yeah', 'kb', 'ki', 'bat', 'hia'], ['hahah', 'adnan', 'waly', 'grup', 'se', 'better', 'h'], ['ya', 'saady', 'achi', 'ha', 'vase'], ['tere', 'bhabi', 'naraz', 'hojae', 'gi', 'phr', 'm', 'kya', 'kron', 'ga'], ['vaha', 'bolo', 'ja', 'k', 'dusry', 'group', 'ma'], ['bush', 'kr', 'de', 'bush'], ['legendary', 'answer', 'i', 'like', 'that', 'spirit'], ['meray', 'say', 'na', 'kbhi', 'kisi', 'nay', 'aisee', 'baat', 'kahi', 'na', 'mujy', 'smjh', 'i', 'but', 'kuch', 'grbr', 'hai'], ['wo', 'bhut', 'km', 'milty', 'hain'], ['yahi', 'adat', 'apnana', 'chahty', 'hai', 'hm', 'lakin', 'ni', 'ho', 'pata'], ['yr', 'ye', 'group', 'ka', 'naam', 'change', 'kro', 'ispe', 'me', 'ne', 'abi', 'gor', 'kia'], ['mujy', 'b', 'lag', 'raha'], ['abdullah', 'sb', 'sy', 'chill', 'h', 'yahan', 'sb', 'k', 'mazaak', 'ko', 'mazaak', 'm', 'lety'], ['ab', 'jis', 'ka', 'msg', 'aya', 'faltu', 'kisi', 'baat', 'pe', 'usy', 'kick', 'kr', 'do', 'ga'], ['cr', 'is', 'not', 'coming', 'slow'], ['yay', 'sharminda', 'kyun', 'hain', 'sb'], ['is', 'semester', 'ziada', 'tough', 'ho', 'ga'], ['yehi', 'kisi', 'or', 'ny', 'bheja', 'hta', 'ap', 'ny', 'dher', 'sari', 'emojis', 'bhejni', 'thi'], ['apki', 'inhi', 'bato', 'se', 'bs', 'ab', 'iskna', 'decision', 'lena'], ['vo', 'q', 'karna', 'ha'], ['sir', 'recording', 'nae', 'kar', 'raee'], ['or', 'phr', 'khty', 'k', 'dr', 'lgta', 'h', 'lrai', 'sy'], ['ya', 'acha', 'tha', 'vase'], ['pighel', 'na', 'jana'], ['larai', 'kro', 'koi', 'sir', 'wgera', 'phoro', 'ak', 'dosry', 'ka', 'tb', 'mza', 'aye', 'ga'], ['sub', 'plans', 'khrb', 'kiya', 'molviyon', 'ny'], ['han', 'ye', 'b', 'bt', 'sahii', 'khi', 'ap', 'ny'], ['hahahahhaha', 'bht', 'taiz', 'o'], ['chlyn', 'shakir', 'k', 'cell', 'sy', 'kr', 'lo', 'new', 'sim', 'ly', 'lo'], ['hayeeee', 'bs', 'ya', 'msg', 'koi', 'bhabi', 'tk', 'phoncha', 'dy', 'sb', 'wsy', 'hi', 'theak', 'ho', 'jay', 'ga'], ['baat', 'krny', 'sy', 'sirf', 'jhooty', 'baagty'], ['ye', 'cr', 'hain', 'admin', 'wahi', 'kren', 'gi'], ['moasam', 'wesy', 'baki', 'dino', 'se', 'acha', 'tha', 'na', 'iss', 'liye', 'kaha'], ['tu', 'hai', 'e', 'issi', 'like'], ['haha', 'na', 'bai', 'me', 'aisa', 'koi', 'bando', 'bst', 'ni', 'kiya'], ['han', 'guess', 'kr', 'kon'], ['ma', 'wesy', 'mashor', 'tha'], ['yr', 'jiska', 'grade', 'change', 'ho', 'ra', 'unki', 'krein'], ['ya', 'puchna', 'ya', 'tha', 'k', 'shair', 'kisi', 'b', 'traha', 'ka', 'send', 'kr', 'sakty', 'hn', 'na'], ['umar', 'ko', 'jany', 'ni', 'dena', 'baii'], ['ok', 'umar', 'ka', 'mera', 'mzak', 'nai', 'h', 'ab', 'sy'], ['aj', 'tu', 'confess', 'kre', 'ga', 'sb', 'k', 'samne'], ['hahaha', 'thank', 'you'], ['q', 'abdullah', 'ko', 'group', 'se', 'niklwana'], ['wohi', 'magar', 'inhn', 'ne', 'papers', 'k', 'kis', 'base', 'pe', 'lagaye', 'hain', 'ye', 'ni', 'samjh', 'raha'], ['ye', 'hafsa', 'se', 'he', 'pooch', 'lo'], ['mein', 'toh', 'soo', 'k', 'utha', 'yr'], ['hahahaha', 'me', 'b', 'smj', 'gia', 'hu'], ['usky', 'jzbat', 'k', 'sath', 'na', 'khailo', 'man', 'lo', 'baii'], ['lollipop', 'khaye', 'ga'], ['mtlb', 'me', 'glt', 'nhi', 'hun'], ['neend', 'gye', 'thi'], ['mauf', 'kar', 'dein'], ['us', 'k', 'bad', 'unki', 'class', 'ni', 'li', 'mene'], ['acha', 'yr', 'tang', 'na', 'kiya', 'kro', 'unhain'], ['shakir', 'ko', 'kuch', 'na', 'kaho', 'yr', 'agr', 'shakir', 'naraz', 'hogaya', 'tu', 'wo', 'bi', 'hojani'], ['mere', 'sath', 'hwa', 'h', 'na'], ['ok', 'ab', 'me', 'chlta', 'hu', 'chauhdry', 'gia', 'e'], ['haha', 'iqra', 'ko', 'ye', 'facility', 'kbhi', 'ni', 'mili', 'main', 'ny', 'wesy', 'kbhi', 'mangi', 'b', 'ni', 'kia', 'pta', 'mil', 'e', 'jati'], ['m', 'wo', 'b', 'ni', 'kehti'], ['saady', 'galt', 'baat'], ['paper', 'k', 'lea', 'serious', 'ho', 'bs'], ['smj', 'ni', 'lgi'], ['phir', 'wo', 'shair', 'suna', 'do', 'ilama', 'iqbal', 'ka'], ['bilkul', 'hm', 'betaaab', 'hn'], ['failures', 'made', 'best', 'coaches'], ['g', 'g', 'bilkul'], ['uncle', 'da', 'pta', 'kro', 'ay', 'kerry', 'pind', 'dy', 'aa', 'kerry', 'shehar', 'dy', 'aa'], ['baaaaaiii', 'wja', 'k', 'bger', 'nhi', 'bolna', 'mene'], ['hahahah', 'awain', 'gusa', 'chrahta', 'rehta'], ['original', 'version', 'bta', 'kasa', 'tha'], ['hayee', 'itni', 'fikarr'], ['haha', 'ye', 'sahii', 'explain', 'kia', 'h', 'tu', 'ny', 'kbhi', 'khushi', 'kbhi', 'gam', 'wala', 'scene', 'hgya'], ['inni', 'v', 'gal', 'ni', 'ay'], ['mere', 'tu', 'batch', 'mate', 'hain'], ['oh', 'baii', 'mahool', 'thanda', 'hgya', 'tha'], ['ye', 'ki', 'na', 'bat'], ['han', 'ruha', 'valiha', 'mohobata'], ['lahore', 'walon', 'ki', 'bt', 'ho', 'ri', 'h', 'baii'], ['wo', 'kiya', 'hota', 'ha'], ['bilal', 'ny', 'her', 'cheez', 'py', 'pochna', 'hta', 'hasna', 'tha', 'kya'], ['ek', 'b', 'chajj', 'ka', 'nh', 'ha'], ['wo', 'b', 'kr', 'yhi', 'rhi', 'hon', 'gi'], ['apna', 'moan', 'vekh', 'jewan', 'khusriyan', 'da', 'hotel', 'honda'], ['luv', 'u', 'too'], ['hahaha', 'ap', 'sub', 'ny', 'kaha', 'tha'], ['waisy', 'hum', 'sy', 'nhe', 'prha', 'jata', 'itna']]\n"
     ]
    }
   ],
   "source": [
    "#stoplist = set('for a of the and to in'.split(' '))\n",
    "stoplist = set('for a of the and to in'.split(' '))\n",
    "\n",
    "#print(stoplist)\n",
    "\n",
    "texts = [[word for word in re.split('\\W+',doc.lower()) if word not in stoplist]\n",
    "         for doc in Xtrain]\n",
    "\n",
    "\n",
    "# for doc in Xtrain:\n",
    "#     word = doc\n",
    "#     for word in re.split('\\W+', doc.lower()):\n",
    "#         if word in not\n",
    "\n",
    "print(texts)"
   ]
  },
  {
   "cell_type": "code",
   "execution_count": 27,
   "metadata": {},
   "outputs": [
    {
     "name": "stdout",
     "output_type": "stream",
     "text": [
      "297\n"
     ]
    }
   ],
   "source": [
    "print(len(texts))"
   ]
  },
  {
   "cell_type": "code",
   "execution_count": 30,
   "metadata": {},
   "outputs": [],
   "source": [
    "frequency = defaultdict(int)\n",
    "for text in texts:\n",
    "    for token in text:\n",
    "        frequency[token] += 1\n",
    "\n",
    "cutOffValue = 2\n",
    "processed_corpus = [[token for token in text if frequency[token] > cutOffValue] \n",
    "                    for text in texts]"
   ]
  },
  {
   "cell_type": "code",
   "execution_count": 31,
   "metadata": {},
   "outputs": [
    {
     "name": "stdout",
     "output_type": "stream",
     "text": [
      "Dictionary(150 unique tokens: ['apki', 'g', 'm', 'h', 'ka']...)\n"
     ]
    }
   ],
   "source": [
    "dictionary = corpora.Dictionary(processed_corpus)\n",
    "print(dictionary)"
   ]
  },
  {
   "cell_type": "code",
   "execution_count": 32,
   "metadata": {},
   "outputs": [],
   "source": [
    "bow_corpus = [dictionary.doc2bow(text) for text in processed_corpus]"
   ]
  },
  {
   "cell_type": "code",
   "execution_count": 33,
   "metadata": {},
   "outputs": [],
   "source": [
    "model = models.TfidfModel(bow_corpus)\n",
    "#model = models.LsiModel(bow_corpus)\n",
    "#model = models.LdaModel(bow_corpus)"
   ]
  },
  {
   "cell_type": "code",
   "execution_count": 34,
   "metadata": {},
   "outputs": [],
   "source": [
    "index = similarities.SparseMatrixSimilarity(model[bow_corpus],num_features=len(dictionary))"
   ]
  },
  {
   "cell_type": "code",
   "execution_count": 46,
   "metadata": {},
   "outputs": [
    {
     "name": "stdout",
     "output_type": "stream",
     "text": [
      "Predicted:  0\n",
      "Ground Truth: 0\n"
     ]
    }
   ],
   "source": [
    "t = np.random.randint(len(Xtest))\n",
    "query_document = re.split('\\W+',Xtest[t].lower())\n",
    "query_bow = dictionary.doc2bow(query_document)\n",
    "sims = index[model[query_bow]]\n",
    "docNumber = sorted(enumerate(sims), key=lambda x: x[1], reverse=True)[0][0]\n",
    "\n",
    "print('Predicted: ', ytrain[docNumber])\n",
    "print('Ground Truth:',ytest[t])\n",
    "\n",
    "#print('Predicted:',y_names[ytrain[docNumber]])\n",
    "#print('Ground Truth:',y_names[ytest[t]])"
   ]
  },
  {
   "cell_type": "code",
   "execution_count": 41,
   "metadata": {},
   "outputs": [
    {
     "ename": "AttributeError",
     "evalue": "'TfidfModel' object has no attribute 'predict'",
     "output_type": "error",
     "traceback": [
      "\u001b[0;31m---------------------------------------------------------------------------\u001b[0m",
      "\u001b[0;31mAttributeError\u001b[0m                            Traceback (most recent call last)",
      "\u001b[0;32m<ipython-input-41-b29df086a909>\u001b[0m in \u001b[0;36m<module>\u001b[0;34m()\u001b[0m\n\u001b[0;32m----> 1\u001b[0;31m \u001b[0my_score\u001b[0m \u001b[0;34m=\u001b[0m \u001b[0mmodel\u001b[0m\u001b[0;34m.\u001b[0m\u001b[0mpredict\u001b[0m\u001b[0;34m(\u001b[0m\u001b[0mXtest\u001b[0m\u001b[0;34m)\u001b[0m\u001b[0;34m\u001b[0m\u001b[0;34m\u001b[0m\u001b[0m\n\u001b[0m",
      "\u001b[0;31mAttributeError\u001b[0m: 'TfidfModel' object has no attribute 'predict'"
     ]
    }
   ],
   "source": [
    "y_score = model.predict(Xtest)"
   ]
  },
  {
   "cell_type": "code",
   "execution_count": 62,
   "metadata": {},
   "outputs": [],
   "source": [
    "vocab = {}"
   ]
  },
  {
   "cell_type": "code",
   "execution_count": 63,
   "metadata": {},
   "outputs": [],
   "source": [
    "def initializeVocabulary():\n",
    "    unkToken = '<UNK>'\n",
    "    #create another vocab inside vocab -> text to index\n",
    "    vocab['t_2_i'] = {}\n",
    "    #create another vocab inside vocab -> index to text\n",
    "    vocab['i_2_t'] = {}\n",
    "    # Add token in key 'unkToken' = '<UNK>'\n",
    "    vocab['unkToken'] = unkToken\n",
    "    # call function 'addToken()' that return token index\n",
    "    idx = addToken(unkToken)\n",
    "    vocab['unkTokenIdx'] = idx"
   ]
  },
  {
   "cell_type": "code",
   "execution_count": 64,
   "metadata": {},
   "outputs": [],
   "source": [
    "def addToken(token):\n",
    "    # if token already in vocab then just return index\n",
    "    if token in vocab['t_2_i']:\n",
    "        idx = vocab['t_2_i'][token]\n",
    "    else:\n",
    "        # create index for new tokken --> simply new index == len(vocab) /*last number*/\n",
    "        idx = len(vocab['t_2_i'])\n",
    "        vocab['t_2_i'][token] = idx\n",
    "        vocab['i_2_t'][idx] = token\n",
    "    return idx"
   ]
  },
  {
   "cell_type": "code",
   "execution_count": 65,
   "metadata": {},
   "outputs": [],
   "source": [
    "def addManyTokens(tokens):\n",
    "    idxes = [addToken(token) for token in tokens]\n",
    "    return idxes"
   ]
  },
  {
   "cell_type": "code",
   "execution_count": 66,
   "metadata": {},
   "outputs": [],
   "source": [
    "def lookUpToken(token):\n",
    "    return vocab['t_2_i'].get(token,vocab['unkTokenIdx'])"
   ]
  },
  {
   "cell_type": "code",
   "execution_count": 67,
   "metadata": {},
   "outputs": [],
   "source": [
    "def lookUpIndex(idx):\n",
    "    if idx not in vocab['i_2_t']:\n",
    "        raise KeyError(\"the index (%d) is not there\" % idx)\n",
    "    return vocab['i_2_t'][idx]"
   ]
  },
  {
   "cell_type": "code",
   "execution_count": 68,
   "metadata": {},
   "outputs": [],
   "source": [
    "def vocabularyFromDataFrame(df,cutoff=2):\n",
    "    initializeVocabulary()\n",
    "    wordCounts = Counter()\n",
    "    for r in df.review:\n",
    "        for word in re.split('\\W+',r):\n",
    "            wordCounts[word] += 1\n",
    "    for word,count in wordCounts.items():\n",
    "        if count > cutoff:\n",
    "            addToken(word)"
   ]
  },
  {
   "cell_type": "code",
   "execution_count": 69,
   "metadata": {},
   "outputs": [],
   "source": [
    "def vocabularyFromCorpus(Corpus,cutoff=2):\n",
    "    initializeVocabulary()\n",
    "    wordCounts = Counter()\n",
    "    for doc in Corpus:\n",
    "        for word in re.split('\\W+',doc):\n",
    "            wordCounts[word] += 1\n",
    "    for word,count in wordCounts.items():\n",
    "        if count > cutoff:\n",
    "            addToken(word)"
   ]
  },
  {
   "cell_type": "code",
   "execution_count": 70,
   "metadata": {},
   "outputs": [],
   "source": [
    "def oneHotVector(token,N):\n",
    "    oneHot = np.zeros((N,1))\n",
    "    oneHot[lookUpToken(token)] = 1\n",
    "    return oneHot"
   ]
  },
  {
   "cell_type": "code",
   "execution_count": 71,
   "metadata": {},
   "outputs": [],
   "source": [
    "def computeFeatures(doc,N):\n",
    "    isFirst = True\n",
    "    for token in doc:\n",
    "        oneHot = oneHotVector(token,N)\n",
    "        if isFirst:\n",
    "            xF = oneHot\n",
    "            isFirst = False\n",
    "        else:\n",
    "            xF = np.hstack((xF,oneHot))\n",
    "    return np.mean(xF,axis=1)[:,np.newaxis]"
   ]
  },
  {
   "cell_type": "code",
   "execution_count": 72,
   "metadata": {},
   "outputs": [],
   "source": [
    "def computeFeatures_fast(doc,N):\n",
    "    fv = np.zeros(N)\n",
    "    numTokens = 0\n",
    "    for token in doc:\n",
    "        fv[lookUpToken(token)] += 1\n",
    "        numTokens += 1\n",
    "    return fv/numTokens"
   ]
  },
  {
   "cell_type": "code",
   "execution_count": 73,
   "metadata": {},
   "outputs": [],
   "source": [
    "def corpusToFeatureMatrix(Corpus,N):\n",
    "    isFirst = True\n",
    "    for doc in Corpus:\n",
    "        fv = computeFeatures(doc,N)\n",
    "        if isFirst:\n",
    "            fM = fv\n",
    "            isFirst = False\n",
    "        else:\n",
    "            fM = np.hstack((fM,fv))\n",
    "    return fM.T"
   ]
  },
  {
   "cell_type": "code",
   "execution_count": 74,
   "metadata": {},
   "outputs": [],
   "source": [
    "def corpusToFeatureMatrix_fast(Corpus,N):\n",
    "    fM = np.zeros((N,len(Corpus)))\n",
    "    i = 0\n",
    "    for doc in Corpus:\n",
    "        fM[:,i] = computeFeatures_fast(doc,N)\n",
    "        i+=1\n",
    "    return fM.T"
   ]
  },
  {
   "cell_type": "code",
   "execution_count": 75,
   "metadata": {},
   "outputs": [],
   "source": [
    "X = np.asarray(df['Message'])\n",
    "y = np.asarray(df['Mode'])"
   ]
  },
  {
   "cell_type": "code",
   "execution_count": null,
   "metadata": {},
   "outputs": [],
   "source": []
  },
  {
   "cell_type": "code",
   "execution_count": null,
   "metadata": {},
   "outputs": [],
   "source": []
  },
  {
   "cell_type": "code",
   "execution_count": 76,
   "metadata": {},
   "outputs": [
    {
     "data": {
      "text/plain": [
       "(array(['Tu to chup kr ja desh', 'Bush kr de bush',\n",
       "        'Ya puchna ya tha k Shair kisi b traha ka send kr sakty hn na',\n",
       "        'Han g phir to any dain gy per ap k any k bgair kesy hgi attendence puri',\n",
       "        'Everyone please bs kro yr'], dtype=object),\n",
       " array(['Negative', 'Negative', 'Positive', 'Positive', 'Positive'],\n",
       "       dtype=object))"
      ]
     },
     "execution_count": 76,
     "metadata": {},
     "output_type": "execute_result"
    }
   ],
   "source": [
    "X[:5], y[:5]"
   ]
  },
  {
   "cell_type": "code",
   "execution_count": 77,
   "metadata": {},
   "outputs": [],
   "source": [
    "from sklearn.model_selection import train_test_split"
   ]
  },
  {
   "cell_type": "code",
   "execution_count": 78,
   "metadata": {},
   "outputs": [],
   "source": [
    "Xtrain,Xtest,ytrain,ytest = train_test_split(X,y,test_size=0.3,shuffle=True)"
   ]
  },
  {
   "cell_type": "code",
   "execution_count": 79,
   "metadata": {},
   "outputs": [],
   "source": [
    "vocabularyFromCorpus(Xtrain)"
   ]
  },
  {
   "cell_type": "code",
   "execution_count": 80,
   "metadata": {},
   "outputs": [
    {
     "data": {
      "text/plain": [
       "112"
      ]
     },
     "execution_count": 80,
     "metadata": {},
     "output_type": "execute_result"
    }
   ],
   "source": [
    "len(vocab['t_2_i'])"
   ]
  },
  {
   "cell_type": "code",
   "execution_count": 81,
   "metadata": {},
   "outputs": [],
   "source": [
    "N = len(vocab['t_2_i'])\n",
    "Xtrain_fM = corpusToFeatureMatrix_fast(Xtrain,N)\n",
    "Xtest_fM = corpusToFeatureMatrix_fast(Xtest,N)"
   ]
  },
  {
   "cell_type": "code",
   "execution_count": null,
   "metadata": {},
   "outputs": [],
   "source": []
  },
  {
   "cell_type": "code",
   "execution_count": 110,
   "metadata": {},
   "outputs": [
    {
     "data": {
      "text/plain": [
       "(231, 112)"
      ]
     },
     "execution_count": 110,
     "metadata": {},
     "output_type": "execute_result"
    }
   ],
   "source": [
    "Xtrain_fM.shape"
   ]
  },
  {
   "cell_type": "code",
   "execution_count": 83,
   "metadata": {},
   "outputs": [
    {
     "data": {
      "text/plain": [
       "(100, 112)"
      ]
     },
     "execution_count": 83,
     "metadata": {},
     "output_type": "execute_result"
    }
   ],
   "source": [
    "Xtest_fM.shape"
   ]
  },
  {
   "cell_type": "code",
   "execution_count": 103,
   "metadata": {},
   "outputs": [],
   "source": [
    "#from sklearn.linear_model import LogisticRegression as clf\n",
    "from sklearn.naive_bayes import GaussianNB as clf\n",
    "#from sklearn.ensemble import RandomForestClassifier as clf\n",
    "#from sklearn.svm import SVC as clf\n",
    "from sklearn.metrics import confusion_matrix\n",
    "import seaborn as sns\n",
    "from matplotlib import pyplot as plt\n",
    "sns.set()"
   ]
  },
  {
   "cell_type": "code",
   "execution_count": 104,
   "metadata": {},
   "outputs": [],
   "source": [
    "M = clf().fit(Xtrain_fM,ytrain)"
   ]
  },
  {
   "cell_type": "code",
   "execution_count": 105,
   "metadata": {},
   "outputs": [],
   "source": [
    "y_pred = M.predict(Xtest_fM)"
   ]
  },
  {
   "cell_type": "code",
   "execution_count": 106,
   "metadata": {},
   "outputs": [
    {
     "data": {
      "text/plain": [
       "Text(89.133125, 0.5, 'Predicted Label')"
      ]
     },
     "execution_count": 106,
     "metadata": {},
     "output_type": "execute_result"
    },
    {
     "data": {
      "image/png": "[encoded data removed]",
      "text/plain": [
       "<Figure size 432x288 with 1 Axes>"
      ]
     },
     "metadata": {},
     "output_type": "display_data"
    }
   ],
   "source": [
    "mat = confusion_matrix(ytest,y_pred)\n",
    "sns.heatmap(mat.T,square=True,annot=True,fmt='d',cbar=False,\n",
    "           xticklabels=np.unique(y),yticklabels=np.unique(y))\n",
    "plt.xlabel(\"True Label\")\n",
    "plt.ylabel(\"Predicted Label\")"
   ]
  },
  {
   "cell_type": "code",
   "execution_count": 81,
   "metadata": {},
   "outputs": [],
   "source": [
    "#clf.score(Xtrain, ytrain)"
   ]
  },
  {
   "cell_type": "code",
   "execution_count": 82,
   "metadata": {},
   "outputs": [],
   "source": [
    "#clf.score(Xtest, ytest)"
   ]
  },
  {
   "cell_type": "code",
   "execution_count": 102,
   "metadata": {},
   "outputs": [
    {
     "name": "stdout",
     "output_type": "stream",
     "text": [
      "              precision    recall  f1-score   support\n",
      "\n",
      "    Negative       0.00      0.00      0.00        36\n",
      "    Positive       0.64      1.00      0.78        64\n",
      "\n",
      "    accuracy                           0.64       100\n",
      "   macro avg       0.32      0.50      0.39       100\n",
      "weighted avg       0.41      0.64      0.50       100\n",
      "\n"
     ]
    },
    {
     "name": "stderr",
     "output_type": "stream",
     "text": [
      "c:\\users\\hassan raza\\appdata\\local\\programs\\python\\python37\\lib\\site-packages\\sklearn\\metrics\\classification.py:1437: UndefinedMetricWarning: Precision and F-score are ill-defined and being set to 0.0 in labels with no predicted samples.\n",
      "  'precision', 'predicted', average, warn_for)\n"
     ]
    }
   ],
   "source": [
    "from sklearn.metrics import classification_report\n",
    "print(classification_report(ytest, y_pred))"
   ]
  },
  {
   "cell_type": "code",
   "execution_count": null,
   "metadata": {},
   "outputs": [],
   "source": []
  }
 ],
 "metadata": {
  "kernelspec": {
   "display_name": "Python 3",
   "language": "python",
   "name": "python3"
  },
  "language_info": {
   "codemirror_mode": {
    "name": "ipython",
    "version": 3
   },
   "file_extension": ".py",
   "mimetype": "text/x-python",
   "name": "python",
   "nbconvert_exporter": "python",
   "pygments_lexer": "ipython3",
   "version": "3.7.1"
  }
 },
 "nbformat": 4,
 "nbformat_minor": 4
}
