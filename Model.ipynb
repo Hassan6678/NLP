{
 "cells": [
  {
   "cell_type": "code",
   "execution_count": 1,
   "metadata": {},
   "outputs": [],
   "source": [
    "import pandas as pd\n",
    "import numpy as np\n",
    "from collections import Counter\n",
    "import re"
   ]
  },
  {
   "cell_type": "code",
   "execution_count": 4,
   "metadata": {},
   "outputs": [],
   "source": [
    "df = pd.read_excel('Whatsapp_chat_Data.xlsx')"
   ]
  },
  {
   "cell_type": "code",
   "execution_count": 3,
   "metadata": {},
   "outputs": [],
   "source": [
    "#df"
   ]
  },
  {
   "cell_type": "code",
   "execution_count": 5,
   "metadata": {},
   "outputs": [
    {
     "data": {
      "text/html": [
       "<div>\n",
       "<style scoped>\n",
       "    .dataframe tbody tr th:only-of-type {\n",
       "        vertical-align: middle;\n",
       "    }\n",
       "\n",
       "    .dataframe tbody tr th {\n",
       "        vertical-align: top;\n",
       "    }\n",
       "\n",
       "    .dataframe thead th {\n",
       "        text-align: right;\n",
       "    }\n",
       "</style>\n",
       "<table border=\"1\" class=\"dataframe\">\n",
       "  <thead>\n",
       "    <tr style=\"text-align: right;\">\n",
       "      <th></th>\n",
       "      <th>Mode</th>\n",
       "      <th>Message</th>\n",
       "    </tr>\n",
       "  </thead>\n",
       "  <tbody>\n",
       "    <tr>\n",
       "      <th>0</th>\n",
       "      <td>Angry</td>\n",
       "      <td>Hmme na pagal ho chuki har teacher ki mintaien...</td>\n",
       "    </tr>\n",
       "    <tr>\n",
       "      <th>1</th>\n",
       "      <td>Angry</td>\n",
       "      <td>Or phir teachers k krny waly kam b me he kron</td>\n",
       "    </tr>\n",
       "    <tr>\n",
       "      <th>2</th>\n",
       "      <td>Sad</td>\n",
       "      <td>Allah kry maan jay ab bus</td>\n",
       "    </tr>\n",
       "    <tr>\n",
       "      <th>3</th>\n",
       "      <td>Fear</td>\n",
       "      <td>Abhe aca ki assignments rehti hain</td>\n",
       "    </tr>\n",
       "    <tr>\n",
       "      <th>5</th>\n",
       "      <td>Sad</td>\n",
       "      <td>Ab Eid tu guzarny dein sakoon se</td>\n",
       "    </tr>\n",
       "    <tr>\n",
       "      <th>...</th>\n",
       "      <td>...</td>\n",
       "      <td>...</td>\n",
       "    </tr>\n",
       "    <tr>\n",
       "      <th>14259</th>\n",
       "      <td>Angry</td>\n",
       "      <td>Mery comments or warning ko b importance nai di</td>\n",
       "    </tr>\n",
       "    <tr>\n",
       "      <th>14260</th>\n",
       "      <td>Happy</td>\n",
       "      <td>G behn jsa ap kahyn</td>\n",
       "    </tr>\n",
       "    <tr>\n",
       "      <th>14268</th>\n",
       "      <td>Happy</td>\n",
       "      <td>Happy Independence Day</td>\n",
       "    </tr>\n",
       "    <tr>\n",
       "      <th>14276</th>\n",
       "      <td>Happy</td>\n",
       "      <td>Or shukr h  mny uni jany sy phly msg dakh lia</td>\n",
       "    </tr>\n",
       "    <tr>\n",
       "      <th>14279</th>\n",
       "      <td>Normal</td>\n",
       "      <td>Mainy isi liya rat he msg kr diya tha k subha ...</td>\n",
       "    </tr>\n",
       "  </tbody>\n",
       "</table>\n",
       "<p>1917 rows × 2 columns</p>\n",
       "</div>"
      ],
      "text/plain": [
       "         Mode                                            Message\n",
       "0       Angry  Hmme na pagal ho chuki har teacher ki mintaien...\n",
       "1       Angry      Or phir teachers k krny waly kam b me he kron\n",
       "2         Sad                          Allah kry maan jay ab bus\n",
       "3        Fear                 Abhe aca ki assignments rehti hain\n",
       "5         Sad                   Ab Eid tu guzarny dein sakoon se\n",
       "...       ...                                                ...\n",
       "14259   Angry    Mery comments or warning ko b importance nai di\n",
       "14260   Happy                                G behn jsa ap kahyn\n",
       "14268   Happy                             Happy Independence Day\n",
       "14276   Happy      Or shukr h  mny uni jany sy phly msg dakh lia\n",
       "14279  Normal  Mainy isi liya rat he msg kr diya tha k subha ...\n",
       "\n",
       "[1917 rows x 2 columns]"
      ]
     },
     "execution_count": 5,
     "metadata": {},
     "output_type": "execute_result"
    }
   ],
   "source": [
    "# Drop NaN values in Dataframe\n",
    "df = df.dropna()\n",
    "# Show Dataframe\n",
    "df"
   ]
  },
  {
   "cell_type": "code",
   "execution_count": 5,
   "metadata": {},
   "outputs": [],
   "source": [
    "# Change Column value --> from 'fear' to 'Fear' :)\n",
    "df[\"Mode\"].replace({\"Angry \": \"Angry\", \"fear\": \"Fear\",}, inplace=True)"
   ]
  },
  {
   "cell_type": "code",
   "execution_count": 6,
   "metadata": {},
   "outputs": [],
   "source": [
    "# Change Column value --> from 'fear' to 'Fear' :)\n",
    "df[\"Mode\"].replace({\"Normal\": \"Positive\", \"Happy\": \"Positive\", \"Love\": \"Positive\",}, inplace=True)\n",
    "df[\"Mode\"].replace({\"Angry\": \"Negative\", \"Fear\": \"Negative\", \"Sad\": \"Negative\",}, inplace=True)"
   ]
  },
  {
   "cell_type": "code",
   "execution_count": 7,
   "metadata": {},
   "outputs": [
    {
     "data": {
      "text/plain": [
       "array(['Negative', 'Positive'], dtype=object)"
      ]
     },
     "execution_count": 7,
     "metadata": {},
     "output_type": "execute_result"
    }
   ],
   "source": [
    "# Get the unique values of 'Mode' column\n",
    "df.Mode.unique()"
   ]
  },
  {
   "cell_type": "code",
   "execution_count": 8,
   "metadata": {},
   "outputs": [
    {
     "data": {
      "text/plain": [
       "<Figure size 640x480 with 1 Axes>"
      ]
     },
     "metadata": {},
     "output_type": "display_data"
    }
   ],
   "source": [
    "import matplotlib.pyplot as plt\n",
    "\n",
    "# a simple line plot\n",
    "#df.plot(kind='bar',x='Mode',y='Message')\n",
    "df.groupby('Mode')['Message'].nunique().plot(kind='bar')\n",
    "plt.show()"
   ]
  },
  {
   "cell_type": "code",
   "execution_count": 9,
   "metadata": {},
   "outputs": [
    {
     "data": {
      "text/plain": [
       "Positive    1124\n",
       "Negative     793\n",
       "Name: Mode, dtype: int64"
      ]
     },
     "execution_count": 9,
     "metadata": {},
     "output_type": "execute_result"
    }
   ],
   "source": [
    "df['Mode'].value_counts()"
   ]
  },
  {
   "cell_type": "code",
   "execution_count": 10,
   "metadata": {},
   "outputs": [],
   "source": [
    "df[\"Mode\"].replace({\"Positive\": 0, \"Negative\": 1,}, inplace=True)"
   ]
  },
  {
   "cell_type": "code",
   "execution_count": 11,
   "metadata": {},
   "outputs": [
    {
     "data": {
      "text/plain": [
       "numpy.int64"
      ]
     },
     "execution_count": 11,
     "metadata": {},
     "output_type": "execute_result"
    }
   ],
   "source": [
    "type(df['Mode'][0])"
   ]
  },
  {
   "cell_type": "code",
   "execution_count": null,
   "metadata": {},
   "outputs": [],
   "source": []
  },
  {
   "cell_type": "code",
   "execution_count": 12,
   "metadata": {},
   "outputs": [
    {
     "data": {
      "text/html": [
       "<div>\n",
       "<style scoped>\n",
       "    .dataframe tbody tr th:only-of-type {\n",
       "        vertical-align: middle;\n",
       "    }\n",
       "\n",
       "    .dataframe tbody tr th {\n",
       "        vertical-align: top;\n",
       "    }\n",
       "\n",
       "    .dataframe thead th {\n",
       "        text-align: right;\n",
       "    }\n",
       "</style>\n",
       "<table border=\"1\" class=\"dataframe\">\n",
       "  <thead>\n",
       "    <tr style=\"text-align: right;\">\n",
       "      <th></th>\n",
       "      <th>Mode</th>\n",
       "      <th>Message</th>\n",
       "    </tr>\n",
       "  </thead>\n",
       "  <tbody>\n",
       "    <tr>\n",
       "      <th>0</th>\n",
       "      <td>1</td>\n",
       "      <td>Hmme na pagal ho chuki har teacher ki mintaien...</td>\n",
       "    </tr>\n",
       "    <tr>\n",
       "      <th>1</th>\n",
       "      <td>1</td>\n",
       "      <td>Or phir teachers k krny waly kam b me he kron</td>\n",
       "    </tr>\n",
       "    <tr>\n",
       "      <th>2</th>\n",
       "      <td>1</td>\n",
       "      <td>Allah kry maan jay ab bus</td>\n",
       "    </tr>\n",
       "    <tr>\n",
       "      <th>3</th>\n",
       "      <td>1</td>\n",
       "      <td>Abhe aca ki assignments rehti hain</td>\n",
       "    </tr>\n",
       "    <tr>\n",
       "      <th>5</th>\n",
       "      <td>1</td>\n",
       "      <td>Ab Eid tu guzarny dein sakoon se</td>\n",
       "    </tr>\n",
       "    <tr>\n",
       "      <th>...</th>\n",
       "      <td>...</td>\n",
       "      <td>...</td>\n",
       "    </tr>\n",
       "    <tr>\n",
       "      <th>14259</th>\n",
       "      <td>1</td>\n",
       "      <td>Mery comments or warning ko b importance nai di</td>\n",
       "    </tr>\n",
       "    <tr>\n",
       "      <th>14260</th>\n",
       "      <td>0</td>\n",
       "      <td>G behn jsa ap kahyn</td>\n",
       "    </tr>\n",
       "    <tr>\n",
       "      <th>14268</th>\n",
       "      <td>0</td>\n",
       "      <td>Happy Independence Day</td>\n",
       "    </tr>\n",
       "    <tr>\n",
       "      <th>14276</th>\n",
       "      <td>0</td>\n",
       "      <td>Or shukr h  mny uni jany sy phly msg dakh lia</td>\n",
       "    </tr>\n",
       "    <tr>\n",
       "      <th>14279</th>\n",
       "      <td>0</td>\n",
       "      <td>Mainy isi liya rat he msg kr diya tha k subha ...</td>\n",
       "    </tr>\n",
       "  </tbody>\n",
       "</table>\n",
       "<p>1917 rows × 2 columns</p>\n",
       "</div>"
      ],
      "text/plain": [
       "       Mode                                            Message\n",
       "0         1  Hmme na pagal ho chuki har teacher ki mintaien...\n",
       "1         1      Or phir teachers k krny waly kam b me he kron\n",
       "2         1                          Allah kry maan jay ab bus\n",
       "3         1                 Abhe aca ki assignments rehti hain\n",
       "5         1                   Ab Eid tu guzarny dein sakoon se\n",
       "...     ...                                                ...\n",
       "14259     1    Mery comments or warning ko b importance nai di\n",
       "14260     0                                G behn jsa ap kahyn\n",
       "14268     0                             Happy Independence Day\n",
       "14276     0      Or shukr h  mny uni jany sy phly msg dakh lia\n",
       "14279     0  Mainy isi liya rat he msg kr diya tha k subha ...\n",
       "\n",
       "[1917 rows x 2 columns]"
      ]
     },
     "execution_count": 12,
     "metadata": {},
     "output_type": "execute_result"
    }
   ],
   "source": [
    "df"
   ]
  },
  {
   "cell_type": "code",
   "execution_count": 13,
   "metadata": {},
   "outputs": [
    {
     "name": "stderr",
     "output_type": "stream",
     "text": [
      "c:\\users\\hassan raza\\appdata\\local\\programs\\python\\python37\\lib\\site-packages\\gensim\\similarities\\__init__.py:15: UserWarning: The gensim.similarities.levenshtein submodule is disabled, because the optional Levenshtein package <https://pypi.org/project/python-Levenshtein/> is unavailable. Install Levenhstein (e.g. `pip install python-Levenshtein`) to suppress this warning.\n",
      "  warnings.warn(msg)\n"
     ]
    }
   ],
   "source": [
    "from gensim import corpora,models,similarities\n",
    "from collections import defaultdict\n",
    "from sklearn.model_selection import train_test_split"
   ]
  },
  {
   "cell_type": "code",
   "execution_count": 14,
   "metadata": {},
   "outputs": [],
   "source": [
    "X = np.asarray(df['Message'])\n",
    "y = np.asarray(df['Mode'])"
   ]
  },
  {
   "cell_type": "code",
   "execution_count": 83,
   "metadata": {},
   "outputs": [
    {
     "data": {
      "text/plain": [
       "(1917,)"
      ]
     },
     "execution_count": 83,
     "metadata": {},
     "output_type": "execute_result"
    }
   ],
   "source": [
    "X.shape"
   ]
  },
  {
   "cell_type": "code",
   "execution_count": 15,
   "metadata": {},
   "outputs": [
    {
     "data": {
      "text/plain": [
       "numpy.int64"
      ]
     },
     "execution_count": 15,
     "metadata": {},
     "output_type": "execute_result"
    }
   ],
   "source": [
    "type(y[0])"
   ]
  },
  {
   "cell_type": "code",
   "execution_count": 16,
   "metadata": {},
   "outputs": [],
   "source": [
    "Xtrain,Xtest,ytrain,ytest = train_test_split(X,y,test_size=0.3,shuffle=True)"
   ]
  },
  {
   "cell_type": "code",
   "execution_count": null,
   "metadata": {},
   "outputs": [],
   "source": []
  },
  {
   "cell_type": "code",
   "execution_count": 17,
   "metadata": {},
   "outputs": [],
   "source": [
    "#stoplist = set('for a of the and to in'.split(' '))\n",
    "stoplist = set('a of the or to me e'.split(' '))\n",
    "\n",
    "\n",
    "texts = [[word for word in re.split('\\W+',doc.lower()) if word not in stoplist]\n",
    "         for doc in Xtrain]\n",
    "\n",
    "\n",
    "# for doc in Xtrain:\n",
    "#     word = doc\n",
    "#     for word in re.split('\\W+', doc.lower()):\n",
    "#         if word in not\n",
    "\n",
    "#print(texts)"
   ]
  },
  {
   "cell_type": "code",
   "execution_count": 18,
   "metadata": {},
   "outputs": [
    {
     "name": "stdout",
     "output_type": "stream",
     "text": [
      "1341\n"
     ]
    }
   ],
   "source": [
    "print(len(texts))"
   ]
  },
  {
   "cell_type": "code",
   "execution_count": 19,
   "metadata": {},
   "outputs": [],
   "source": [
    "frequency = defaultdict(int)\n",
    "for text in texts:\n",
    "    for token in text:\n",
    "        frequency[token] += 1\n",
    "\n",
    "cutOffValue = 2\n",
    "processed_corpus = [[token for token in text if frequency[token] > cutOffValue] \n",
    "                    for text in texts]"
   ]
  },
  {
   "cell_type": "code",
   "execution_count": 20,
   "metadata": {},
   "outputs": [
    {
     "name": "stdout",
     "output_type": "stream",
     "text": [
      "Dictionary(602 unique tokens: ['acha', 'bura', 'din', 'haha', 'han']...)\n"
     ]
    }
   ],
   "source": [
    "dictionary = corpora.Dictionary(processed_corpus)\n",
    "print(dictionary)"
   ]
  },
  {
   "cell_type": "code",
   "execution_count": 21,
   "metadata": {},
   "outputs": [],
   "source": [
    "bow_corpus = [dictionary.doc2bow(text) for text in processed_corpus]"
   ]
  },
  {
   "cell_type": "code",
   "execution_count": 22,
   "metadata": {},
   "outputs": [],
   "source": [
    "model = models.TfidfModel(bow_corpus)\n",
    "#model = models.LsiModel(bow_corpus)\n",
    "#model = models.LdaModel(bow_corpus)"
   ]
  },
  {
   "cell_type": "code",
   "execution_count": 23,
   "metadata": {},
   "outputs": [],
   "source": [
    "index = similarities.SparseMatrixSimilarity(model[bow_corpus],num_features=len(dictionary))"
   ]
  },
  {
   "cell_type": "code",
   "execution_count": 26,
   "metadata": {},
   "outputs": [],
   "source": [
    "y_names = ['Positive', 'Negative']"
   ]
  },
  {
   "cell_type": "code",
   "execution_count": 31,
   "metadata": {},
   "outputs": [
    {
     "name": "stdout",
     "output_type": "stream",
     "text": [
      "Predicted: Positive\n",
      "Ground Truth: Positive\n"
     ]
    }
   ],
   "source": [
    "t = np.random.randint(len(Xtest))\n",
    "\n",
    "#CR = \"Acha kia\"\n",
    "#t = np.random.randint(len(CR))\n",
    "\n",
    "query_document = re.split('\\W+',Xtest[t].lower())\n",
    "query_bow = dictionary.doc2bow(query_document)\n",
    "sims = index[model[query_bow]]\n",
    "docNumber = sorted(enumerate(sims), key=lambda x: x[1], reverse=True)[0][0]\n",
    "\n",
    "#print('Predicted: ', ytrain[docNumber])\n",
    "#print('Ground Truth:',ytest[t])\n",
    "\n",
    "print('Predicted:',y_names[ytrain[docNumber]])\n",
    "print('Ground Truth:',y_names[ytest[t]])"
   ]
  },
  {
   "cell_type": "code",
   "execution_count": null,
   "metadata": {},
   "outputs": [],
   "source": []
  },
  {
   "cell_type": "code",
   "execution_count": 32,
   "metadata": {},
   "outputs": [],
   "source": [
    "vocab = {}"
   ]
  },
  {
   "cell_type": "code",
   "execution_count": 33,
   "metadata": {},
   "outputs": [],
   "source": [
    "def initializeVocabulary():\n",
    "    unkToken = '<UNK>'\n",
    "    #create another vocab inside vocab -> text to index\n",
    "    vocab['t_2_i'] = {}\n",
    "    #create another vocab inside vocab -> index to text\n",
    "    vocab['i_2_t'] = {}\n",
    "    # Add token in key 'unkToken' = '<UNK>'\n",
    "    vocab['unkToken'] = unkToken\n",
    "    # call function 'addToken()' that return token index\n",
    "    idx = addToken(unkToken)\n",
    "    vocab['unkTokenIdx'] = idx"
   ]
  },
  {
   "cell_type": "code",
   "execution_count": 34,
   "metadata": {},
   "outputs": [],
   "source": [
    "def addToken(token):\n",
    "    # if token already in vocab then just return index\n",
    "    if token in vocab['t_2_i']:\n",
    "        idx = vocab['t_2_i'][token]\n",
    "    else:\n",
    "        # create index for new tokken --> simply new index == len(vocab) /*last number*/\n",
    "        idx = len(vocab['t_2_i'])\n",
    "        vocab['t_2_i'][token] = idx\n",
    "        vocab['i_2_t'][idx] = token\n",
    "    return idx"
   ]
  },
  {
   "cell_type": "code",
   "execution_count": 35,
   "metadata": {},
   "outputs": [],
   "source": [
    "def addManyTokens(tokens):\n",
    "    idxes = [addToken(token) for token in tokens]\n",
    "    return idxes"
   ]
  },
  {
   "cell_type": "code",
   "execution_count": 36,
   "metadata": {},
   "outputs": [],
   "source": [
    "def lookUpToken(token):\n",
    "    return vocab['t_2_i'].get(token,vocab['unkTokenIdx'])"
   ]
  },
  {
   "cell_type": "code",
   "execution_count": 37,
   "metadata": {},
   "outputs": [],
   "source": [
    "def lookUpIndex(idx):\n",
    "    if idx not in vocab['i_2_t']:\n",
    "        raise KeyError(\"the index (%d) is not there\" % idx)\n",
    "    return vocab['i_2_t'][idx]"
   ]
  },
  {
   "cell_type": "code",
   "execution_count": 38,
   "metadata": {},
   "outputs": [],
   "source": [
    "def vocabularyFromDataFrame(df,cutoff=2):\n",
    "    initializeVocabulary()\n",
    "    wordCounts = Counter()\n",
    "    for r in df.review:\n",
    "        for word in re.split('\\W+',r):\n",
    "            wordCounts[word] += 1\n",
    "    for word,count in wordCounts.items():\n",
    "        if count > cutoff:\n",
    "            addToken(word)"
   ]
  },
  {
   "cell_type": "code",
   "execution_count": 39,
   "metadata": {},
   "outputs": [],
   "source": [
    "def vocabularyFromCorpus(Corpus,cutoff=2):\n",
    "    initializeVocabulary()\n",
    "    wordCounts = Counter()\n",
    "    for doc in Corpus:\n",
    "        for word in re.split('\\W+',doc):\n",
    "            wordCounts[word] += 1\n",
    "    for word,count in wordCounts.items():\n",
    "        if count > cutoff:\n",
    "            addToken(word)"
   ]
  },
  {
   "cell_type": "code",
   "execution_count": 40,
   "metadata": {},
   "outputs": [],
   "source": [
    "def oneHotVector(token,N):\n",
    "    oneHot = np.zeros((N,1))\n",
    "    oneHot[lookUpToken(token)] = 1\n",
    "    return oneHot"
   ]
  },
  {
   "cell_type": "code",
   "execution_count": 41,
   "metadata": {},
   "outputs": [],
   "source": [
    "def computeFeatures(doc,N):\n",
    "    isFirst = True\n",
    "    for token in doc:\n",
    "        oneHot = oneHotVector(token,N)\n",
    "        if isFirst:\n",
    "            xF = oneHot\n",
    "            isFirst = False\n",
    "        else:\n",
    "            xF = np.hstack((xF,oneHot))\n",
    "    return np.mean(xF,axis=1)[:,np.newaxis]"
   ]
  },
  {
   "cell_type": "code",
   "execution_count": 42,
   "metadata": {},
   "outputs": [],
   "source": [
    "def computeFeatures_fast(doc,N):\n",
    "    fv = np.zeros(N)\n",
    "    numTokens = 0\n",
    "    for token in doc:\n",
    "        fv[lookUpToken(token)] += 1\n",
    "        numTokens += 1\n",
    "    return fv/numTokens"
   ]
  },
  {
   "cell_type": "code",
   "execution_count": 43,
   "metadata": {},
   "outputs": [],
   "source": [
    "def corpusToFeatureMatrix(Corpus,N):\n",
    "    isFirst = True\n",
    "    for doc in Corpus:\n",
    "        fv = computeFeatures(doc,N)\n",
    "        if isFirst:\n",
    "            fM = fv\n",
    "            isFirst = False\n",
    "        else:\n",
    "            fM = np.hstack((fM,fv))\n",
    "    return fM.T"
   ]
  },
  {
   "cell_type": "code",
   "execution_count": 44,
   "metadata": {},
   "outputs": [],
   "source": [
    "def corpusToFeatureMatrix_fast(Corpus,N):\n",
    "    fM = np.zeros((N,len(Corpus)))\n",
    "    i = 0\n",
    "    for doc in Corpus:\n",
    "        fM[:,i] = computeFeatures_fast(doc,N)\n",
    "        i+=1\n",
    "    return fM.T"
   ]
  },
  {
   "cell_type": "code",
   "execution_count": 45,
   "metadata": {},
   "outputs": [],
   "source": [
    "#X = np.asarray(df['Message'])\n",
    "#y = np.asarray(df['Mode'])"
   ]
  },
  {
   "cell_type": "code",
   "execution_count": null,
   "metadata": {},
   "outputs": [],
   "source": []
  },
  {
   "cell_type": "code",
   "execution_count": null,
   "metadata": {},
   "outputs": [],
   "source": []
  },
  {
   "cell_type": "code",
   "execution_count": 46,
   "metadata": {},
   "outputs": [
    {
     "data": {
      "text/plain": [
       "(array(['Hmme na pagal ho chuki har teacher ki mintaien kr kr ky',\n",
       "        'Or phir teachers k krny waly kam b me he kron',\n",
       "        'Allah kry maan jay ab bus', 'Abhe aca ki assignments rehti hain',\n",
       "        'Ab Eid tu guzarny dein sakoon se'], dtype=object),\n",
       " array([1, 1, 1, 1, 1], dtype=int64))"
      ]
     },
     "execution_count": 46,
     "metadata": {},
     "output_type": "execute_result"
    }
   ],
   "source": [
    "X[:5], y[:5]"
   ]
  },
  {
   "cell_type": "code",
   "execution_count": 47,
   "metadata": {},
   "outputs": [],
   "source": [
    "from sklearn.model_selection import train_test_split"
   ]
  },
  {
   "cell_type": "code",
   "execution_count": 48,
   "metadata": {},
   "outputs": [],
   "source": [
    "Xtrain,Xtest,ytrain,ytest = train_test_split(X,y,test_size=0.3,shuffle=True)"
   ]
  },
  {
   "cell_type": "code",
   "execution_count": 49,
   "metadata": {},
   "outputs": [],
   "source": [
    "vocabularyFromCorpus(Xtrain)"
   ]
  },
  {
   "cell_type": "code",
   "execution_count": 50,
   "metadata": {},
   "outputs": [
    {
     "data": {
      "text/plain": [
       "634"
      ]
     },
     "execution_count": 50,
     "metadata": {},
     "output_type": "execute_result"
    }
   ],
   "source": [
    "len(vocab['t_2_i'])"
   ]
  },
  {
   "cell_type": "code",
   "execution_count": 51,
   "metadata": {},
   "outputs": [],
   "source": [
    "N = len(vocab['t_2_i'])\n",
    "Xtrain_fM = corpusToFeatureMatrix_fast(Xtrain,N)\n",
    "Xtest_fM = corpusToFeatureMatrix_fast(Xtest,N)"
   ]
  },
  {
   "cell_type": "code",
   "execution_count": 63,
   "metadata": {},
   "outputs": [],
   "source": [
    "#Xtrain_fM[0]"
   ]
  },
  {
   "cell_type": "code",
   "execution_count": 64,
   "metadata": {},
   "outputs": [
    {
     "data": {
      "text/plain": [
       "(1341, 634)"
      ]
     },
     "execution_count": 64,
     "metadata": {},
     "output_type": "execute_result"
    }
   ],
   "source": [
    "Xtrain_fM.shape"
   ]
  },
  {
   "cell_type": "code",
   "execution_count": 65,
   "metadata": {},
   "outputs": [
    {
     "data": {
      "text/plain": [
       "(576, 634)"
      ]
     },
     "execution_count": 65,
     "metadata": {},
     "output_type": "execute_result"
    }
   ],
   "source": [
    "Xtest_fM.shape"
   ]
  },
  {
   "cell_type": "code",
   "execution_count": 68,
   "metadata": {},
   "outputs": [],
   "source": [
    "#from sklearn.linear_model import LogisticRegression as clf\n",
    "from sklearn.naive_bayes import GaussianNB as clf\n",
    "#from sklearn.ensemble import RandomForestClassifier as clf\n",
    "#from sklearn.svm import SVC as clf\n",
    "from sklearn.metrics import confusion_matrix\n",
    "import seaborn as sns\n",
    "from matplotlib import pyplot as plt\n",
    "sns.set()"
   ]
  },
  {
   "cell_type": "code",
   "execution_count": null,
   "metadata": {},
   "outputs": [],
   "source": []
  },
  {
   "cell_type": "code",
   "execution_count": null,
   "metadata": {},
   "outputs": [],
   "source": []
  },
  {
   "cell_type": "code",
   "execution_count": 69,
   "metadata": {},
   "outputs": [],
   "source": [
    "M = clf().fit(Xtrain_fM,ytrain)"
   ]
  },
  {
   "cell_type": "code",
   "execution_count": 70,
   "metadata": {},
   "outputs": [],
   "source": [
    "y_pred = M.predict(Xtest_fM)"
   ]
  },
  {
   "cell_type": "code",
   "execution_count": 71,
   "metadata": {},
   "outputs": [
    {
     "name": "stdout",
     "output_type": "stream",
     "text": [
      "> : 0.6375838926174496\n",
      "> : 0.6197916666666666\n"
     ]
    }
   ],
   "source": [
    "#y_pred\n",
    "Train_Score = M.score(Xtrain_fM, ytrain)\n",
    "Test_Score  = M.score(Xtest_fM, ytest)\n",
    "print(\"> :\",Train_Score)\n",
    "print(\"> :\",Test_Score)"
   ]
  },
  {
   "cell_type": "code",
   "execution_count": 72,
   "metadata": {},
   "outputs": [
    {
     "data": {
      "text/plain": [
       "Text(89.18, 0.5, 'Predicted Label')"
      ]
     },
     "execution_count": 72,
     "metadata": {},
     "output_type": "execute_result"
    },
    {
     "data": {
      "image/png": "[encoded data removed]",
      "text/plain": [
       "<Figure size 432x288 with 1 Axes>"
      ]
     },
     "metadata": {},
     "output_type": "display_data"
    }
   ],
   "source": [
    "mat = confusion_matrix(ytest,y_pred)\n",
    "sns.heatmap(mat.T,square=True,annot=True,fmt='d',cbar=False,\n",
    "           xticklabels=np.unique(y),yticklabels=np.unique(y))\n",
    "plt.xlabel(\"True Label\")\n",
    "plt.ylabel(\"Predicted Label\")"
   ]
  },
  {
   "cell_type": "code",
   "execution_count": 73,
   "metadata": {},
   "outputs": [
    {
     "data": {
      "text/plain": [
       "0.6375838926174496"
      ]
     },
     "execution_count": 73,
     "metadata": {},
     "output_type": "execute_result"
    }
   ],
   "source": [
    "M.score(Xtrain_fM, ytrain)"
   ]
  },
  {
   "cell_type": "code",
   "execution_count": 74,
   "metadata": {},
   "outputs": [],
   "source": [
    "#clf.score(Xtest, ytest)"
   ]
  },
  {
   "cell_type": "code",
   "execution_count": 75,
   "metadata": {},
   "outputs": [
    {
     "name": "stdout",
     "output_type": "stream",
     "text": [
      "              precision    recall  f1-score   support\n",
      "\n",
      "           0       0.71      0.53      0.61       318\n",
      "           1       0.56      0.73      0.63       258\n",
      "\n",
      "    accuracy                           0.62       576\n",
      "   macro avg       0.63      0.63      0.62       576\n",
      "weighted avg       0.64      0.62      0.62       576\n",
      "\n"
     ]
    }
   ],
   "source": [
    "from sklearn.metrics import classification_report\n",
    "print(classification_report(ytest, y_pred))"
   ]
  },
  {
   "cell_type": "code",
   "execution_count": 76,
   "metadata": {},
   "outputs": [
    {
     "name": "stderr",
     "output_type": "stream",
     "text": [
      "Using TensorFlow backend.\n",
      "c:\\users\\hassan raza\\appdata\\local\\programs\\python\\python37\\lib\\site-packages\\tensorflow\\python\\framework\\dtypes.py:516: FutureWarning: Passing (type, 1) or '1type' as a synonym of type is deprecated; in a future version of numpy, it will be understood as (type, (1,)) / '(1,)type'.\n",
      "  _np_qint8 = np.dtype([(\"qint8\", np.int8, 1)])\n",
      "c:\\users\\hassan raza\\appdata\\local\\programs\\python\\python37\\lib\\site-packages\\tensorflow\\python\\framework\\dtypes.py:517: FutureWarning: Passing (type, 1) or '1type' as a synonym of type is deprecated; in a future version of numpy, it will be understood as (type, (1,)) / '(1,)type'.\n",
      "  _np_quint8 = np.dtype([(\"quint8\", np.uint8, 1)])\n",
      "c:\\users\\hassan raza\\appdata\\local\\programs\\python\\python37\\lib\\site-packages\\tensorflow\\python\\framework\\dtypes.py:518: FutureWarning: Passing (type, 1) or '1type' as a synonym of type is deprecated; in a future version of numpy, it will be understood as (type, (1,)) / '(1,)type'.\n",
      "  _np_qint16 = np.dtype([(\"qint16\", np.int16, 1)])\n",
      "c:\\users\\hassan raza\\appdata\\local\\programs\\python\\python37\\lib\\site-packages\\tensorflow\\python\\framework\\dtypes.py:519: FutureWarning: Passing (type, 1) or '1type' as a synonym of type is deprecated; in a future version of numpy, it will be understood as (type, (1,)) / '(1,)type'.\n",
      "  _np_quint16 = np.dtype([(\"quint16\", np.uint16, 1)])\n",
      "c:\\users\\hassan raza\\appdata\\local\\programs\\python\\python37\\lib\\site-packages\\tensorflow\\python\\framework\\dtypes.py:520: FutureWarning: Passing (type, 1) or '1type' as a synonym of type is deprecated; in a future version of numpy, it will be understood as (type, (1,)) / '(1,)type'.\n",
      "  _np_qint32 = np.dtype([(\"qint32\", np.int32, 1)])\n",
      "c:\\users\\hassan raza\\appdata\\local\\programs\\python\\python37\\lib\\site-packages\\tensorflow\\python\\framework\\dtypes.py:525: FutureWarning: Passing (type, 1) or '1type' as a synonym of type is deprecated; in a future version of numpy, it will be understood as (type, (1,)) / '(1,)type'.\n",
      "  np_resource = np.dtype([(\"resource\", np.ubyte, 1)])\n",
      "c:\\users\\hassan raza\\appdata\\local\\programs\\python\\python37\\lib\\site-packages\\tensorboard\\compat\\tensorflow_stub\\dtypes.py:541: FutureWarning: Passing (type, 1) or '1type' as a synonym of type is deprecated; in a future version of numpy, it will be understood as (type, (1,)) / '(1,)type'.\n",
      "  _np_qint8 = np.dtype([(\"qint8\", np.int8, 1)])\n",
      "c:\\users\\hassan raza\\appdata\\local\\programs\\python\\python37\\lib\\site-packages\\tensorboard\\compat\\tensorflow_stub\\dtypes.py:542: FutureWarning: Passing (type, 1) or '1type' as a synonym of type is deprecated; in a future version of numpy, it will be understood as (type, (1,)) / '(1,)type'.\n",
      "  _np_quint8 = np.dtype([(\"quint8\", np.uint8, 1)])\n",
      "c:\\users\\hassan raza\\appdata\\local\\programs\\python\\python37\\lib\\site-packages\\tensorboard\\compat\\tensorflow_stub\\dtypes.py:543: FutureWarning: Passing (type, 1) or '1type' as a synonym of type is deprecated; in a future version of numpy, it will be understood as (type, (1,)) / '(1,)type'.\n",
      "  _np_qint16 = np.dtype([(\"qint16\", np.int16, 1)])\n",
      "c:\\users\\hassan raza\\appdata\\local\\programs\\python\\python37\\lib\\site-packages\\tensorboard\\compat\\tensorflow_stub\\dtypes.py:544: FutureWarning: Passing (type, 1) or '1type' as a synonym of type is deprecated; in a future version of numpy, it will be understood as (type, (1,)) / '(1,)type'.\n",
      "  _np_quint16 = np.dtype([(\"quint16\", np.uint16, 1)])\n",
      "c:\\users\\hassan raza\\appdata\\local\\programs\\python\\python37\\lib\\site-packages\\tensorboard\\compat\\tensorflow_stub\\dtypes.py:545: FutureWarning: Passing (type, 1) or '1type' as a synonym of type is deprecated; in a future version of numpy, it will be understood as (type, (1,)) / '(1,)type'.\n",
      "  _np_qint32 = np.dtype([(\"qint32\", np.int32, 1)])\n",
      "c:\\users\\hassan raza\\appdata\\local\\programs\\python\\python37\\lib\\site-packages\\tensorboard\\compat\\tensorflow_stub\\dtypes.py:550: FutureWarning: Passing (type, 1) or '1type' as a synonym of type is deprecated; in a future version of numpy, it will be understood as (type, (1,)) / '(1,)type'.\n",
      "  np_resource = np.dtype([(\"resource\", np.ubyte, 1)])\n"
     ]
    }
   ],
   "source": [
    "from keras.models import Sequential\n",
    "from keras.layers import Dense\n",
    "from keras.layers import LSTM\n",
    "from sklearn.model_selection import train_test_split\n",
    "import numpy as np\n",
    "import matplotlib.pyplot as plt"
   ]
  },
  {
   "cell_type": "code",
   "execution_count": 88,
   "metadata": {},
   "outputs": [
    {
     "data": {
      "text/plain": [
       "(1917, 634, 1)"
      ]
     },
     "execution_count": 88,
     "metadata": {},
     "output_type": "execute_result"
    }
   ],
   "source": [
    "#data = np.reshape(X, (X.shape[0], X.shape[1], 1))\n",
    "N = len(vocab['t_2_i'])\n",
    "new_X = corpusToFeatureMatrix_fast(X,N)\n",
    "data = np.reshape(new_X, (new_X.shape[0], new_X.shape[1], 1))\n",
    "data.shape"
   ]
  },
  {
   "cell_type": "code",
   "execution_count": 89,
   "metadata": {},
   "outputs": [
    {
     "data": {
      "text/plain": [
       "(1917,)"
      ]
     },
     "execution_count": 89,
     "metadata": {},
     "output_type": "execute_result"
    }
   ],
   "source": [
    "y.shape"
   ]
  },
  {
   "cell_type": "code",
   "execution_count": 91,
   "metadata": {},
   "outputs": [],
   "source": [
    "x_train,x_test,y_train,y_test = train_test_split(data,y,test_size=0.2,random_state=3)"
   ]
  },
  {
   "cell_type": "code",
   "execution_count": 102,
   "metadata": {},
   "outputs": [],
   "source": [
    "model=Sequential()"
   ]
  },
  {
   "cell_type": "code",
   "execution_count": 103,
   "metadata": {},
   "outputs": [],
   "source": [
    "model.add(LSTM((1), batch_input_shape=(None, None, 1),return_sequences=True))\n",
    "model.add(LSTM((1),return_sequences=False))"
   ]
  },
  {
   "cell_type": "code",
   "execution_count": 104,
   "metadata": {},
   "outputs": [],
   "source": [
    "model.compile(loss=\"mean_absolute_error\", optimizer=\"adam\",metrics=['accuracy'])"
   ]
  },
  {
   "cell_type": "code",
   "execution_count": 105,
   "metadata": {},
   "outputs": [
    {
     "name": "stdout",
     "output_type": "stream",
     "text": [
      "_________________________________________________________________\n",
      "Layer (type)                 Output Shape              Param #   \n",
      "=================================================================\n",
      "lstm_5 (LSTM)                (None, None, 1)           12        \n",
      "_________________________________________________________________\n",
      "lstm_6 (LSTM)                (None, 1)                 12        \n",
      "=================================================================\n",
      "Total params: 24\n",
      "Trainable params: 24\n",
      "Non-trainable params: 0\n",
      "_________________________________________________________________\n"
     ]
    }
   ],
   "source": [
    "model.summary()"
   ]
  },
  {
   "cell_type": "code",
   "execution_count": 106,
   "metadata": {},
   "outputs": [
    {
     "name": "stdout",
     "output_type": "stream",
     "text": [
      "Train on 1533 samples, validate on 384 samples\n",
      "Epoch 1/50\n",
      "1533/1533 [==============================] - 36s 23ms/step - loss: 0.4202 - acc: 0.5806 - val_loss: 0.3919 - val_acc: 0.6094\n",
      "Epoch 2/50\n",
      "1533/1533 [==============================] - 42s 27ms/step - loss: 0.4199 - acc: 0.5806 - val_loss: 0.3911 - val_acc: 0.6094\n",
      "Epoch 3/50\n",
      "1533/1533 [==============================] - 39s 26ms/step - loss: 0.4196 - acc: 0.5806 - val_loss: 0.3907 - val_acc: 0.6094\n",
      "Epoch 4/50\n",
      "1533/1533 [==============================] - 34s 22ms/step - loss: 0.4195 - acc: 0.5806 - val_loss: 0.3907 - val_acc: 0.6094\n",
      "Epoch 5/50\n",
      "1533/1533 [==============================] - 34s 22ms/step - loss: 0.4195 - acc: 0.5806 - val_loss: 0.3909 - val_acc: 0.6094\n",
      "Epoch 6/50\n",
      "1533/1533 [==============================] - 36s 23ms/step - loss: 0.4197 - acc: 0.5806 - val_loss: 0.3908 - val_acc: 0.6094\n",
      "Epoch 7/50\n",
      "1533/1533 [==============================] - 33s 22ms/step - loss: 0.4195 - acc: 0.5806 - val_loss: 0.3908 - val_acc: 0.6094\n",
      "Epoch 8/50\n",
      "1533/1533 [==============================] - 35s 23ms/step - loss: 0.4196 - acc: 0.5806 - val_loss: 0.3910 - val_acc: 0.6094\n",
      "Epoch 9/50\n",
      "1533/1533 [==============================] - 35s 23ms/step - loss: 0.4197 - acc: 0.5806 - val_loss: 0.3910 - val_acc: 0.6094\n",
      "Epoch 10/50\n",
      "1533/1533 [==============================] - 37s 24ms/step - loss: 0.4197 - acc: 0.5806 - val_loss: 0.3911 - val_acc: 0.6094\n",
      "Epoch 11/50\n",
      "1533/1533 [==============================] - 32s 21ms/step - loss: 0.4196 - acc: 0.5806 - val_loss: 0.3907 - val_acc: 0.6094\n",
      "Epoch 12/50\n",
      "1533/1533 [==============================] - 32s 21ms/step - loss: 0.4196 - acc: 0.5806 - val_loss: 0.3908 - val_acc: 0.6094\n",
      "Epoch 13/50\n",
      "1533/1533 [==============================] - 31s 20ms/step - loss: 0.4195 - acc: 0.5806 - val_loss: 0.3907 - val_acc: 0.6094\n",
      "Epoch 14/50\n",
      "1533/1533 [==============================] - 34s 22ms/step - loss: 0.4195 - acc: 0.5806 - val_loss: 0.3908 - val_acc: 0.6094\n",
      "Epoch 15/50\n",
      "1533/1533 [==============================] - 42s 27ms/step - loss: 0.4195 - acc: 0.5806 - val_loss: 0.3909 - val_acc: 0.6094\n",
      "Epoch 16/50\n",
      "1533/1533 [==============================] - 34s 22ms/step - loss: 0.4195 - acc: 0.5806 - val_loss: 0.3907 - val_acc: 0.6094\n",
      "Epoch 17/50\n",
      "1533/1533 [==============================] - 35s 23ms/step - loss: 0.4196 - acc: 0.5806 - val_loss: 0.3910 - val_acc: 0.6094\n",
      "Epoch 18/50\n",
      "1533/1533 [==============================] - 40s 26ms/step - loss: 0.4196 - acc: 0.5806 - val_loss: 0.3908 - val_acc: 0.6094\n",
      "Epoch 19/50\n",
      "1533/1533 [==============================] - 35s 23ms/step - loss: 0.4196 - acc: 0.5806 - val_loss: 0.3907 - val_acc: 0.6094\n",
      "Epoch 20/50\n",
      "1533/1533 [==============================] - 37s 24ms/step - loss: 0.4195 - acc: 0.5806 - val_loss: 0.3907 - val_acc: 0.6094\n",
      "Epoch 21/50\n",
      "1533/1533 [==============================] - 34s 22ms/step - loss: 0.4195 - acc: 0.5806 - val_loss: 0.3907 - val_acc: 0.6094\n",
      "Epoch 22/50\n",
      "1533/1533 [==============================] - 32s 21ms/step - loss: 0.4195 - acc: 0.5806 - val_loss: 0.3908 - val_acc: 0.6094\n",
      "Epoch 23/50\n",
      "1533/1533 [==============================] - 30s 20ms/step - loss: 0.4195 - acc: 0.5806 - val_loss: 0.3910 - val_acc: 0.6094\n",
      "Epoch 24/50\n",
      "1533/1533 [==============================] - 30s 20ms/step - loss: 0.4195 - acc: 0.5806 - val_loss: 0.3907 - val_acc: 0.6094\n",
      "Epoch 25/50\n",
      "1533/1533 [==============================] - 34s 22ms/step - loss: 0.4195 - acc: 0.5806 - val_loss: 0.3907 - val_acc: 0.6094\n",
      "Epoch 26/50\n",
      "1533/1533 [==============================] - 33s 22ms/step - loss: 0.4195 - acc: 0.5806 - val_loss: 0.3907 - val_acc: 0.6094\n",
      "Epoch 27/50\n",
      "1533/1533 [==============================] - 40s 26ms/step - loss: 0.4195 - acc: 0.5806 - val_loss: 0.3906 - val_acc: 0.6094\n",
      "Epoch 28/50\n",
      "1533/1533 [==============================] - 40s 26ms/step - loss: 0.4195 - acc: 0.5806 - val_loss: 0.3906 - val_acc: 0.6094\n",
      "Epoch 29/50\n",
      "1533/1533 [==============================] - 36s 24ms/step - loss: 0.4195 - acc: 0.5806 - val_loss: 0.3907 - val_acc: 0.6094\n",
      "Epoch 30/50\n",
      "1533/1533 [==============================] - 39s 25ms/step - loss: 0.4195 - acc: 0.5806 - val_loss: 0.3907 - val_acc: 0.6094\n",
      "Epoch 31/50\n",
      "1533/1533 [==============================] - 36s 23ms/step - loss: 0.4195 - acc: 0.5806 - val_loss: 0.3906 - val_acc: 0.6094\n",
      "Epoch 32/50\n",
      "1533/1533 [==============================] - 34s 22ms/step - loss: 0.4195 - acc: 0.5806 - val_loss: 0.3906 - val_acc: 0.6094\n",
      "Epoch 33/50\n",
      "1533/1533 [==============================] - 34s 22ms/step - loss: 0.4195 - acc: 0.5806 - val_loss: 0.3906 - val_acc: 0.6094\n",
      "Epoch 34/50\n",
      "1533/1533 [==============================] - 34s 22ms/step - loss: 0.4195 - acc: 0.5806 - val_loss: 0.3907 - val_acc: 0.6094\n",
      "Epoch 35/50\n",
      "1533/1533 [==============================] - 34s 22ms/step - loss: 0.4195 - acc: 0.5806 - val_loss: 0.3906 - val_acc: 0.6094\n",
      "Epoch 36/50\n",
      "1533/1533 [==============================] - 35s 23ms/step - loss: 0.4195 - acc: 0.5806 - val_loss: 0.3907 - val_acc: 0.6094\n",
      "Epoch 37/50\n",
      "1533/1533 [==============================] - 32s 21ms/step - loss: 0.4195 - acc: 0.5806 - val_loss: 0.3908 - val_acc: 0.6094\n",
      "Epoch 38/50\n",
      "1533/1533 [==============================] - 44s 29ms/step - loss: 0.4195 - acc: 0.5806 - val_loss: 0.3907 - val_acc: 0.6094\n",
      "Epoch 39/50\n",
      "1533/1533 [==============================] - 50s 32ms/step - loss: 0.4195 - acc: 0.5806 - val_loss: 0.3907 - val_acc: 0.6094\n",
      "Epoch 40/50\n",
      "1533/1533 [==============================] - 46s 30ms/step - loss: 0.4195 - acc: 0.5806 - val_loss: 0.3906 - val_acc: 0.6094\n",
      "Epoch 41/50\n",
      "1533/1533 [==============================] - 36s 23ms/step - loss: 0.4195 - acc: 0.5806 - val_loss: 0.3907 - val_acc: 0.6094\n",
      "Epoch 42/50\n",
      "1533/1533 [==============================] - 33s 21ms/step - loss: 0.4195 - acc: 0.5806 - val_loss: 0.3907 - val_acc: 0.6094\n",
      "Epoch 43/50\n",
      "1533/1533 [==============================] - 33s 22ms/step - loss: 0.4195 - acc: 0.5806 - val_loss: 0.3907 - val_acc: 0.6094\n",
      "Epoch 44/50\n",
      "1533/1533 [==============================] - 38s 25ms/step - loss: 0.4195 - acc: 0.5806 - val_loss: 0.3908 - val_acc: 0.6094\n",
      "Epoch 45/50\n",
      "1533/1533 [==============================] - 38s 25ms/step - loss: 0.4195 - acc: 0.5806 - val_loss: 0.3907 - val_acc: 0.6094\n",
      "Epoch 46/50\n",
      "1533/1533 [==============================] - 36s 24ms/step - loss: 0.4195 - acc: 0.5806 - val_loss: 0.3907 - val_acc: 0.6094\n",
      "Epoch 47/50\n",
      "1533/1533 [==============================] - 36s 23ms/step - loss: 0.4195 - acc: 0.5806 - val_loss: 0.3906 - val_acc: 0.6094\n",
      "Epoch 48/50\n",
      "1533/1533 [==============================] - 61s 39ms/step - loss: 0.4195 - acc: 0.5806 - val_loss: 0.3906 - val_acc: 0.6094\n",
      "Epoch 49/50\n",
      "1533/1533 [==============================] - 36s 23ms/step - loss: 0.4195 - acc: 0.5806 - val_loss: 0.3907 - val_acc: 0.6094\n",
      "Epoch 50/50\n",
      "1533/1533 [==============================] - 37s 24ms/step - loss: 0.4195 - acc: 0.5806 - val_loss: 0.3907 - val_acc: 0.6094\n"
     ]
    }
   ],
   "source": [
    "history = model.fit(x_train,y_train,epochs=50,validation_data=(x_test,y_test))"
   ]
  },
  {
   "cell_type": "code",
   "execution_count": 107,
   "metadata": {},
   "outputs": [],
   "source": [
    "result = model.predict(x_test)"
   ]
  },
  {
   "cell_type": "code",
   "execution_count": 121,
   "metadata": {},
   "outputs": [
    {
     "data": {
      "text/plain": [
       "(384, 1)"
      ]
     },
     "execution_count": 121,
     "metadata": {},
     "output_type": "execute_result"
    }
   ],
   "source": [
    "true_label = np.reshape(y_test, (y_test.shape[0], 1)"
   ]
  },
  {
   "cell_type": "code",
   "execution_count": 122,
   "metadata": {},
   "outputs": [
    {
     "data": {
      "text/plain": [
       "((384, 1), (384, 1))"
      ]
     },
     "execution_count": 122,
     "metadata": {},
     "output_type": "execute_result"
    }
   ],
   "source": [
    "result.shape, true_label.shape"
   ]
  },
  {
   "cell_type": "code",
   "execution_count": 123,
   "metadata": {},
   "outputs": [
    {
     "ename": "ValueError",
     "evalue": "x and y must be the same size",
     "output_type": "error",
     "traceback": [
      "\u001b[0;31m---------------------------------------------------------------------------\u001b[0m",
      "\u001b[0;31mValueError\u001b[0m                                Traceback (most recent call last)",
      "\u001b[0;32m<ipython-input-123-e8d827efdb7f>\u001b[0m in \u001b[0;36m<module>\u001b[0;34m()\u001b[0m\n\u001b[0;32m----> 1\u001b[0;31m \u001b[0mplt\u001b[0m\u001b[0;34m.\u001b[0m\u001b[0mscatter\u001b[0m\u001b[0;34m(\u001b[0m\u001b[0mrange\u001b[0m\u001b[0;34m(\u001b[0m\u001b[0;36m20\u001b[0m\u001b[0;34m)\u001b[0m\u001b[0;34m,\u001b[0m\u001b[0mresult\u001b[0m\u001b[0;34m,\u001b[0m\u001b[0mc\u001b[0m\u001b[0;34m=\u001b[0m\u001b[0;34m'r'\u001b[0m\u001b[0;34m)\u001b[0m\u001b[0;34m\u001b[0m\u001b[0;34m\u001b[0m\u001b[0m\n\u001b[0m\u001b[1;32m      2\u001b[0m \u001b[0mplt\u001b[0m\u001b[0;34m.\u001b[0m\u001b[0mscatter\u001b[0m\u001b[0;34m(\u001b[0m\u001b[0mrange\u001b[0m\u001b[0;34m(\u001b[0m\u001b[0;36m20\u001b[0m\u001b[0;34m)\u001b[0m\u001b[0;34m,\u001b[0m\u001b[0mtrue_label\u001b[0m\u001b[0;34m,\u001b[0m\u001b[0mc\u001b[0m\u001b[0;34m=\u001b[0m\u001b[0;34m'g'\u001b[0m\u001b[0;34m)\u001b[0m\u001b[0;34m\u001b[0m\u001b[0;34m\u001b[0m\u001b[0m\n\u001b[1;32m      3\u001b[0m \u001b[0mplt\u001b[0m\u001b[0;34m.\u001b[0m\u001b[0mshow\u001b[0m\u001b[0;34m\u001b[0m\u001b[0;34m\u001b[0m\u001b[0m\n",
      "\u001b[0;32mc:\\users\\hassan raza\\appdata\\local\\programs\\python\\python37\\lib\\site-packages\\matplotlib\\pyplot.py\u001b[0m in \u001b[0;36mscatter\u001b[0;34m(x, y, s, c, marker, cmap, norm, vmin, vmax, alpha, linewidths, verts, edgecolors, plotnonfinite, data, **kwargs)\u001b[0m\n\u001b[1;32m   2839\u001b[0m         \u001b[0mverts\u001b[0m\u001b[0;34m=\u001b[0m\u001b[0mverts\u001b[0m\u001b[0;34m,\u001b[0m \u001b[0medgecolors\u001b[0m\u001b[0;34m=\u001b[0m\u001b[0medgecolors\u001b[0m\u001b[0;34m,\u001b[0m\u001b[0;34m\u001b[0m\u001b[0;34m\u001b[0m\u001b[0m\n\u001b[1;32m   2840\u001b[0m         plotnonfinite=plotnonfinite, **({\"data\": data} if data is not\n\u001b[0;32m-> 2841\u001b[0;31m         None else {}), **kwargs)\n\u001b[0m\u001b[1;32m   2842\u001b[0m     \u001b[0msci\u001b[0m\u001b[0;34m(\u001b[0m\u001b[0m__ret\u001b[0m\u001b[0;34m)\u001b[0m\u001b[0;34m\u001b[0m\u001b[0;34m\u001b[0m\u001b[0m\n\u001b[1;32m   2843\u001b[0m     \u001b[0;32mreturn\u001b[0m \u001b[0m__ret\u001b[0m\u001b[0;34m\u001b[0m\u001b[0;34m\u001b[0m\u001b[0m\n",
      "\u001b[0;32mc:\\users\\hassan raza\\appdata\\local\\programs\\python\\python37\\lib\\site-packages\\matplotlib\\__init__.py\u001b[0m in \u001b[0;36minner\u001b[0;34m(ax, data, *args, **kwargs)\u001b[0m\n\u001b[1;32m   1587\u001b[0m     \u001b[0;32mdef\u001b[0m \u001b[0minner\u001b[0m\u001b[0;34m(\u001b[0m\u001b[0max\u001b[0m\u001b[0;34m,\u001b[0m \u001b[0;34m*\u001b[0m\u001b[0margs\u001b[0m\u001b[0;34m,\u001b[0m \u001b[0mdata\u001b[0m\u001b[0;34m=\u001b[0m\u001b[0;32mNone\u001b[0m\u001b[0;34m,\u001b[0m \u001b[0;34m**\u001b[0m\u001b[0mkwargs\u001b[0m\u001b[0;34m)\u001b[0m\u001b[0;34m:\u001b[0m\u001b[0;34m\u001b[0m\u001b[0;34m\u001b[0m\u001b[0m\n\u001b[1;32m   1588\u001b[0m         \u001b[0;32mif\u001b[0m \u001b[0mdata\u001b[0m \u001b[0;32mis\u001b[0m \u001b[0;32mNone\u001b[0m\u001b[0;34m:\u001b[0m\u001b[0;34m\u001b[0m\u001b[0;34m\u001b[0m\u001b[0m\n\u001b[0;32m-> 1589\u001b[0;31m             \u001b[0;32mreturn\u001b[0m \u001b[0mfunc\u001b[0m\u001b[0;34m(\u001b[0m\u001b[0max\u001b[0m\u001b[0;34m,\u001b[0m \u001b[0;34m*\u001b[0m\u001b[0mmap\u001b[0m\u001b[0;34m(\u001b[0m\u001b[0msanitize_sequence\u001b[0m\u001b[0;34m,\u001b[0m \u001b[0margs\u001b[0m\u001b[0;34m)\u001b[0m\u001b[0;34m,\u001b[0m \u001b[0;34m**\u001b[0m\u001b[0mkwargs\u001b[0m\u001b[0;34m)\u001b[0m\u001b[0;34m\u001b[0m\u001b[0;34m\u001b[0m\u001b[0m\n\u001b[0m\u001b[1;32m   1590\u001b[0m \u001b[0;34m\u001b[0m\u001b[0m\n\u001b[1;32m   1591\u001b[0m         \u001b[0mbound\u001b[0m \u001b[0;34m=\u001b[0m \u001b[0mnew_sig\u001b[0m\u001b[0;34m.\u001b[0m\u001b[0mbind\u001b[0m\u001b[0;34m(\u001b[0m\u001b[0max\u001b[0m\u001b[0;34m,\u001b[0m \u001b[0;34m*\u001b[0m\u001b[0margs\u001b[0m\u001b[0;34m,\u001b[0m \u001b[0;34m**\u001b[0m\u001b[0mkwargs\u001b[0m\u001b[0;34m)\u001b[0m\u001b[0;34m\u001b[0m\u001b[0;34m\u001b[0m\u001b[0m\n",
      "\u001b[0;32mc:\\users\\hassan raza\\appdata\\local\\programs\\python\\python37\\lib\\site-packages\\matplotlib\\axes\\_axes.py\u001b[0m in \u001b[0;36mscatter\u001b[0;34m(self, x, y, s, c, marker, cmap, norm, vmin, vmax, alpha, linewidths, verts, edgecolors, plotnonfinite, **kwargs)\u001b[0m\n\u001b[1;32m   4434\u001b[0m         \u001b[0my\u001b[0m \u001b[0;34m=\u001b[0m \u001b[0mnp\u001b[0m\u001b[0;34m.\u001b[0m\u001b[0mma\u001b[0m\u001b[0;34m.\u001b[0m\u001b[0mravel\u001b[0m\u001b[0;34m(\u001b[0m\u001b[0my\u001b[0m\u001b[0;34m)\u001b[0m\u001b[0;34m\u001b[0m\u001b[0;34m\u001b[0m\u001b[0m\n\u001b[1;32m   4435\u001b[0m         \u001b[0;32mif\u001b[0m \u001b[0mx\u001b[0m\u001b[0;34m.\u001b[0m\u001b[0msize\u001b[0m \u001b[0;34m!=\u001b[0m \u001b[0my\u001b[0m\u001b[0;34m.\u001b[0m\u001b[0msize\u001b[0m\u001b[0;34m:\u001b[0m\u001b[0;34m\u001b[0m\u001b[0;34m\u001b[0m\u001b[0m\n\u001b[0;32m-> 4436\u001b[0;31m             \u001b[0;32mraise\u001b[0m \u001b[0mValueError\u001b[0m\u001b[0;34m(\u001b[0m\u001b[0;34m\"x and y must be the same size\"\u001b[0m\u001b[0;34m)\u001b[0m\u001b[0;34m\u001b[0m\u001b[0;34m\u001b[0m\u001b[0m\n\u001b[0m\u001b[1;32m   4437\u001b[0m \u001b[0;34m\u001b[0m\u001b[0m\n\u001b[1;32m   4438\u001b[0m         \u001b[0;32mif\u001b[0m \u001b[0ms\u001b[0m \u001b[0;32mis\u001b[0m \u001b[0;32mNone\u001b[0m\u001b[0;34m:\u001b[0m\u001b[0;34m\u001b[0m\u001b[0;34m\u001b[0m\u001b[0m\n",
      "\u001b[0;31mValueError\u001b[0m: x and y must be the same size"
     ]
    },
    {
     "data": {
      "image/png": "[encoded data removed]",
      "text/plain": [
       "<Figure size 432x288 with 1 Axes>"
      ]
     },
     "metadata": {},
     "output_type": "display_data"
    }
   ],
   "source": [
    "plt.scatter(range(20),result,c='r')\n",
    "plt.scatter(range(20),true_label,c='g')\n",
    "plt.show"
   ]
  },
  {
   "cell_type": "code",
   "execution_count": 113,
   "metadata": {},
   "outputs": [
    {
     "data": {
      "image/png": "[encoded data removed]",
      "text/plain": [
       "<Figure size 432x288 with 1 Axes>"
      ]
     },
     "metadata": {},
     "output_type": "display_data"
    }
   ],
   "source": [
    "plt.plot(history.history['loss'])\n",
    "plt.show()"
   ]
  },
  {
   "cell_type": "code",
   "execution_count": null,
   "metadata": {},
   "outputs": [],
   "source": []
  }
 ],
 "metadata": {
  "kernelspec": {
   "display_name": "Python 3",
   "language": "python",
   "name": "python3"
  },
  "language_info": {
   "codemirror_mode": {
    "name": "ipython",
    "version": 3
   },
   "file_extension": ".py",
   "mimetype": "text/x-python",
   "name": "python",
   "nbconvert_exporter": "python",
   "pygments_lexer": "ipython3",
   "version": "3.7.1"
  }
 },
 "nbformat": 4,
 "nbformat_minor": 4
}
