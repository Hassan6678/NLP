{
 "cells": [
  {
   "cell_type": "code",
   "execution_count": 25,
   "source": [
    "import pandas as pd\r\n",
    "import tensorflow as tf\r\n",
    "import re\r\n",
    "ROOT_PATH = 'C:/Users/Hassan Raza/Desktop/Whatsapp_chat_RNN'\r\n",
    "dataset = pd.read_csv(ROOT_PATH + '/Whatsapp_chat.csv', usecols=[0,1])"
   ],
   "outputs": [],
   "metadata": {}
  },
  {
   "cell_type": "code",
   "execution_count": 26,
   "source": [
    "#dataset = dataset[dataset['Mode'].isin(['Positive', 'Negative'])]\r\n",
    "#df4 = df[(df['count'].isin(['2','7']))\r\n",
    "dataset[\"Mode\"].value_counts()"
   ],
   "outputs": [
    {
     "output_type": "execute_result",
     "data": {
      "text/plain": [
       "Neutral     8929\n",
       "Positive    6013\n",
       "Negative    5287\n",
       "Name: Mode, dtype: int64"
      ]
     },
     "metadata": {},
     "execution_count": 26
    }
   ],
   "metadata": {}
  },
  {
   "cell_type": "code",
   "execution_count": 33,
   "source": [
    "corpus=[]\r\n",
    "stopwords=['ai', 'ayi', 'hy', 'hai', 'main', 'ki', 'tha', 'koi', 'ko', 'sy', 'woh', 'bhi', 'aur', 'wo', 'yeh', 'rha', 'hota', 'ho', 'ga', 'ka', 'le', 'lye', 'kr', 'kar', 'lye', 'liye', 'hotay', 'waisay', 'gya', 'gaya', 'kch', 'ab', 'thy', 'thay', 'houn', 'hain', 'han', 'to', 'is', 'hi', 'jo', 'kya', 'thi', 'se', 'pe', 'phr', 'wala', 'waisay', 'us', 'na', 'ny', 'hun', 'rha', 'raha', 'ja', 'rahay', 'abi', 'uski', 'ne', 'haan', 'acha', 'nai', 'sent', 'photo', 'you', 'kafi', 'gai', 'rhy', 'kuch', 'jata', 'aye', 'ya', 'dono', 'hoa', 'aese', 'de', 'wohi', 'jati', 'jb', 'krta', 'lg', 'rahi', 'hui', 'karna', 'krna', 'gi', 'hova', 'yehi', 'jana', 'jye', 'chal', 'mil', 'tu', 'hum', 'par', 'hay', 'kis', 'sb', 'gy', 'dain', 'krny', 'tou']\r\n",
    "for i in range(dataset.shape[0]):\r\n",
    "    message = re.sub('[^a-zA-Z]',' ',str(dataset.iloc[:,0].values[i]))\r\n",
    "    message = message.lower()\r\n",
    "    message = message.split()\r\n",
    "    message = [word for word in message if not word in stopwords]\r\n",
    "    message = ' '.join(message)\r\n",
    "    corpus.append(message)"
   ],
   "outputs": [],
   "metadata": {}
  },
  {
   "cell_type": "code",
   "execution_count": 34,
   "source": [
    "import re\r\n",
    "import numpy as np\r\n",
    "import pandas as pd\r\n",
    "from sklearn.model_selection import train_test_split\r\n",
    "import matplotlib.pyplot as plt\r\n",
    "\r\n",
    "from keras.models import Sequential, load_model\r\n",
    "from keras.layers import Dense, LSTM, Embedding, Dropout\r\n",
    "from keras.preprocessing.text import Tokenizer\r\n",
    "from keras.preprocessing.sequence import pad_sequences\r\n",
    "\r\n",
    "tokenizer = Tokenizer(num_words=5000, split=\" \")\r\n",
    "tokenizer.fit_on_texts(corpus)\r\n",
    "\r\n",
    "X = tokenizer.texts_to_sequences(corpus)\r\n",
    "X = pad_sequences(X) # padding our text vector so they all have the same length (maximum lenth sub_list in list array)\r\n",
    "len(X[0])"
   ],
   "outputs": [
    {
     "output_type": "execute_result",
     "data": {
      "text/plain": [
       "187"
      ]
     },
     "metadata": {},
     "execution_count": 34
    }
   ],
   "metadata": {}
  },
  {
   "cell_type": "code",
   "execution_count": 35,
   "source": [
    "def FindMaxLength(lst):\r\n",
    "\tmaxList = min(lst, key = lambda i: len(i))\r\n",
    "\tmaxLength = len(maxList)\r\n",
    "\t\r\n",
    "\treturn maxList, maxLength\r\n",
    "\r\n",
    "#print(FindMaxLength(X))"
   ],
   "outputs": [],
   "metadata": {}
  },
  {
   "cell_type": "code",
   "execution_count": 36,
   "source": [
    "model = Sequential()\r\n",
    "model.add(Embedding(5000, 256, input_length=X.shape[1]))\r\n",
    "model.add(Dropout(0.3))\r\n",
    "model.add(LSTM(256, return_sequences=True, dropout=0.3, recurrent_dropout=0.2))\r\n",
    "model.add(LSTM(256, dropout=0.3, recurrent_dropout=0.2))\r\n",
    "model.add(Dense(3, activation='softmax'))"
   ],
   "outputs": [
    {
     "output_type": "stream",
     "name": "stdout",
     "text": [
      "WARNING:tensorflow:From C:\\Users\\Hassan Raza\\AppData\\Local\\Programs\\Python\\Python37\\lib\\site-packages\\keras\\backend\\tensorflow_backend.py:74: The name tf.get_default_graph is deprecated. Please use tf.compat.v1.get_default_graph instead.\n",
      "\n",
      "WARNING:tensorflow:From C:\\Users\\Hassan Raza\\AppData\\Local\\Programs\\Python\\Python37\\lib\\site-packages\\keras\\backend\\tensorflow_backend.py:517: The name tf.placeholder is deprecated. Please use tf.compat.v1.placeholder instead.\n",
      "\n",
      "WARNING:tensorflow:From C:\\Users\\Hassan Raza\\AppData\\Local\\Programs\\Python\\Python37\\lib\\site-packages\\keras\\backend\\tensorflow_backend.py:4138: The name tf.random_uniform is deprecated. Please use tf.random.uniform instead.\n",
      "\n",
      "WARNING:tensorflow:From C:\\Users\\Hassan Raza\\AppData\\Local\\Programs\\Python\\Python37\\lib\\site-packages\\keras\\backend\\tensorflow_backend.py:133: The name tf.placeholder_with_default is deprecated. Please use tf.compat.v1.placeholder_with_default instead.\n",
      "\n",
      "WARNING:tensorflow:From C:\\Users\\Hassan Raza\\AppData\\Local\\Programs\\Python\\Python37\\lib\\site-packages\\keras\\backend\\tensorflow_backend.py:3445: calling dropout (from tensorflow.python.ops.nn_ops) with keep_prob is deprecated and will be removed in a future version.\n",
      "Instructions for updating:\n",
      "Please use `rate` instead of `keep_prob`. Rate should be set to `rate = 1 - keep_prob`.\n"
     ]
    }
   ],
   "metadata": {}
  },
  {
   "cell_type": "code",
   "execution_count": 37,
   "source": [
    "model.compile(loss='categorical_crossentropy', optimizer='adam', metrics=['accuracy'])\r\n",
    "model.summary()"
   ],
   "outputs": [
    {
     "output_type": "stream",
     "name": "stdout",
     "text": [
      "WARNING:tensorflow:From C:\\Users\\Hassan Raza\\AppData\\Local\\Programs\\Python\\Python37\\lib\\site-packages\\keras\\optimizers.py:790: The name tf.train.Optimizer is deprecated. Please use tf.compat.v1.train.Optimizer instead.\n",
      "\n",
      "WARNING:tensorflow:From C:\\Users\\Hassan Raza\\AppData\\Local\\Programs\\Python\\Python37\\lib\\site-packages\\keras\\backend\\tensorflow_backend.py:3295: The name tf.log is deprecated. Please use tf.math.log instead.\n",
      "\n",
      "_________________________________________________________________\n",
      "Layer (type)                 Output Shape              Param #   \n",
      "=================================================================\n",
      "embedding_1 (Embedding)      (None, 187, 256)          1280000   \n",
      "_________________________________________________________________\n",
      "dropout_1 (Dropout)          (None, 187, 256)          0         \n",
      "_________________________________________________________________\n",
      "lstm_1 (LSTM)                (None, 187, 256)          525312    \n",
      "_________________________________________________________________\n",
      "lstm_2 (LSTM)                (None, 256)               525312    \n",
      "_________________________________________________________________\n",
      "dense_1 (Dense)              (None, 3)                 771       \n",
      "=================================================================\n",
      "Total params: 2,331,395\n",
      "Trainable params: 2,331,395\n",
      "Non-trainable params: 0\n",
      "_________________________________________________________________\n"
     ]
    }
   ],
   "metadata": {}
  },
  {
   "cell_type": "code",
   "execution_count": 47,
   "source": [
    "y = pd.get_dummies(dataset['Mode']).values\r\n",
    "[print(dataset['Mode'][i], y[i]) for i in range(12000,12001)]\r\n",
    "\r\n",
    "# Positive [0 0 1]\r\n",
    "# Neutral [0 1 0]\r\n",
    "# Negative [1 0 0]"
   ],
   "outputs": [
    {
     "output_type": "stream",
     "name": "stdout",
     "text": [
      "Negative [1 0 0]\n"
     ]
    },
    {
     "output_type": "execute_result",
     "data": {
      "text/plain": [
       "[None]"
      ]
     },
     "metadata": {},
     "execution_count": 47
    }
   ],
   "metadata": {}
  },
  {
   "cell_type": "code",
   "execution_count": 48,
   "source": [
    "\r\n",
    "X_train, X_test, y_train, y_test = train_test_split(X, y, test_size=0.2, random_state=0)"
   ],
   "outputs": [],
   "metadata": {}
  },
  {
   "cell_type": "code",
   "execution_count": 51,
   "source": [
    "batch_size = 128\r\n",
    "epochs = 5\r\n",
    "\r\n",
    "history = model.fit(X_train, y_train, epochs=epochs, batch_size=batch_size, verbose=1)"
   ],
   "outputs": [
    {
     "output_type": "stream",
     "name": "stdout",
     "text": [
      "Epoch 1/5\n",
      "16183/16183 [==============================] - 888s 55ms/step - loss: 0.8793 - acc: 0.6076\n",
      "Epoch 2/5\n",
      "16183/16183 [==============================] - 1141s 71ms/step - loss: 0.6916 - acc: 0.7136\n",
      "Epoch 3/5\n",
      "16183/16183 [==============================] - 1118s 69ms/step - loss: 0.6137 - acc: 0.7496\n",
      "Epoch 4/5\n",
      "16183/16183 [==============================] - 1357s 84ms/step - loss: 0.5582 - acc: 0.7777\n",
      "Epoch 5/5\n",
      "16183/16183 [==============================] - 1388s 86ms/step - loss: 0.5099 - acc: 0.7980\n"
     ]
    },
    {
     "output_type": "execute_result",
     "data": {
      "text/plain": [
       "<keras.callbacks.History at 0x1d1ce803208>"
      ]
     },
     "metadata": {},
     "execution_count": 51
    }
   ],
   "metadata": {}
  },
  {
   "cell_type": "code",
   "execution_count": 52,
   "source": [
    "model.save('sentiment_analysis.h5')"
   ],
   "outputs": [],
   "metadata": {}
  },
  {
   "cell_type": "code",
   "execution_count": 53,
   "source": [
    "predictions = model.predict(X_test)\r\n",
    "\r\n",
    "[print(dataset['Message'][i], predictions[i], y_test[i]) for i in range(5, 10)]"
   ],
   "outputs": [
    {
     "output_type": "stream",
     "name": "stdout",
     "text": [
      "Wah kya baat likhi [0.64506716 0.34856185 0.00637098] [0 1 0]\n",
      "Wha Itni sari khubiya [0.60560066 0.37095395 0.0234454 ] [0 1 0]\n",
      "Itni khubiya [0.13057727 0.8137635  0.05565921] [0 1 0]\n",
      "Ya allah rehm farma hm sab pe or zalimo ko hidayat de ameen [0.06729884 0.56694263 0.36575857] [1 0 0]\n",
      "Please Everyone AllAh S.w.T ka naam hAmesha Bary Lawzo main Likha kary Wo he Zaat sUb say Bari Hey [0.31156573 0.01841947 0.6700148 ] [0 0 1]\n"
     ]
    },
    {
     "output_type": "execute_result",
     "data": {
      "text/plain": [
       "[None, None, None, None, None]"
      ]
     },
     "metadata": {},
     "execution_count": 53
    }
   ],
   "metadata": {}
  },
  {
   "cell_type": "code",
   "execution_count": 54,
   "source": [
    "pos_count, neu_count, neg_count = 0, 0, 0\r\n",
    "real_pos, real_neu, real_neg = 0, 0, 0\r\n",
    "for i, prediction in enumerate(predictions):\r\n",
    "    if np.argmax(prediction)==2:\r\n",
    "        pos_count += 1\r\n",
    "    elif np.argmax(prediction)==1:\r\n",
    "        neu_count += 1\r\n",
    "    else:\r\n",
    "        neg_count += 1\r\n",
    "    \r\n",
    "    if np.argmax(y_test[i])==2:\r\n",
    "        real_pos += 1\r\n",
    "    elif np.argmax(y_test[i])==1:    \r\n",
    "        real_neu += 1\r\n",
    "    else:\r\n",
    "        real_neg +=1\r\n",
    "\r\n",
    "print('Positive predictions:', pos_count)\r\n",
    "print('Neutral predictions:', neu_count)\r\n",
    "print('Negative predictions:', neg_count)\r\n",
    "print('Real positive:', real_pos)\r\n",
    "print('Real neutral:', real_neu)\r\n",
    "print('Real negative:', real_neg)"
   ],
   "outputs": [
    {
     "output_type": "stream",
     "name": "stdout",
     "text": [
      "Positive predictions: 1120\n",
      "Neutral predictions: 1835\n",
      "Negative predictions: 1091\n",
      "Real positive: 1182\n",
      "Real neutral: 1832\n",
      "Real negative: 1032\n"
     ]
    }
   ],
   "metadata": {}
  },
  {
   "cell_type": "code",
   "execution_count": null,
   "source": [],
   "outputs": [],
   "metadata": {}
  },
  {
   "cell_type": "code",
   "execution_count": null,
   "source": [],
   "outputs": [],
   "metadata": {}
  }
 ],
 "metadata": {
  "orig_nbformat": 4,
  "language_info": {
   "name": "python",
   "version": "3.7.1",
   "mimetype": "text/x-python",
   "codemirror_mode": {
    "name": "ipython",
    "version": 3
   },
   "pygments_lexer": "ipython3",
   "nbconvert_exporter": "python",
   "file_extension": ".py"
  },
  "kernelspec": {
   "name": "python3",
   "display_name": "Python 3.7.1 64-bit (system)"
  },
  "interpreter": {
   "hash": "bd76af128d7c40b48583a811a9c1879190eadb08cc3a308c5c2f1ddbc04e5a8b"
  }
 },
 "nbformat": 4,
 "nbformat_minor": 2
}