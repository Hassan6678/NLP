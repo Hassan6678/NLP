{
 "cells": [
  {
   "cell_type": "markdown",
   "metadata": {},
   "source": [
    "# RNN Model for Whatsapp's Chat"
   ]
  },
  {
   "cell_type": "code",
   "execution_count": 1,
   "metadata": {},
   "outputs": [],
   "source": [
    "#Import Required Libraries\n",
    "import numpy as np\n",
    "import pandas as pd\n",
    "import torch\n",
    "import torch.nn.functional as F\n",
    "import sys\n",
    "import string\n",
    "from collections import Counter\n",
    "import matplotlib.pyplot as plt\n",
    "import re"
   ]
  },
  {
   "cell_type": "code",
   "execution_count": 2,
   "metadata": {},
   "outputs": [],
   "source": [
    "vocab = {}"
   ]
  },
  {
   "cell_type": "code",
   "execution_count": 3,
   "metadata": {},
   "outputs": [],
   "source": [
    "def initializeVocabulary():\n",
    "    unkToken = '<UNK>'\n",
    "    #create another vocab inside vocab -> text to index\n",
    "    vocab['t_2_i'] = {}\n",
    "    #create another vocab inside vocab -> index to text\n",
    "    vocab['i_2_t'] = {}\n",
    "    # Add token in key 'unkToken' = '<UNK>'\n",
    "    vocab['unkToken'] = unkToken\n",
    "    # call function 'addToken()' that return token index\n",
    "    idx = addToken(unkToken)\n",
    "    vocab['unkTokenIdx'] = idx"
   ]
  },
  {
   "cell_type": "code",
   "execution_count": 4,
   "metadata": {},
   "outputs": [],
   "source": [
    "def addToken(token):\n",
    "    # if token already in vocab then just return index\n",
    "    if token in vocab['t_2_i']:\n",
    "        idx = vocab['t_2_i'][token]\n",
    "    else:\n",
    "        # create index for new tokken --> simply new index == len(vocab) /*last number*/\n",
    "        idx = len(vocab['t_2_i'])\n",
    "        vocab['t_2_i'][token] = idx\n",
    "        vocab['i_2_t'][idx] = token\n",
    "    return idx"
   ]
  },
  {
   "cell_type": "code",
   "execution_count": 5,
   "metadata": {},
   "outputs": [],
   "source": [
    "def addManyTokens(tokens):\n",
    "    idxes = [addToken(token) for token in tokens]\n",
    "    return idxes"
   ]
  },
  {
   "cell_type": "code",
   "execution_count": 6,
   "metadata": {},
   "outputs": [],
   "source": [
    "def lookUpToken(token):\n",
    "    return vocab['t_2_i'].get(token,vocab['unkTokenIdx'])"
   ]
  },
  {
   "cell_type": "code",
   "execution_count": 7,
   "metadata": {},
   "outputs": [],
   "source": [
    "def lookUpIndex(idx):\n",
    "    if idx not in vocab['i_2_t']:\n",
    "        raise KeyError(\"the index (%d) is not there\" % idx)\n",
    "    return vocab['i_2_t'][idx]"
   ]
  },
  {
   "cell_type": "code",
   "execution_count": 8,
   "metadata": {},
   "outputs": [],
   "source": [
    "def vocabularyFromDataFrame(df,cutoff=5):\n",
    "    initializeVocabulary()\n",
    "    wordCounts = Counter()\n",
    "    for r in df.Message:\n",
    "        for word in re.split('\\W+',r):\n",
    "            wordCounts[word] += 1\n",
    "    for word,count in wordCounts.items():\n",
    "        if count > cutoff:\n",
    "            addToken(word)"
   ]
  },
  {
   "cell_type": "code",
   "execution_count": 9,
   "metadata": {},
   "outputs": [],
   "source": [
    "def vocabularyFromCorpus(Corpus,cutoff=2):\n",
    "    initializeVocabulary()\n",
    "    wordCounts = Counter()\n",
    "    for doc in Corpus:\n",
    "        for word in re.split('\\W+',doc):\n",
    "            wordCounts[word] += 1\n",
    "    for word,count in wordCounts.items():\n",
    "        if count > cutoff:\n",
    "            addToken(word)"
   ]
  },
  {
   "cell_type": "code",
   "execution_count": 10,
   "metadata": {},
   "outputs": [],
   "source": [
    "def oneHotVector(token,N):\n",
    "    oneHot = np.zeros((N,1))\n",
    "    oneHot[lookUpToken(token)] = 1\n",
    "    return oneHot"
   ]
  },
  {
   "cell_type": "code",
   "execution_count": 17,
   "metadata": {},
   "outputs": [],
   "source": [
    "df = pd.read_excel('Whatsapp_chat_Data.xlsx')\n",
    "# Drop NaN values in Dataframe\n",
    "df = df.dropna()\n",
    "# Change Column value --> from 'fear' to 'Fear' :)\n",
    "#df[\"Mode\"].replace({\"Angry \": \"Angry\", \"fear\": \"Fear\",}, inplace=True)\n",
    "\n",
    "# Change Column value --> from 'fear' to 'Fear' :)\n",
    "df[\"Mode\"].replace({\"Normal\": \"Positive\", \"Happy\": \"Positive\", \"Love\": \"Positive\",}, inplace=True)\n",
    "df[\"Mode\"].replace({\"Angry\": \"Negative\", \"Fear\": \"Negative\", \"Sad\": \"Negative\",}, inplace=True)"
   ]
  },
  {
   "cell_type": "code",
   "execution_count": 18,
   "metadata": {},
   "outputs": [
    {
     "data": {
      "text/plain": [
       "array(['Negative', 'Positive'], dtype=object)"
      ]
     },
     "execution_count": 18,
     "metadata": {},
     "output_type": "execute_result"
    }
   ],
   "source": [
    "# Get the unique values of 'Mode' column\n",
    "df.Mode.unique()"
   ]
  },
  {
   "cell_type": "code",
   "execution_count": 20,
   "metadata": {},
   "outputs": [
    {
     "data": {
      "text/plain": [
       "Positive    1124\n",
       "Negative     793\n",
       "Name: Mode, dtype: int64"
      ]
     },
     "execution_count": 20,
     "metadata": {},
     "output_type": "execute_result"
    }
   ],
   "source": [
    "df['Mode'].value_counts()"
   ]
  },
  {
   "cell_type": "code",
   "execution_count": 19,
   "metadata": {},
   "outputs": [
    {
     "data": {
      "image/png": "[encoded data removed]",
      "text/plain": [
       "<Figure size 432x288 with 1 Axes>"
      ]
     },
     "metadata": {
      "needs_background": "light"
     },
     "output_type": "display_data"
    }
   ],
   "source": [
    "# a simple line plot\n",
    "#df.plot(kind='bar',x='Mode',y='Message')\n",
    "df.groupby('Mode')['Message'].nunique().plot(kind='bar')\n",
    "plt.show()"
   ]
  },
  {
   "cell_type": "code",
   "execution_count": 21,
   "metadata": {},
   "outputs": [
    {
     "data": {
      "text/html": [
       "<div>\n",
       "<style scoped>\n",
       "    .dataframe tbody tr th:only-of-type {\n",
       "        vertical-align: middle;\n",
       "    }\n",
       "\n",
       "    .dataframe tbody tr th {\n",
       "        vertical-align: top;\n",
       "    }\n",
       "\n",
       "    .dataframe thead th {\n",
       "        text-align: right;\n",
       "    }\n",
       "</style>\n",
       "<table border=\"1\" class=\"dataframe\">\n",
       "  <thead>\n",
       "    <tr style=\"text-align: right;\">\n",
       "      <th></th>\n",
       "      <th>Mode</th>\n",
       "      <th>Message</th>\n",
       "    </tr>\n",
       "  </thead>\n",
       "  <tbody>\n",
       "    <tr>\n",
       "      <th>0</th>\n",
       "      <td>Negative</td>\n",
       "      <td>Hmme na pagal ho chuki har teacher ki mintaien...</td>\n",
       "    </tr>\n",
       "    <tr>\n",
       "      <th>1</th>\n",
       "      <td>Negative</td>\n",
       "      <td>Or phir teachers k krny waly kam b me he kron</td>\n",
       "    </tr>\n",
       "    <tr>\n",
       "      <th>2</th>\n",
       "      <td>Negative</td>\n",
       "      <td>Allah kry maan jay ab bus</td>\n",
       "    </tr>\n",
       "    <tr>\n",
       "      <th>3</th>\n",
       "      <td>Negative</td>\n",
       "      <td>Abhe aca ki assignments rehti hain</td>\n",
       "    </tr>\n",
       "    <tr>\n",
       "      <th>5</th>\n",
       "      <td>Negative</td>\n",
       "      <td>Ab Eid tu guzarny dein sakoon se</td>\n",
       "    </tr>\n",
       "  </tbody>\n",
       "</table>\n",
       "</div>"
      ],
      "text/plain": [
       "       Mode                                            Message\n",
       "0  Negative  Hmme na pagal ho chuki har teacher ki mintaien...\n",
       "1  Negative      Or phir teachers k krny waly kam b me he kron\n",
       "2  Negative                          Allah kry maan jay ab bus\n",
       "3  Negative                 Abhe aca ki assignments rehti hain\n",
       "5  Negative                   Ab Eid tu guzarny dein sakoon se"
      ]
     },
     "execution_count": 21,
     "metadata": {},
     "output_type": "execute_result"
    }
   ],
   "source": [
    "df.head(5)"
   ]
  },
  {
   "cell_type": "code",
   "execution_count": 24,
   "metadata": {},
   "outputs": [],
   "source": [
    "vocabularyFromDataFrame(df, cutoff=2)"
   ]
  },
  {
   "cell_type": "code",
   "execution_count": 25,
   "metadata": {},
   "outputs": [
    {
     "data": {
      "text/plain": [
       "837"
      ]
     },
     "execution_count": 25,
     "metadata": {},
     "output_type": "execute_result"
    }
   ],
   "source": [
    "len(vocab['t_2_i'])"
   ]
  },
  {
   "cell_type": "code",
   "execution_count": 26,
   "metadata": {},
   "outputs": [
    {
     "data": {
      "text/plain": [
       "'uss'"
      ]
     },
     "execution_count": 26,
     "metadata": {},
     "output_type": "execute_result"
    }
   ],
   "source": [
    "lookUpIndex(100)"
   ]
  },
  {
   "cell_type": "code",
   "execution_count": 27,
   "metadata": {},
   "outputs": [],
   "source": [
    "def vectorize(message):\n",
    "    isFirst = True\n",
    "    for token in message.split(\" \"):\n",
    "        if token not in string.punctuation:\n",
    "            oneHot = np.zeros((len(vocab['t_2_i']),1))\n",
    "            oneHot[lookUpToken(token)] = 1\n",
    "            if isFirst:\n",
    "                xF = oneHot\n",
    "                isFirst = False\n",
    "            else:\n",
    "                xF = np.hstack((xF,oneHot))\n",
    "    return xF"
   ]
  },
  {
   "cell_type": "code",
   "execution_count": 28,
   "metadata": {},
   "outputs": [],
   "source": [
    "xF = vectorize(df['Message'][1])"
   ]
  },
  {
   "cell_type": "code",
   "execution_count": null,
   "metadata": {},
   "outputs": [],
   "source": [
    "## We just use oneHOt emedding ... \n",
    "##for better choice you may choice word to vector emedding and so on ...."
   ]
  },
  {
   "cell_type": "code",
   "execution_count": 29,
   "metadata": {},
   "outputs": [
    {
     "data": {
      "text/plain": [
       "(837, 11)"
      ]
     },
     "execution_count": 29,
     "metadata": {},
     "output_type": "execute_result"
    }
   ],
   "source": [
    "xF.shape\n",
    "#df['Message'][1]"
   ]
  },
  {
   "cell_type": "code",
   "execution_count": 39,
   "metadata": {},
   "outputs": [],
   "source": [
    "smallDf_pos = df[df['Mode']=='Positive'].iloc[:5]\n",
    "smallDf_neg = df[df['Mode']=='Negative'].iloc[:5]\n",
    "df_small = pd.concat([smallDf_pos,smallDf_neg], axis=0)"
   ]
  },
  {
   "cell_type": "code",
   "execution_count": 79,
   "metadata": {},
   "outputs": [],
   "source": [
    "#vocabularyFromDataFrame(df_small, cutoff=0)"
   ]
  },
  {
   "cell_type": "code",
   "execution_count": 74,
   "metadata": {},
   "outputs": [
    {
     "data": {
      "text/html": [
       "<div>\n",
       "<style scoped>\n",
       "    .dataframe tbody tr th:only-of-type {\n",
       "        vertical-align: middle;\n",
       "    }\n",
       "\n",
       "    .dataframe tbody tr th {\n",
       "        vertical-align: top;\n",
       "    }\n",
       "\n",
       "    .dataframe thead th {\n",
       "        text-align: right;\n",
       "    }\n",
       "</style>\n",
       "<table border=\"1\" class=\"dataframe\">\n",
       "  <thead>\n",
       "    <tr style=\"text-align: right;\">\n",
       "      <th></th>\n",
       "      <th>Mode</th>\n",
       "      <th>Message</th>\n",
       "    </tr>\n",
       "  </thead>\n",
       "  <tbody>\n",
       "    <tr>\n",
       "      <th>2</th>\n",
       "      <td>Positive</td>\n",
       "      <td>Ya puchna ya tha k Shair kisi b traha ka send ...</td>\n",
       "    </tr>\n",
       "    <tr>\n",
       "      <th>3</th>\n",
       "      <td>Positive</td>\n",
       "      <td>Han g phir to any dain gy per ap k any k bgair...</td>\n",
       "    </tr>\n",
       "    <tr>\n",
       "      <th>4</th>\n",
       "      <td>Positive</td>\n",
       "      <td>Everyone please bs kro yr</td>\n",
       "    </tr>\n",
       "    <tr>\n",
       "      <th>6</th>\n",
       "      <td>Positive</td>\n",
       "      <td>Itny ap sary Fawad khan rehty ni</td>\n",
       "    </tr>\n",
       "    <tr>\n",
       "      <th>8</th>\n",
       "      <td>Positive</td>\n",
       "      <td>ok then MOV</td>\n",
       "    </tr>\n",
       "    <tr>\n",
       "      <th>0</th>\n",
       "      <td>Negative</td>\n",
       "      <td>Tu to chup kr ja desh</td>\n",
       "    </tr>\n",
       "    <tr>\n",
       "      <th>1</th>\n",
       "      <td>Negative</td>\n",
       "      <td>Bush kr de bush</td>\n",
       "    </tr>\n",
       "    <tr>\n",
       "      <th>5</th>\n",
       "      <td>Negative</td>\n",
       "      <td>Tra GB delete ni howa kia abho tak</td>\n",
       "    </tr>\n",
       "    <tr>\n",
       "      <th>10</th>\n",
       "      <td>Negative</td>\n",
       "      <td>Gustakhi ki mafi</td>\n",
       "    </tr>\n",
       "    <tr>\n",
       "      <th>15</th>\n",
       "      <td>Negative</td>\n",
       "      <td>tum tu barhana chahty thy teli lga k gaib hat ...</td>\n",
       "    </tr>\n",
       "  </tbody>\n",
       "</table>\n",
       "</div>"
      ],
      "text/plain": [
       "        Mode                                            Message\n",
       "2   Positive  Ya puchna ya tha k Shair kisi b traha ka send ...\n",
       "3   Positive  Han g phir to any dain gy per ap k any k bgair...\n",
       "4   Positive                          Everyone please bs kro yr\n",
       "6   Positive                   Itny ap sary Fawad khan rehty ni\n",
       "8   Positive                                        ok then MOV\n",
       "0   Negative                              Tu to chup kr ja desh\n",
       "1   Negative                                    Bush kr de bush\n",
       "5   Negative                 Tra GB delete ni howa kia abho tak\n",
       "10  Negative                                   Gustakhi ki mafi\n",
       "15  Negative  tum tu barhana chahty thy teli lga k gaib hat ..."
      ]
     },
     "execution_count": 74,
     "metadata": {},
     "output_type": "execute_result"
    }
   ],
   "source": [
    "df_small"
   ]
  },
  {
   "cell_type": "code",
   "execution_count": 30,
   "metadata": {},
   "outputs": [],
   "source": [
    "numFeatures = len(vocab['t_2_i'])\n",
    "hiddenUnits = 10\n",
    "h0 = torch.tensor(np.zeros((hiddenUnits,1)))\n",
    "Wx = torch.tensor(np.random.uniform(0,1,(hiddenUnits,numFeatures)),requires_grad=True)\n",
    "Wh = torch.tensor(np.random.uniform(0,1,(hiddenUnits,hiddenUnits)),requires_grad=True)\n",
    "Wy = torch.tensor(np.random.uniform(0,1,(1,hiddenUnits)),requires_grad=True)"
   ]
  },
  {
   "cell_type": "code",
   "execution_count": 31,
   "metadata": {},
   "outputs": [
    {
     "name": "stdout",
     "output_type": "stream",
     "text": [
      "torch.Size([10, 10]) torch.Size([10, 837]) torch.Size([1, 10]) torch.Size([10, 1])\n"
     ]
    }
   ],
   "source": [
    "print(Wh.shape,Wx.shape,Wy.shape,h0.shape)"
   ]
  },
  {
   "cell_type": "code",
   "execution_count": 32,
   "metadata": {},
   "outputs": [],
   "source": [
    "def stepForward(xt,Wx,Wh,Wy,prevMemory):\n",
    "    #x_frd = torch.matmul(Wx,torch.from_numpy(xt))\n",
    "    #print(\"1: \",Wx.shape,torch.from_numpy(xt[:,np.newaxis]).shape)\n",
    "    x_frd = torch.matmul(Wx,torch.from_numpy(xt[:,np.newaxis]))\n",
    "    #print(\"2: \",Wh.shape,prevMemory.shape)\n",
    "    h_frd = torch.matmul(Wh,prevMemory)\n",
    "    ht = torch.tanh(x_frd+h_frd)\n",
    "    yt_hat = torch.sigmoid(torch.matmul(Wy,ht))\n",
    "    #yt_hat = F.softmax(torch.matmul(Wy,ht),dim=0)\n",
    "    return ht,yt_hat"
   ]
  },
  {
   "cell_type": "code",
   "execution_count": 33,
   "metadata": {},
   "outputs": [],
   "source": [
    "def fullForwardRNN(X,Wx,Wh,Wy,prevMemory):\n",
    "    y_hat = []\n",
    "    for t in range(X.shape[1]):\n",
    "        ht,yt_hat = stepForward(X[:,t],Wx,Wh,Wy,prevMemory)\n",
    "        prevMemory = ht\n",
    "        y_hat = yt_hat\n",
    "        #y_hat.append(yt_hat)\n",
    "    return y_hat  "
   ]
  },
  {
   "cell_type": "code",
   "execution_count": 34,
   "metadata": {},
   "outputs": [],
   "source": [
    "def computeLoss(y,y_hat):\n",
    "    loss = 0\n",
    "    for yi,yi_hat in zip(y,y_hat):\n",
    "        if yi == 1:\n",
    "            loss += -torch.log2(yi_hat)\n",
    "        else:\n",
    "            loss += -torch.log2(1-yi_hat)\n",
    "        #Li = -torch.log2(yi_hat[yi==1])\n",
    "        #loss += Li\n",
    "    return loss/len(y)"
   ]
  },
  {
   "cell_type": "code",
   "execution_count": 35,
   "metadata": {},
   "outputs": [],
   "source": [
    "def updateParams(Wx,Wh,Wy,dWx,dWh,dWy,lr):\n",
    "    with torch.no_grad():\n",
    "        Wx -= lr*dWx\n",
    "        Wh -= lr*dWh\n",
    "        Wy -= lr*dWy\n",
    "    return Wx,Wh,Wy"
   ]
  },
  {
   "cell_type": "code",
   "execution_count": 36,
   "metadata": {},
   "outputs": [],
   "source": [
    "def trainRNN(train_df,Wx,Wh,Wy,prevMemory,lr,nepoch):\n",
    "    losses = []\n",
    "    for epoch in range(nepoch):\n",
    "        y,y_hat = [],[]\n",
    "        for msg,mod in zip(train_df['Message'],train_df['Mode']):\n",
    "            X = vectorize(msg)\n",
    "            #print('``````````````~~~~~~~~~~~~~~~~~~`````````````````')\n",
    "            #print(X.shape)\n",
    "            yi_hat = fullForwardRNN(X,Wx,Wh,Wy,prevMemory)\n",
    "            yi = 0\n",
    "            if mod == 'Positive':\n",
    "                yi = 1\n",
    "            y.append(yi)\n",
    "            y_hat.append(yi_hat)\n",
    "                \n",
    "        loss = computeLoss(y,y_hat)\n",
    "        loss.backward()\n",
    "        losses.append(loss)\n",
    "        print(\"Loss after epoch=%d: %f\" %(epoch,loss))\n",
    "        sys.stdout.flush()\n",
    "        dWx = Wx.grad.data\n",
    "        dWh = Wh.grad.data\n",
    "        dWy = Wy.grad.data\n",
    "        Wx,Wh,Wy = updateParams(Wx,Wh,Wy,dWx,dWh,dWy,lr)\n",
    "        Wx.grad.data.zero_()\n",
    "        Wh.grad.data.zero_()\n",
    "        Wy.grad.data.zero_()\n",
    "    return Wx,Wh,Wy,losses"
   ]
  },
  {
   "cell_type": "code",
   "execution_count": 37,
   "metadata": {},
   "outputs": [
    {
     "name": "stdout",
     "output_type": "stream",
     "text": [
      "Loss after epoch=0: 2.957864\n",
      "Loss after epoch=1: 2.954424\n",
      "Loss after epoch=2: 2.950985\n",
      "Loss after epoch=3: 2.947547\n",
      "Loss after epoch=4: 2.944110\n",
      "Loss after epoch=5: 2.940673\n",
      "Loss after epoch=6: 2.937238\n",
      "Loss after epoch=7: 2.933802\n",
      "Loss after epoch=8: 2.930368\n",
      "Loss after epoch=9: 2.926934\n",
      "Loss after epoch=10: 2.923501\n",
      "Loss after epoch=11: 2.920069\n",
      "Loss after epoch=12: 2.916638\n",
      "Loss after epoch=13: 2.913207\n",
      "Loss after epoch=14: 2.909777\n",
      "Loss after epoch=15: 2.906348\n",
      "Loss after epoch=16: 2.902919\n",
      "Loss after epoch=17: 2.899492\n",
      "Loss after epoch=18: 2.896065\n",
      "Loss after epoch=19: 2.892639\n",
      "Loss after epoch=20: 2.889213\n",
      "Loss after epoch=21: 2.885789\n",
      "Loss after epoch=22: 2.882365\n",
      "Loss after epoch=23: 2.878942\n",
      "Loss after epoch=24: 2.875520\n",
      "Loss after epoch=25: 2.872098\n",
      "Loss after epoch=26: 2.868678\n",
      "Loss after epoch=27: 2.865258\n",
      "Loss after epoch=28: 2.861839\n",
      "Loss after epoch=29: 2.858421\n",
      "Loss after epoch=30: 2.855003\n",
      "Loss after epoch=31: 2.851587\n",
      "Loss after epoch=32: 2.848171\n",
      "Loss after epoch=33: 2.844756\n",
      "Loss after epoch=34: 2.841342\n",
      "Loss after epoch=35: 2.837929\n",
      "Loss after epoch=36: 2.834517\n",
      "Loss after epoch=37: 2.831105\n",
      "Loss after epoch=38: 2.827695\n",
      "Loss after epoch=39: 2.824285\n",
      "Loss after epoch=40: 2.820876\n",
      "Loss after epoch=41: 2.817468\n",
      "Loss after epoch=42: 2.814061\n",
      "Loss after epoch=43: 2.810655\n",
      "Loss after epoch=44: 2.807249\n",
      "Loss after epoch=45: 2.803845\n",
      "Loss after epoch=46: 2.800441\n",
      "Loss after epoch=47: 2.797038\n",
      "Loss after epoch=48: 2.793637\n",
      "Loss after epoch=49: 2.790236\n",
      "Loss after epoch=50: 2.786836\n",
      "Loss after epoch=51: 2.783437\n",
      "Loss after epoch=52: 2.780039\n",
      "Loss after epoch=53: 2.776642\n",
      "Loss after epoch=54: 2.773245\n",
      "Loss after epoch=55: 2.769850\n",
      "Loss after epoch=56: 2.766456\n",
      "Loss after epoch=57: 2.763062\n",
      "Loss after epoch=58: 2.759670\n",
      "Loss after epoch=59: 2.756279\n",
      "Loss after epoch=60: 2.752888\n",
      "Loss after epoch=61: 2.749499\n",
      "Loss after epoch=62: 2.746110\n",
      "Loss after epoch=63: 2.742722\n",
      "Loss after epoch=64: 2.739336\n",
      "Loss after epoch=65: 2.735950\n",
      "Loss after epoch=66: 2.732566\n",
      "Loss after epoch=67: 2.729182\n",
      "Loss after epoch=68: 2.725800\n",
      "Loss after epoch=69: 2.722418\n",
      "Loss after epoch=70: 2.719038\n",
      "Loss after epoch=71: 2.715658\n",
      "Loss after epoch=72: 2.712280\n",
      "Loss after epoch=73: 2.708902\n",
      "Loss after epoch=74: 2.705526\n",
      "Loss after epoch=75: 2.702151\n",
      "Loss after epoch=76: 2.698776\n",
      "Loss after epoch=77: 2.695403\n",
      "Loss after epoch=78: 2.692031\n",
      "Loss after epoch=79: 2.688660\n",
      "Loss after epoch=80: 2.685290\n",
      "Loss after epoch=81: 2.681921\n",
      "Loss after epoch=82: 2.678553\n",
      "Loss after epoch=83: 2.675187\n",
      "Loss after epoch=84: 2.671821\n",
      "Loss after epoch=85: 2.668456\n",
      "Loss after epoch=86: 2.665093\n",
      "Loss after epoch=87: 2.661731\n",
      "Loss after epoch=88: 2.658370\n",
      "Loss after epoch=89: 2.655010\n",
      "Loss after epoch=90: 2.651651\n",
      "Loss after epoch=91: 2.648293\n",
      "Loss after epoch=92: 2.644936\n",
      "Loss after epoch=93: 2.641581\n",
      "Loss after epoch=94: 2.638227\n",
      "Loss after epoch=95: 2.634874\n",
      "Loss after epoch=96: 2.631522\n",
      "Loss after epoch=97: 2.628171\n",
      "Loss after epoch=98: 2.624821\n",
      "Loss after epoch=99: 2.621473\n",
      "Loss after epoch=100: 2.618126\n",
      "Loss after epoch=101: 2.614780\n",
      "Loss after epoch=102: 2.611435\n",
      "Loss after epoch=103: 2.608092\n",
      "Loss after epoch=104: 2.604749\n",
      "Loss after epoch=105: 2.601408\n",
      "Loss after epoch=106: 2.598068\n",
      "Loss after epoch=107: 2.594730\n",
      "Loss after epoch=108: 2.591392\n",
      "Loss after epoch=109: 2.588056\n",
      "Loss after epoch=110: 2.584721\n",
      "Loss after epoch=111: 2.581388\n",
      "Loss after epoch=112: 2.578056\n",
      "Loss after epoch=113: 2.574725\n",
      "Loss after epoch=114: 2.571395\n",
      "Loss after epoch=115: 2.568067\n",
      "Loss after epoch=116: 2.564739\n",
      "Loss after epoch=117: 2.561414\n",
      "Loss after epoch=118: 2.558089\n",
      "Loss after epoch=119: 2.554766\n",
      "Loss after epoch=120: 2.551444\n",
      "Loss after epoch=121: 2.548124\n",
      "Loss after epoch=122: 2.544805\n",
      "Loss after epoch=123: 2.541487\n",
      "Loss after epoch=124: 2.538170\n",
      "Loss after epoch=125: 2.534855\n",
      "Loss after epoch=126: 2.531542\n",
      "Loss after epoch=127: 2.528229\n",
      "Loss after epoch=128: 2.524919\n",
      "Loss after epoch=129: 2.521609\n",
      "Loss after epoch=130: 2.518301\n",
      "Loss after epoch=131: 2.514994\n",
      "Loss after epoch=132: 2.511689\n",
      "Loss after epoch=133: 2.508385\n",
      "Loss after epoch=134: 2.505083\n",
      "Loss after epoch=135: 2.501782\n",
      "Loss after epoch=136: 2.498482\n",
      "Loss after epoch=137: 2.495184\n",
      "Loss after epoch=138: 2.491887\n",
      "Loss after epoch=139: 2.488592\n",
      "Loss after epoch=140: 2.485299\n",
      "Loss after epoch=141: 2.482006\n",
      "Loss after epoch=142: 2.478716\n",
      "Loss after epoch=143: 2.475427\n",
      "Loss after epoch=144: 2.472139\n",
      "Loss after epoch=145: 2.468853\n",
      "Loss after epoch=146: 2.465568\n",
      "Loss after epoch=147: 2.462285\n",
      "Loss after epoch=148: 2.459003\n",
      "Loss after epoch=149: 2.455723\n",
      "Loss after epoch=150: 2.452445\n",
      "Loss after epoch=151: 2.449168\n",
      "Loss after epoch=152: 2.445893\n",
      "Loss after epoch=153: 2.442619\n",
      "Loss after epoch=154: 2.439347\n",
      "Loss after epoch=155: 2.436076\n",
      "Loss after epoch=156: 2.432807\n",
      "Loss after epoch=157: 2.429540\n",
      "Loss after epoch=158: 2.426274\n",
      "Loss after epoch=159: 2.423010\n",
      "Loss after epoch=160: 2.419747\n",
      "Loss after epoch=161: 2.416486\n",
      "Loss after epoch=162: 2.413227\n",
      "Loss after epoch=163: 2.409970\n",
      "Loss after epoch=164: 2.406714\n",
      "Loss after epoch=165: 2.403459\n",
      "Loss after epoch=166: 2.400207\n",
      "Loss after epoch=167: 2.396956\n",
      "Loss after epoch=168: 2.393707\n",
      "Loss after epoch=169: 2.390459\n",
      "Loss after epoch=170: 2.387214\n",
      "Loss after epoch=171: 2.383970\n",
      "Loss after epoch=172: 2.380728\n",
      "Loss after epoch=173: 2.377487\n",
      "Loss after epoch=174: 2.374248\n",
      "Loss after epoch=175: 2.371011\n",
      "Loss after epoch=176: 2.367776\n",
      "Loss after epoch=177: 2.364543\n",
      "Loss after epoch=178: 2.361311\n",
      "Loss after epoch=179: 2.358081\n",
      "Loss after epoch=180: 2.354853\n",
      "Loss after epoch=181: 2.351627\n",
      "Loss after epoch=182: 2.348402\n",
      "Loss after epoch=183: 2.345180\n",
      "Loss after epoch=184: 2.341959\n",
      "Loss after epoch=185: 2.338740\n",
      "Loss after epoch=186: 2.335523\n",
      "Loss after epoch=187: 2.332308\n",
      "Loss after epoch=188: 2.329094\n",
      "Loss after epoch=189: 2.325883\n",
      "Loss after epoch=190: 2.322674\n",
      "Loss after epoch=191: 2.319466\n",
      "Loss after epoch=192: 2.316260\n",
      "Loss after epoch=193: 2.313056\n",
      "Loss after epoch=194: 2.309855\n",
      "Loss after epoch=195: 2.306655\n",
      "Loss after epoch=196: 2.303457\n",
      "Loss after epoch=197: 2.300261\n",
      "Loss after epoch=198: 2.297067\n",
      "Loss after epoch=199: 2.293874\n"
     ]
    }
   ],
   "source": [
    " Wx,Wh,Wy,losses = trainRNN(df,Wx,Wh,Wy,h0,0.001,200)"
   ]
  },
  {
   "cell_type": "code",
   "execution_count": 169,
   "metadata": {},
   "outputs": [],
   "source": [
    "# xF = vectorize(df['Message'][1])\n",
    "# for t in range(xF.shape[1]):\n",
    "#     print(xF[:,t]) # Coloumn\n",
    "#     print(\"\\n\")\n",
    "#     print(torch.from_numpy(xF[:,np.newaxis]).shape)"
   ]
  },
  {
   "cell_type": "code",
   "execution_count": 84,
   "metadata": {},
   "outputs": [],
   "source": [
    "r = df_small['Message'].iloc[2]\n",
    "y = df_small['Mode'].iloc[2]"
   ]
  },
  {
   "cell_type": "code",
   "execution_count": 85,
   "metadata": {},
   "outputs": [
    {
     "data": {
      "text/plain": [
       "'Or thank you'"
      ]
     },
     "execution_count": 85,
     "metadata": {},
     "output_type": "execute_result"
    }
   ],
   "source": [
    "r"
   ]
  },
  {
   "cell_type": "code",
   "execution_count": 86,
   "metadata": {},
   "outputs": [],
   "source": [
    "X = vectorize(r)"
   ]
  },
  {
   "cell_type": "code",
   "execution_count": 87,
   "metadata": {},
   "outputs": [],
   "source": [
    "y_hat = fullForwardRNN(X,Wx,Wh,Wy,h0) "
   ]
  },
  {
   "cell_type": "code",
   "execution_count": 88,
   "metadata": {},
   "outputs": [
    {
     "data": {
      "text/plain": [
       "tensor([[0.9778]], dtype=torch.float64, grad_fn=<SigmoidBackward>)"
      ]
     },
     "execution_count": 88,
     "metadata": {},
     "output_type": "execute_result"
    }
   ],
   "source": [
    "y_hat"
   ]
  },
  {
   "cell_type": "code",
   "execution_count": 89,
   "metadata": {},
   "outputs": [
    {
     "data": {
      "text/plain": [
       "'Positive'"
      ]
     },
     "execution_count": 89,
     "metadata": {},
     "output_type": "execute_result"
    }
   ],
   "source": [
    "y"
   ]
  },
  {
   "cell_type": "markdown",
   "metadata": {},
   "source": [
    "## RNN using pytorch"
   ]
  },
  {
   "cell_type": "code",
   "execution_count": 90,
   "metadata": {},
   "outputs": [],
   "source": [
    "import numpy as np\n",
    "import torch\n",
    "import torch.nn as nn\n",
    "import torch.optim as optim\n",
    "from torch.utils.data import Dataset, DataLoader"
   ]
  },
  {
   "cell_type": "code",
   "execution_count": null,
   "metadata": {},
   "outputs": [],
   "source": []
  }
 ],
 "metadata": {
  "kernelspec": {
   "display_name": "Python 3",
   "language": "python",
   "name": "python3"
  },
  "language_info": {
   "codemirror_mode": {
    "name": "ipython",
    "version": 3
   },
   "file_extension": ".py",
   "mimetype": "text/x-python",
   "name": "python",
   "nbconvert_exporter": "python",
   "pygments_lexer": "ipython3",
   "version": "3.7.1"
  }
 },
 "nbformat": 4,
 "nbformat_minor": 4
}
