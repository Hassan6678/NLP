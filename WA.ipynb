{
  "nbformat": 4,
  "nbformat_minor": 0,
  "metadata": {
    "interpreter": {
      "hash": "bd76af128d7c40b48583a811a9c1879190eadb08cc3a308c5c2f1ddbc04e5a8b"
    },
    "kernelspec": {
      "display_name": "Python 3.7.1 64-bit (system)",
      "name": "python3"
    },
    "language_info": {
      "codemirror_mode": {
        "name": "ipython",
        "version": 3
      },
      "file_extension": ".py",
      "mimetype": "text/x-python",
      "name": "python",
      "nbconvert_exporter": "python",
      "pygments_lexer": "ipython3",
      "version": "3.7.1"
    },
    "orig_nbformat": 4,
    "colab": {
      "name": "WA.ipynb",
      "provenance": [],
      "include_colab_link": true
    }
  },
  "cells": [
    {
      "cell_type": "markdown",
      "metadata": {
        "id": "view-in-github",
        "colab_type": "text"
      },
      "source": [
        "<a href=\"https://colab.research.google.com/github/Hassan6678/NLP/blob/main/WA.ipynb\" target=\"_parent\"><img src=\"https://colab.research.google.com/assets/colab-badge.svg\" alt=\"Open In Colab\"/></a>"
      ]
    },
    {
      "cell_type": "markdown",
      "metadata": {
        "id": "8zLUOHceNsm3"
      },
      "source": [
        "# RNN (Sentimental Analysis for whatsapp Chat)\n",
        "## (Roman Urdu)"
      ]
    },
    {
      "cell_type": "markdown",
      "metadata": {
        "id": "r65BAtMmNsnC"
      },
      "source": [
        "### Import all required libraries"
      ]
    },
    {
      "cell_type": "code",
      "metadata": {
        "id": "StkOJf-iNsnD"
      },
      "source": [
        "import warnings\n",
        "warnings.filterwarnings('ignore')\n",
        "import pandas as pd\n",
        "import tensorflow as tf\n",
        "import re\n",
        "import numpy as np\n",
        "from sklearn.model_selection import train_test_split\n",
        "import matplotlib.pyplot as plt\n",
        "\n",
        "from keras.models import Sequential, load_model\n",
        "from keras.layers import Dense, LSTM, Embedding, Dropout, Bidirectional\n",
        "from keras.preprocessing.text import Tokenizer\n",
        "from keras.preprocessing.sequence import pad_sequences\n"
      ],
      "execution_count": null,
      "outputs": []
    },
    {
      "cell_type": "markdown",
      "metadata": {
        "id": "34qaGeWYNsnG"
      },
      "source": [
        "## Read Dataset and Show all Unique Class count"
      ]
    },
    {
      "cell_type": "code",
      "metadata": {
        "colab": {
          "base_uri": "https://localhost:8080/"
        },
        "id": "2ots0fN1NsnI",
        "outputId": "82671f2d-bbc8-477a-8042-a34c040fee27"
      },
      "source": [
        "dataset = pd.read_csv('Whatsapp_chat.csv', usecols=[0,1])\n",
        "#dataset = dataset[dataset['Mode'].isin(['Positive', 'Negative'])]\n",
        "dataset[\"Mode\"].value_counts()"
      ],
      "execution_count": null,
      "outputs": [
        {
          "output_type": "execute_result",
          "data": {
            "text/plain": [
              "Neutral     8929\n",
              "Positive    6013\n",
              "Negative    5287\n",
              "Name: Mode, dtype: int64"
            ]
          },
          "metadata": {},
          "execution_count": 2
        }
      ]
    },
    {
      "cell_type": "code",
      "metadata": {
        "id": "lpPQgoczNsnJ"
      },
      "source": [
        "data_pos = dataset[dataset['Mode'] == 'Positive'].iloc[:5000]\n",
        "data_neg = dataset[dataset['Mode'] == 'Negative'].iloc[:5000]\n",
        "data_neu = dataset[dataset['Mode'] == 'Neutral'].iloc[:5000]\n",
        "\n",
        "dataset = pd.concat([data_pos,data_neg,data_neu])\n",
        "\n",
        "dataset = dataset.reset_index(drop=True)"
      ],
      "execution_count": null,
      "outputs": []
    },
    {
      "cell_type": "code",
      "metadata": {
        "id": "uZXJI1sPNsnM"
      },
      "source": [
        "## Cleaning Process\n",
        "data=[]\n",
        "stopwords=['ai', 'ayi', 'hy', 'hai', 'main', 'ki', 'tha', 'koi', 'ko', 'sy', 'woh', 'bhi', 'aur', 'wo', 'yeh', 'rha', 'hota', 'ho', 'ga', 'ka', 'le', 'lye', 'kr', 'kar', 'lye', 'liye', 'hotay', 'waisay', 'gya', 'gaya', 'kch', 'ab', 'thy', 'thay', 'houn', 'hain', 'han', 'to', 'is', 'hi', 'jo', 'kya', 'thi', 'se', 'pe', 'phr', 'wala', 'waisay', 'us', 'na', 'ny', 'hun', 'rha', 'raha', 'ja', 'rahay', 'abi', 'uski', 'ne', 'haan', 'nai', 'sent', 'aj', 'you', 'gai', 'rhy', 'kuch', 'jata', 'aye', 'ya', 'dono', 'hoa', 'aese', 'de', 'wohi', 'jati', 'jb', 'krta', 'lg', 'rahi', 'hui', 'karna', 'krna', 'gi', 'hova', 'yehi', 'jana', 'jye', 'chal', 'mil', 'tu', 'hum', 'par', 'hay', 'kis', 'sb', 'gy', 'dain', 'krny', 'tou']\n",
        "for i in range(dataset.shape[0]):\n",
        "    message = (re.sub('[^a-zA-Z]',' ',str(dataset.iloc[:,0].values[i]))).lower().split()\n",
        "    message = [word for word in message if not word in stopwords]\n",
        "    message = ' '.join(message)\n",
        "    data.append(message)"
      ],
      "execution_count": null,
      "outputs": []
    },
    {
      "cell_type": "code",
      "metadata": {
        "colab": {
          "base_uri": "https://localhost:8080/"
        },
        "id": "8tZMQDbsNsnQ",
        "outputId": "c1575fe2-4a76-4375-a949-5f13ee396e54"
      },
      "source": [
        "## The parameter in Keras Tokenizer \"number_words\" return the ids of the most 5000 frequent words\n",
        "## By default the tokenizer split on base space \" \"\n",
        "tokenizer = Tokenizer(num_words=5000, split=\" \")\n",
        "tokenizer.fit_on_texts(data)\n",
        "X = tokenizer.texts_to_sequences(data)\n",
        "print(\"Total Tokens in Data: \",len(tokenizer.word_index))\n",
        "X = pad_sequences(X) # padding our text vector so they all have the same length (maximum lenth sub_list in list array)\n",
        "\n",
        "# maxList = max(X, key = lambda i: len(i))\n",
        "# maxLength = len(maxList)\n",
        "maxLength = len(X[0])"
      ],
      "execution_count": null,
      "outputs": [
        {
          "output_type": "stream",
          "name": "stdout",
          "text": [
            "Total Tokens in Data:  27471\n"
          ]
        }
      ]
    },
    {
      "cell_type": "code",
      "metadata": {
        "id": "2x9MEacENsnS"
      },
      "source": [
        "model = Sequential()\n",
        "model.add(Embedding(5000, 256, input_length=X.shape[1]))\n",
        "model.add(Dropout(0.3))\n",
        "model.add(Bidirectional(LSTM(256, return_sequences=True, dropout=0.3, recurrent_dropout=0.2)))\n",
        "model.add(Bidirectional(LSTM(256, dropout=0.3, recurrent_dropout=0.2)))\n",
        "model.add(Dense(3, activation='softmax'))"
      ],
      "execution_count": null,
      "outputs": []
    },
    {
      "cell_type": "code",
      "metadata": {
        "colab": {
          "base_uri": "https://localhost:8080/"
        },
        "id": "H8PINwH9NsnU",
        "outputId": "7db1ff83-42a1-474e-a86a-aca20ee54208"
      },
      "source": [
        "model.compile(loss='categorical_crossentropy', optimizer='adam', metrics=['accuracy'])\n",
        "model.summary()"
      ],
      "execution_count": null,
      "outputs": [
        {
          "output_type": "stream",
          "name": "stdout",
          "text": [
            "Model: \"sequential_2\"\n",
            "_________________________________________________________________\n",
            "Layer (type)                 Output Shape              Param #   \n",
            "=================================================================\n",
            "embedding_2 (Embedding)      (None, 188, 256)          1280000   \n",
            "_________________________________________________________________\n",
            "dropout_2 (Dropout)          (None, 188, 256)          0         \n",
            "_________________________________________________________________\n",
            "bidirectional (Bidirectional (None, 188, 512)          1050624   \n",
            "_________________________________________________________________\n",
            "bidirectional_1 (Bidirection (None, 512)               1574912   \n",
            "_________________________________________________________________\n",
            "dense_1 (Dense)              (None, 3)                 1539      \n",
            "=================================================================\n",
            "Total params: 3,907,075\n",
            "Trainable params: 3,907,075\n",
            "Non-trainable params: 0\n",
            "_________________________________________________________________\n"
          ]
        }
      ]
    },
    {
      "cell_type": "code",
      "metadata": {
        "id": "_-pb3DX2NsnV"
      },
      "source": [
        "y = pd.get_dummies(dataset['Mode']).values\n",
        "\n",
        "#[print(dataset['Mode'][i], y[i]) for i in range(12000,1200)]\n",
        "\n",
        "# Positive [0 0 1]\n",
        "# Neutral [0 1 0]\n",
        "# Negative [1 0 0]"
      ],
      "execution_count": null,
      "outputs": []
    },
    {
      "cell_type": "code",
      "metadata": {
        "id": "1TJuJcOgNsnW"
      },
      "source": [
        "X_train, X_test, y_train, y_test = train_test_split(X, y, test_size=0.3, random_state=42)"
      ],
      "execution_count": null,
      "outputs": []
    },
    {
      "cell_type": "code",
      "metadata": {
        "colab": {
          "base_uri": "https://localhost:8080/"
        },
        "id": "fGetjwwCNsnX",
        "outputId": "b5012bea-2d29-46b5-fe27-312a1dd29ec1"
      },
      "source": [
        "batch_size = 128\n",
        "epochs = 8\n",
        "\n",
        "history = model.fit(X_train, y_train, epochs=epochs, batch_size=batch_size, verbose=1)"
      ],
      "execution_count": null,
      "outputs": [
        {
          "output_type": "stream",
          "name": "stdout",
          "text": [
            "Epoch 1/8\n",
            "83/83 [==============================] - 548s 7s/step - loss: 0.9983 - accuracy: 0.5023\n",
            "Epoch 2/8\n",
            "83/83 [==============================] - 541s 7s/step - loss: 0.7326 - accuracy: 0.6840\n",
            "Epoch 3/8\n",
            "83/83 [==============================] - 538s 6s/step - loss: 0.5854 - accuracy: 0.7598\n",
            "Epoch 4/8\n",
            "83/83 [==============================] - 534s 6s/step - loss: 0.5035 - accuracy: 0.8002\n",
            "Epoch 5/8\n",
            "83/83 [==============================] - 531s 6s/step - loss: 0.4469 - accuracy: 0.8195\n",
            "Epoch 6/8\n",
            "83/83 [==============================] - 533s 6s/step - loss: 0.3827 - accuracy: 0.8470\n",
            "Epoch 7/8\n",
            "83/83 [==============================] - 534s 6s/step - loss: 0.3422 - accuracy: 0.8649\n",
            "Epoch 8/8\n",
            "83/83 [==============================] - 532s 6s/step - loss: 0.2951 - accuracy: 0.8871\n"
          ]
        }
      ]
    },
    {
      "cell_type": "code",
      "metadata": {
        "id": "1LWa9Sq5NsnY"
      },
      "source": [
        "model.save('8_sentiment_analysis.h5')"
      ],
      "execution_count": null,
      "outputs": []
    },
    {
      "cell_type": "code",
      "metadata": {
        "id": "hOimXzmtNsnY"
      },
      "source": [
        "predictions = model.predict(X_test)"
      ],
      "execution_count": null,
      "outputs": []
    },
    {
      "cell_type": "code",
      "metadata": {
        "colab": {
          "base_uri": "https://localhost:8080/"
        },
        "id": "KIpRO-eQjNwF",
        "outputId": "656b8b63-211b-4a55-c3ed-b23ab34a4d28"
      },
      "source": [
        "[print(dataset['Message'][i], predictions[i], y_test[i]) for i in range(0, 5)]"
      ],
      "execution_count": null,
      "outputs": [
        {
          "output_type": "stream",
          "name": "stdout",
          "text": [
            "Sai kha ya her kisi kay bus ki bat nhi hai lakin main ki hal kal bi Aj aur aj bi sirf Aus say bus [0.17270865 0.62243557 0.20485581] [0 1 0]\n",
            "sahi bt h [0.02946191 0.7973849  0.17315312] [1 0 0]\n",
            "Kya bt hai, [0.03004375 0.4106755  0.55928075] [0 1 0]\n",
            "Wah je wah [0.7285259  0.23632066 0.03515355] [0 0 1]\n",
            "Are wha kaya bat hai [0.99768543 0.0011167  0.00119785] [1 0 0]\n"
          ]
        },
        {
          "output_type": "execute_result",
          "data": {
            "text/plain": [
              "[None, None, None, None, None]"
            ]
          },
          "metadata": {},
          "execution_count": 28
        }
      ]
    },
    {
      "cell_type": "code",
      "metadata": {
        "id": "XeU03R26NsnZ",
        "outputId": "40a01ce0-e96f-4d03-96e9-befae861bd1e"
      },
      "source": [
        "pos_count, neu_count, neg_count = 0, 0, 0\n",
        "real_pos, real_neu, real_neg = 0, 0, 0\n",
        "for i, prediction in enumerate(predictions):\n",
        "    if np.argmax(prediction)==2:\n",
        "        pos_count += 1\n",
        "    elif np.argmax(prediction)==1:\n",
        "        neu_count += 1\n",
        "    else:\n",
        "        neg_count += 1\n",
        "    \n",
        "    if np.argmax(y_test[i])==2:\n",
        "        real_pos += 1\n",
        "    elif np.argmax(y_test[i])==1:    \n",
        "        real_neu += 1\n",
        "    else:\n",
        "        real_neg +=1\n",
        "\n",
        "print('Positive predictions:', pos_count)\n",
        "print('Neutral predictions:', neu_count)\n",
        "print('Negative predictions:', neg_count)\n",
        "print('Real positive:', real_pos)\n",
        "print('Real neutral:', real_neu)\n",
        "print('Real negative:', real_neg)"
      ],
      "execution_count": null,
      "outputs": [
        {
          "name": "stdout",
          "output_type": "stream",
          "text": [
            "Positive predictions: 1120\n",
            "Neutral predictions: 1835\n",
            "Negative predictions: 1091\n",
            "Real positive: 1182\n",
            "Real neutral: 1832\n",
            "Real negative: 1032\n"
          ]
        }
      ]
    },
    {
      "cell_type": "code",
      "metadata": {
        "colab": {
          "base_uri": "https://localhost:8080/",
          "height": 573
        },
        "id": "q5EHY6D4Nsnd",
        "outputId": "56b6c9bb-b39e-420f-9dc8-0557ee18fc00"
      },
      "source": [
        "import matplotlib.pyplot as plt\n",
        "plt.plot(history.history['accuracy'])\n",
        "#plt.plot(history.history['val_accuracy'])\n",
        "\n",
        "plt.title('model accuracy')\n",
        "plt.ylabel('accuracy')\n",
        "plt.xlabel('epoch')\n",
        "plt.legend(['train','test'], loc='upper left')\n",
        "plt.show()\n",
        "\n",
        "plt.plot(history.history['loss'])\n",
        "#plt.plot(history.history['val_loss'])\n",
        "\n",
        "plt.title('model loss')\n",
        "plt.ylabel('loss')\n",
        "plt.xlabel('epoch')\n",
        "plt.legend(['train','test'], loc='upper left')\n",
        "plt.show()"
      ],
      "execution_count": null,
      "outputs": [
        {
          "output_type": "display_data",
          "data": {
            "image/png": "[encoded data removed]",
            "text/plain": [
              "<Figure size 432x288 with 1 Axes>"
            ]
          },
          "metadata": {
            "needs_background": "light"
          }
        },
        {
          "output_type": "display_data",
          "data": {
            "image/png": "[encoded data removed]",
            "text/plain": [
              "<Figure size 432x288 with 1 Axes>"
            ]
          },
          "metadata": {
            "needs_background": "light"
          }
        }
      ]
    },
    {
      "cell_type": "code",
      "metadata": {
        "id": "clFWaszBNsne"
      },
      "source": [
        "#import tensorflow as tf\n",
        "new_model = load_model('10_sentiment_analysis.h5')"
      ],
      "execution_count": null,
      "outputs": []
    },
    {
      "cell_type": "code",
      "metadata": {
        "colab": {
          "base_uri": "https://localhost:8080/"
        },
        "id": "hEvQVaWoNsne",
        "outputId": "99d91ac2-ad45-44c3-db9e-5d5fcd14a7aa"
      },
      "source": [
        "#/* ~~~~~~~~~~~ Model Predict User Input ~~~~~~~~~~~~ */\n",
        "new_text = ['Wah je Waah, kya bat han', 'Lanat hy police walo py 😒', 'ye galt bat ha']\n",
        "seq = tokenizer.texts_to_sequences(new_text)\n",
        "padded = pad_sequences(seq, maxlen=maxLength)\n",
        "for case in range(len(seq)):  \n",
        "  pred = model.predict(padded[[case]])\n",
        "  labels = ['Negative', 'Neutral', 'Positive']\n",
        "  print(pred, labels[np.argmax(pred)])"
      ],
      "execution_count": null,
      "outputs": [
        {
          "output_type": "stream",
          "name": "stdout",
          "text": [
            "[[0.01385092 0.24622251 0.7399266 ]] Positive\n",
            "[[9.9993777e-01 3.5023135e-05 2.7193659e-05]] Negative\n",
            "[[0.95854753 0.0176667  0.02378579]] Negative\n"
          ]
        }
      ]
    },
    {
      "cell_type": "code",
      "metadata": {
        "id": "sJwbZcmZNsnf"
      },
      "source": [
        "def startsWithDateAndTime(s):\n",
        "    pattern = '[0-9]{2}/[0-9]{2}/[0-9]{4}' # for New Group settings\n",
        "    result = re.match(pattern, s)\n",
        "    if result:\n",
        "        return True\n",
        "    return False"
      ],
      "execution_count": null,
      "outputs": []
    },
    {
      "cell_type": "code",
      "metadata": {
        "id": "Z1VL4WZaNsnf"
      },
      "source": [
        "def getDataPoint(line):   \n",
        "    splitLine = line.split(' - ') \n",
        "    dateTime = splitLine[0]\n",
        "    date, time = dateTime.split(', ') \n",
        "    message = ' '.join(splitLine[1:])\n",
        "    splitMessage = message.split(': ') \n",
        "    author = splitMessage[0] \n",
        "    message = ' '.join(splitMessage[1:])\n",
        "    return date, time, author, message"
      ],
      "execution_count": null,
      "outputs": []
    },
    {
      "cell_type": "code",
      "metadata": {
        "colab": {
          "base_uri": "https://localhost:8080/"
        },
        "id": "PdQtp3yINsng",
        "outputId": "a6aa38e6-12a1-4bd8-b4df-c9082b469927"
      },
      "source": [
        "parsedData = [] # List to keep track of data so it can be used by a Pandas dataframe\n",
        "### Uploading exported chat file\n",
        "conversationPath = 'chat_with_Shakir.txt' # chat file\n",
        "with open(conversationPath, encoding=\"utf-8\") as fp:\n",
        "    ### Skipping first line of the file because contains information related to something about end-to-end encryption\n",
        "    fp.readline()\n",
        "    \n",
        "    messageBuffer = [] \n",
        "    date, time, author = None, None, None\n",
        "    while True:\n",
        "        line = fp.readline()\n",
        "        #print(line)\n",
        "        if not line: \n",
        "            break\n",
        "        line = line.strip() \n",
        "        if startsWithDateAndTime(line):\n",
        "            #print('..........')\n",
        "            if len(messageBuffer) > 0:\n",
        "                parsedData.append([date, time, author, ' '.join(messageBuffer)]) \n",
        "            messageBuffer.clear() \n",
        "            date, time, author, message = getDataPoint(line) \n",
        "            messageBuffer.append(message) \n",
        "        else:\n",
        "            messageBuffer.append(line)\n",
        "    \n",
        "print(len(parsedData))\n",
        "\n",
        "SHChat = pd.DataFrame(parsedData, columns=['Date', 'Time', 'Author', 'Message']) # Initialising a pandas Dataframe.\n",
        "SHChat[\"Date\"] = pd.to_datetime(SHChat[\"Date\"])"
      ],
      "execution_count": null,
      "outputs": [
        {
          "output_type": "stream",
          "name": "stdout",
          "text": [
            "339\n"
          ]
        }
      ]
    },
    {
      "cell_type": "code",
      "metadata": {
        "id": "1CoOk_Q-Nsng"
      },
      "source": [
        "# Data Cleaning process \n",
        "### Counting number of letters in each message\n",
        "SHChat['Words'] = SHChat['Message'].apply(lambda s : len(s.split(' ')))\n",
        "SHChat = SHChat[SHChat['Message'] != '<Media omitted>']\n",
        "SHChat = SHChat[SHChat['Words'] != 1]\n"
      ],
      "execution_count": null,
      "outputs": []
    },
    {
      "cell_type": "code",
      "metadata": {
        "id": "qAhxHCrzNsnh"
      },
      "source": [
        "Hassan_Chat = SHChat[SHChat['Author'] == 'HR']\n",
        "Shakir_Chat = SHChat[SHChat['Author'] == 'Shakir MS_27']"
      ],
      "execution_count": null,
      "outputs": []
    },
    {
      "cell_type": "code",
      "metadata": {
        "colab": {
          "base_uri": "https://localhost:8080/"
        },
        "id": "hhRjiIENNsnh",
        "outputId": "68d12606-ba76-4ca4-b4bf-8cd63e0f6466"
      },
      "source": [
        "Hassan_msg = Hassan_Chat['Message'].to_list()\n",
        "Shakir_msg = Shakir_Chat['Message'].to_list()\n",
        "def pred_arr(msg):\n",
        "  seq = tokenizer.texts_to_sequences(msg)\n",
        "  padded = pad_sequences(seq, maxlen=maxLength)\n",
        "\n",
        "  pos_count, neu_count, neg_count = 0, 0, 0\n",
        "  for case in range(len(seq)):\n",
        "    #print(Hassan_message[case])\n",
        "    pred = model.predict(padded[[case]])\n",
        "    labels = ['Negative', 'Neutral', 'Positive']\n",
        "    #print(pred, labels[np.argmax(pred)])\n",
        "    if np.argmax(pred)==2:\n",
        "        pos_count += 1\n",
        "    elif np.argmax(pred)==1:\n",
        "        neu_count += 1\n",
        "    else:\n",
        "        neg_count += 1\n",
        "\n",
        "  print('Positive predictions:', pos_count)\n",
        "  print('Neutral predictions:', neu_count)\n",
        "  print('Negative predictions:', neg_count)\n",
        "\n",
        "  p = [neg_count, neu_count, pos_count]\n",
        "  return p\n",
        "\n",
        "data1 = np.array(pred_arr(Hassan_msg))\n",
        "data2 = np.array(pred_arr(Shakir_msg))"
      ],
      "execution_count": null,
      "outputs": [
        {
          "output_type": "stream",
          "name": "stdout",
          "text": [
            "Positive predictions: 16\n",
            "Neutral predictions: 58\n",
            "Negative predictions: 66\n",
            "Positive predictions: 20\n",
            "Neutral predictions: 48\n",
            "Negative predictions: 45\n"
          ]
        }
      ]
    },
    {
      "cell_type": "code",
      "metadata": {
        "colab": {
          "base_uri": "https://localhost:8080/",
          "height": 195
        },
        "id": "JCHJhr0_Nsnh",
        "outputId": "a44710d9-d9b7-439b-c23b-d52c0feaff90"
      },
      "source": [
        "myexplode = [0.1, 0.1, 0.1]\n",
        "\n",
        "# create a figure with two subplots\n",
        "fig, (ax1, ax2) = plt.subplots(1, 2)\n",
        "\n",
        "ax1.pie(data1, # Values\n",
        "        labels = labels, # Labels for each sections\n",
        "        explode = myexplode, # To slice the perticuler section\n",
        "        autopct = \"%0.2f%%\", # Show data in persentage for with 2 decimal point\n",
        "        shadow = True, # Showing shadow of pie chart\n",
        "        radius = 1.2, # Radius to increase or decrease the size of pie chart \n",
        "        startangle = 270, # Start angle of first section\n",
        "        )\n",
        "ax2.pie(data2, # Values\n",
        "        labels = labels, # Labels for each sections\n",
        "        explode = myexplode, # To slice the perticuler section\n",
        "        autopct = \"%0.2f%%\", # Show data in persentage for with 2 decimal point\n",
        "        shadow = True, # Showing shadow of pie chart\n",
        "        radius = 1.2, # Radius to increase or decrease the size of pie chart \n",
        "        startangle = 270, # Start angle of first section\n",
        "        )\n",
        "plt.show()"
      ],
      "execution_count": null,
      "outputs": [
        {
          "output_type": "display_data",
          "data": {
            "image/png": "[encoded data removed]",
            "text/plain": [
              "<Figure size 432x288 with 2 Axes>"
            ]
          },
          "metadata": {}
        }
      ]
    },
    {
      "cell_type": "code",
      "metadata": {
        "id": "tPe700GDNsni"
      },
      "source": [
        ""
      ],
      "execution_count": null,
      "outputs": []
    },
    {
      "cell_type": "code",
      "metadata": {
        "id": "iOcmOUQdNsni"
      },
      "source": [
        ""
      ],
      "execution_count": null,
      "outputs": []
    },
    {
      "cell_type": "code",
      "metadata": {
        "id": "p_QuTK4fNsni"
      },
      "source": [
        ""
      ],
      "execution_count": null,
      "outputs": []
    },
    {
      "cell_type": "code",
      "metadata": {
        "id": "Uufpx_XPNsni"
      },
      "source": [
        ""
      ],
      "execution_count": null,
      "outputs": []
    }
  ]
}