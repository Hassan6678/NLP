{
 "cells": [
  {
   "cell_type": "markdown",
   "source": [
    "### Import Required Libraries"
   ],
   "metadata": {}
  },
  {
   "cell_type": "code",
   "execution_count": 17,
   "source": [
    "import pandas as pd\r\n",
    "import numpy as np\r\n",
    "import re\r\n"
   ],
   "outputs": [],
   "metadata": {}
  },
  {
   "cell_type": "markdown",
   "source": [
    "#### READ DATA_SET"
   ],
   "metadata": {}
  },
  {
   "cell_type": "code",
   "execution_count": 50,
   "source": [
    "df = pd.read_csv(r'./RomanUrduDataset/Roman Urdu DataSet.csv', usecols=[0])\r\n",
    "df.head(5)"
   ],
   "outputs": [
    {
     "output_type": "execute_result",
     "data": {
      "text/html": [
       "<div>\n",
       "<style scoped>\n",
       "    .dataframe tbody tr th:only-of-type {\n",
       "        vertical-align: middle;\n",
       "    }\n",
       "\n",
       "    .dataframe tbody tr th {\n",
       "        vertical-align: top;\n",
       "    }\n",
       "\n",
       "    .dataframe thead th {\n",
       "        text-align: right;\n",
       "    }\n",
       "</style>\n",
       "<table border=\"1\" class=\"dataframe\">\n",
       "  <thead>\n",
       "    <tr style=\"text-align: right;\">\n",
       "      <th></th>\n",
       "      <th>Comment</th>\n",
       "    </tr>\n",
       "  </thead>\n",
       "  <tbody>\n",
       "    <tr>\n",
       "      <th>0</th>\n",
       "      <td>Sai kha ya her kisi kay bus ki bat nhi hai lak...</td>\n",
       "    </tr>\n",
       "    <tr>\n",
       "      <th>1</th>\n",
       "      <td>sahi bt h</td>\n",
       "    </tr>\n",
       "    <tr>\n",
       "      <th>2</th>\n",
       "      <td>Kya bt hai,</td>\n",
       "    </tr>\n",
       "    <tr>\n",
       "      <th>3</th>\n",
       "      <td>Wah je wah</td>\n",
       "    </tr>\n",
       "    <tr>\n",
       "      <th>4</th>\n",
       "      <td>Are wha kaya bat hai</td>\n",
       "    </tr>\n",
       "  </tbody>\n",
       "</table>\n",
       "</div>"
      ],
      "text/plain": [
       "                                             Comment\n",
       "0  Sai kha ya her kisi kay bus ki bat nhi hai lak...\n",
       "1                                          sahi bt h\n",
       "2                                        Kya bt hai,\n",
       "3                                         Wah je wah\n",
       "4                               Are wha kaya bat hai"
      ]
     },
     "metadata": {},
     "execution_count": 50
    }
   ],
   "metadata": {}
  },
  {
   "cell_type": "code",
   "execution_count": 53,
   "source": [
    "# Need a python Library here to support excel file.... installing\r\n",
    "# !pip install xlrd\r\n",
    "# After that face error .... \r\n",
    "'''Your version of xlrd is 2.0.1. In xlrd >= 2.0, only the xls format is supported. Install openpyxl instead'''\r\n",
    "# !pip install openpyxl"
   ],
   "outputs": [
    {
     "output_type": "stream",
     "name": "stdout",
     "text": [
      "Collecting openpyxl\n",
      "  Downloading openpyxl-3.0.7-py2.py3-none-any.whl (243 kB)\n",
      "Collecting et-xmlfile\n",
      "  Downloading et_xmlfile-1.1.0-py3-none-any.whl (4.7 kB)\n",
      "Installing collected packages: et-xmlfile, openpyxl\n",
      "Successfully installed et-xmlfile-1.1.0 openpyxl-3.0.7\n"
     ]
    },
    {
     "output_type": "stream",
     "name": "stderr",
     "text": [
      "WARNING: You are using pip version 21.1.2; however, version 21.1.3 is available.\n",
      "You should consider upgrading via the 'c:\\users\\hassan raza\\appdata\\local\\programs\\python\\python37\\python.exe -m pip install --upgrade pip' command.\n"
     ]
    }
   ],
   "metadata": {}
  },
  {
   "cell_type": "code",
   "execution_count": 75,
   "source": [
    "xls = pd.ExcelFile(r'./RomanUrduDataset/HS-RU-20.xlsx')\r\n",
    "df_2 = pd.read_excel(xls, 'NeutralHostile', usecols=[0])\r\n",
    "df_3 = pd.read_excel(xls, 'HateOffensive', usecols=[0])\r\n",
    "#df_2 = pd.read_excel(r'./RomanUrduDataset/HS-RU-20.xlsx', usecols=[0])\r\n",
    "df_3"
   ],
   "outputs": [
    {
     "output_type": "execute_result",
     "data": {
      "text/html": [
       "<div>\n",
       "<style scoped>\n",
       "    .dataframe tbody tr th:only-of-type {\n",
       "        vertical-align: middle;\n",
       "    }\n",
       "\n",
       "    .dataframe tbody tr th {\n",
       "        vertical-align: top;\n",
       "    }\n",
       "\n",
       "    .dataframe thead th {\n",
       "        text-align: right;\n",
       "    }\n",
       "</style>\n",
       "<table border=\"1\" class=\"dataframe\">\n",
       "  <thead>\n",
       "    <tr style=\"text-align: right;\">\n",
       "      <th></th>\n",
       "      <th>Sentence</th>\n",
       "    </tr>\n",
       "  </thead>\n",
       "  <tbody>\n",
       "    <tr>\n",
       "      <th>0</th>\n",
       "      <td>kya mein bhooka hon? kutia ab tum ney ye pooch...</td>\n",
       "    </tr>\n",
       "    <tr>\n",
       "      <th>1</th>\n",
       "      <td>khawateen ghaas ki tarah hain, inhen baqaidagi...</td>\n",
       "    </tr>\n",
       "    <tr>\n",
       "      <th>2</th>\n",
       "      <td>Afghani dehshat gard hotay hain</td>\n",
       "    </tr>\n",
       "    <tr>\n",
       "      <th>3</th>\n",
       "      <td>tamam sarkari hukkaam chor hain</td>\n",
       "    </tr>\n",
       "    <tr>\n",
       "      <th>4</th>\n",
       "      <td>yeh mohabbat nahi hai kutia</td>\n",
       "    </tr>\n",
       "    <tr>\n",
       "      <th>...</th>\n",
       "      <td>...</td>\n",
       "    </tr>\n",
       "    <tr>\n",
       "      <th>3565</th>\n",
       "      <td>social media per police ko gaaliyan denay wala...</td>\n",
       "    </tr>\n",
       "    <tr>\n",
       "      <th>3566</th>\n",
       "      <td>ye ahmeq buzdil hein</td>\n",
       "    </tr>\n",
       "    <tr>\n",
       "      <th>3567</th>\n",
       "      <td>ye hakumat ghareb dushman hai</td>\n",
       "    </tr>\n",
       "    <tr>\n",
       "      <th>3568</th>\n",
       "      <td>jahaz ke pilots aisey bharti kiye gaye jesay j...</td>\n",
       "    </tr>\n",
       "    <tr>\n",
       "      <th>3569</th>\n",
       "      <td>puraman talba ko giraftar kerna intehai sharam...</td>\n",
       "    </tr>\n",
       "  </tbody>\n",
       "</table>\n",
       "<p>3570 rows × 1 columns</p>\n",
       "</div>"
      ],
      "text/plain": [
       "                                               Sentence\n",
       "0     kya mein bhooka hon? kutia ab tum ney ye pooch...\n",
       "1     khawateen ghaas ki tarah hain, inhen baqaidagi...\n",
       "2                       Afghani dehshat gard hotay hain\n",
       "3                       tamam sarkari hukkaam chor hain\n",
       "4                           yeh mohabbat nahi hai kutia\n",
       "...                                                 ...\n",
       "3565  social media per police ko gaaliyan denay wala...\n",
       "3566                               ye ahmeq buzdil hein\n",
       "3567                      ye hakumat ghareb dushman hai\n",
       "3568  jahaz ke pilots aisey bharti kiye gaye jesay j...\n",
       "3569  puraman talba ko giraftar kerna intehai sharam...\n",
       "\n",
       "[3570 rows x 1 columns]"
      ]
     },
     "metadata": {},
     "execution_count": 75
    }
   ],
   "metadata": {}
  },
  {
   "cell_type": "code",
   "execution_count": 77,
   "source": [
    "# Convert Dataframe into String format\r\n",
    "data_1 = df.to_string()\r\n",
    "data_2 = df_2.to_string()\r\n",
    "data_3 = df_3.to_string()\r\n",
    "\r\n",
    "data = (data_1.__add__(data_2)).__add__(data_3)\r\n"
   ],
   "outputs": [],
   "metadata": {}
  },
  {
   "cell_type": "code",
   "execution_count": 78,
   "source": [
    "print(len(data_1))\r\n",
    "print(len(data_2))\r\n",
    "print(len(data_3))\r\n",
    "print(len(data))"
   ],
   "outputs": [
    {
     "output_type": "stream",
     "name": "stdout",
     "text": [
      "29660174\n",
      "1295258\n",
      "924888\n",
      "31880320\n"
     ]
    }
   ],
   "metadata": {}
  },
  {
   "cell_type": "code",
   "execution_count": 79,
   "source": [
    "corpus_list = re.split('\\W+',data) "
   ],
   "outputs": [],
   "metadata": {}
  },
  {
   "cell_type": "code",
   "execution_count": 80,
   "source": [
    "print(corpus_list[:10])\r\n",
    "len(corpus_list)"
   ],
   "outputs": [
    {
     "output_type": "stream",
     "name": "stdout",
     "text": [
      "['', 'Comment', '0', 'Sai', 'kha', 'ya', 'her', 'kisi', 'kay', 'bus']\n"
     ]
    },
    {
     "output_type": "execute_result",
     "data": {
      "text/plain": [
       "354237"
      ]
     },
     "metadata": {},
     "execution_count": 80
    }
   ],
   "metadata": {}
  },
  {
   "cell_type": "code",
   "execution_count": 89,
   "source": [
    "cutOffValue = 3\r\n",
    "from collections import defaultdict\r\n",
    "frequency = defaultdict(int)\r\n",
    "for token in corpus_list:\r\n",
    "    frequency[token] += 1\r\n",
    "processedCorpus_list = [token for token in corpus_list \r\n",
    "                        if frequency[token] >= cutOffValue]"
   ],
   "outputs": [],
   "metadata": {}
  },
  {
   "cell_type": "code",
   "execution_count": 90,
   "source": [
    "allWords = np.array(list(frequency.keys()))\r\n",
    "allCounts = np.array(list(frequency.values()))"
   ],
   "outputs": [],
   "metadata": {}
  },
  {
   "cell_type": "code",
   "execution_count": 91,
   "source": [
    "vocab = allWords[allCounts >= cutOffValue]\r\n",
    "wordCounts = allCounts[allCounts >= cutOffValue]"
   ],
   "outputs": [],
   "metadata": {}
  },
  {
   "cell_type": "code",
   "execution_count": 92,
   "source": [
    "print(\"All Words: \",len(allWords))\r\n",
    "print(allWords[:10])\r\n",
    "print(allCounts[:10])\r\n",
    "\r\n",
    "print('~~~~~~~~~~~~~~~~~~~~~~~~~~~~~~~~~~~~~~~~~~~~~~~~~~~~~~~~~~~~~~~')\r\n",
    "\r\n",
    "print(\"Vocab Length: \",len(vocab))\r\n",
    "print(vocab[:10])\r\n",
    "print(wordCounts[:10])"
   ],
   "outputs": [
    {
     "output_type": "stream",
     "name": "stdout",
     "text": [
      "All Words:  49743\n",
      "['' 'Comment' '0' 'Sai' 'kha' 'ya' 'her' 'kisi' 'kay' 'bus']\n",
      "[  1   2  26   4  54 306  35 377 584  51]\n",
      "~~~~~~~~~~~~~~~~~~~~~~~~~~~~~~~~~~~~~~~~~~~~~~~~~~~~~~~~~~~~~~~\n",
      "Vocab Length:  15505\n",
      "['0' 'Sai' 'kha' 'ya' 'her' 'kisi' 'kay' 'bus' 'ki' 'bat']\n",
      "[  26    4   54  306   35  377  584   51 7426  230]\n"
     ]
    }
   ],
   "metadata": {}
  },
  {
   "cell_type": "markdown",
   "source": [],
   "metadata": {}
  }
 ],
 "metadata": {
  "interpreter": {
   "hash": "bd76af128d7c40b48583a811a9c1879190eadb08cc3a308c5c2f1ddbc04e5a8b"
  },
  "kernelspec": {
   "name": "python3",
   "display_name": "Python 3.7.1 64-bit (system)"
  },
  "language_info": {
   "codemirror_mode": {
    "name": "ipython",
    "version": 3
   },
   "file_extension": ".py",
   "mimetype": "text/x-python",
   "name": "python",
   "nbconvert_exporter": "python",
   "pygments_lexer": "ipython3",
   "version": "3.7.1"
  }
 },
 "nbformat": 4,
 "nbformat_minor": 2
}